{
  "nbformat": 4,
  "nbformat_minor": 0,
  "metadata": {
    "colab": {
      "name": "Flatland.ipynb",
      "provenance": [],
      "collapsed_sections": []
    },
    "kernelspec": {
      "name": "python3",
      "display_name": "Python 3"
    },
    "language_info": {
      "name": "python"
    },
    "accelerator": "GPU"
  },
  "cells": [
    {
      "cell_type": "code",
      "execution_count": 96,
      "metadata": {
        "id": "TESHA8fBejun"
      },
      "outputs": [],
      "source": [
        "import gzip\n",
        "import pickle\n",
        "import numpy as np\n",
        "import matplotlib.pyplot as plt\n",
        "import pandas as pd\n",
        "from tensorflow import keras\n",
        "from google.colab import files\n",
        "from collections import Counter\n",
        "from sklearn.model_selection import train_test_split\n"
      ]
    },
    {
      "cell_type": "code",
      "source": [
        "uploaded=files.upload()"
      ],
      "metadata": {
        "colab": {
          "resources": {
            "http://localhost:8080/nbextensions/google.colab/files.js": {
              "data": "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",
              "ok": true,
              "headers": [
                [
                  "content-type",
                  "application/javascript"
                ]
              ],
              "status": 200,
              "status_text": ""
            }
          },
          "base_uri": "https://localhost:8080/",
          "height": 74
        },
        "id": "IQyxlpvRgxWZ",
        "outputId": "d064c8ce-9331-4c62-f903-98c39de1aad0"
      },
      "execution_count": 3,
      "outputs": [
        {
          "output_type": "display_data",
          "data": {
            "text/html": [
              "\n",
              "     <input type=\"file\" id=\"files-940128ef-37a2-42ea-b3db-88597fd75d39\" name=\"files[]\" multiple disabled\n",
              "        style=\"border:none\" />\n",
              "     <output id=\"result-940128ef-37a2-42ea-b3db-88597fd75d39\">\n",
              "      Upload widget is only available when the cell has been executed in the\n",
              "      current browser session. Please rerun this cell to enable.\n",
              "      </output>\n",
              "      <script src=\"/nbextensions/google.colab/files.js\"></script> "
            ],
            "text/plain": [
              "<IPython.core.display.HTML object>"
            ]
          },
          "metadata": {}
        },
        {
          "output_type": "stream",
          "name": "stdout",
          "text": [
            "Saving flatland_train.data to flatland_train.data\n"
          ]
        }
      ]
    },
    {
      "cell_type": "code",
      "source": [
        "def evaluate(path, model):\n",
        "    X, y = pickle.load(gzip.open(path, 'rb'))\n",
        "    y[y != 0] -= 2\n",
        "    X = X / 255.\n",
        "    acc = np.mean(model(X).numpy().argmax(axis=1) == y)\n",
        "    return acc"
      ],
      "metadata": {
        "id": "-HAEbSLsg3Z-"
      },
      "execution_count": 4,
      "outputs": []
    },
    {
      "cell_type": "code",
      "source": [
        "path = 'flatland_train.data'\n",
        "X, y = pickle.load(gzip.open(path, 'rb')) #(10000,50,50)\n",
        "\n",
        "#data pre-proc\n",
        "y[y != 0] -= 2 #jei klasė ne nulis, atimk iš jos 2, labels from (0, 4)\n",
        "X = X / 255. #normalizuojam data, kad pixeliai butu rezyje (0,1)"
      ],
      "metadata": {
        "id": "nG1zLWAfgGQ7"
      },
      "execution_count": 5,
      "outputs": []
    },
    {
      "cell_type": "code",
      "source": [
        "X_train, X_test, y_train, y_test = train_test_split(X, y, test_size=0.3, random_state=42)"
      ],
      "metadata": {
        "id": "owGnOmGKnCCU"
      },
      "execution_count": 6,
      "outputs": []
    },
    {
      "cell_type": "code",
      "source": [
        "X_train.shape"
      ],
      "metadata": {
        "colab": {
          "base_uri": "https://localhost:8080/"
        },
        "id": "6VuwUTlNnPID",
        "outputId": "2b9c15f0-c6fc-410c-da6f-7079f442b37b"
      },
      "execution_count": 7,
      "outputs": [
        {
          "output_type": "execute_result",
          "data": {
            "text/plain": [
              "(7000, 50, 50)"
            ]
          },
          "metadata": {},
          "execution_count": 7
        }
      ]
    },
    {
      "cell_type": "code",
      "source": [
        "X_test.shape"
      ],
      "metadata": {
        "colab": {
          "base_uri": "https://localhost:8080/"
        },
        "id": "lUWe_YOKnTD7",
        "outputId": "9780aeac-50bf-4363-e6a0-1817663eefea"
      },
      "execution_count": 8,
      "outputs": [
        {
          "output_type": "execute_result",
          "data": {
            "text/plain": [
              "(3000, 50, 50)"
            ]
          },
          "metadata": {},
          "execution_count": 8
        }
      ]
    },
    {
      "cell_type": "code",
      "source": [
        "y_train"
      ],
      "metadata": {
        "colab": {
          "base_uri": "https://localhost:8080/"
        },
        "id": "QL4nPAMcVoeN",
        "outputId": "5818f484-1594-49ed-f9a9-0d7bc347ca1b"
      },
      "execution_count": 12,
      "outputs": [
        {
          "output_type": "execute_result",
          "data": {
            "text/plain": [
              "array([1., 0., 3., ..., 3., 1., 4.])"
            ]
          },
          "metadata": {},
          "execution_count": 12
        }
      ]
    },
    {
      "cell_type": "code",
      "source": [
        "for i in range (5): #nes eilutėje turime 5 elementus, sužinome kuriuose indeksuose kiekvienos grupės elementai atsiranda\n",
        "  print (np.where(y_train ==i)[0][0])"
      ],
      "metadata": {
        "colab": {
          "base_uri": "https://localhost:8080/"
        },
        "id": "XrJqpBuHVtK_",
        "outputId": "8ef5c3c2-7fed-4d2b-9387-3ad1a41fe66f"
      },
      "execution_count": 9,
      "outputs": [
        {
          "output_type": "stream",
          "name": "stdout",
          "text": [
            "1\n",
            "0\n",
            "9\n",
            "2\n",
            "7\n"
          ]
        }
      ]
    },
    {
      "cell_type": "code",
      "source": [
        "for i in range (5): #atspausdiname po elementą iš kiekvienos grupės\n",
        "  idx=np.where(y_train==i)[0][0]\n",
        "  plt.subplot(2,5,i+1)\n",
        "  plt.imshow(X_train[idx], cmap='Blues')\n",
        "  plt.title(i)\n",
        "  plt.axis('off')"
      ],
      "metadata": {
        "colab": {
          "base_uri": "https://localhost:8080/",
          "height": 105
        },
        "id": "6dOGCCDfV57G",
        "outputId": "98fdd9c4-53d6-408a-dca3-62c914b174dd"
      },
      "execution_count": 10,
      "outputs": [
        {
          "output_type": "display_data",
          "data": {
            "image/png": "[encoded data removed]",
            "text/plain": [
              "<Figure size 432x288 with 5 Axes>"
            ]
          },
          "metadata": {
            "needs_background": "light"
          }
        }
      ]
    },
    {
      "cell_type": "code",
      "source": [
        "Counter(y) #suskaičiuojame, kiek elementų yra kiekvienoje grupėje"
      ],
      "metadata": {
        "colab": {
          "base_uri": "https://localhost:8080/"
        },
        "id": "Dz-R-VNNobtF",
        "outputId": "b6f58e55-53c9-4e50-c1e7-654a722596b6"
      },
      "execution_count": 11,
      "outputs": [
        {
          "output_type": "execute_result",
          "data": {
            "text/plain": [
              "Counter({0.0: 1381, 1.0: 2853, 2.0: 1868, 3.0: 2137, 4.0: 1761})"
            ]
          },
          "metadata": {},
          "execution_count": 11
        }
      ]
    },
    {
      "cell_type": "code",
      "source": [
        "y"
      ],
      "metadata": {
        "colab": {
          "base_uri": "https://localhost:8080/"
        },
        "id": "j2M_WZPdofTS",
        "outputId": "a9f55075-69b2-42fd-e8af-b274a7d615f6"
      },
      "execution_count": 12,
      "outputs": [
        {
          "output_type": "execute_result",
          "data": {
            "text/plain": [
              "array([2., 4., 3., ..., 4., 4., 3.])"
            ]
          },
          "metadata": {},
          "execution_count": 12
        }
      ]
    },
    {
      "cell_type": "code",
      "source": [
        "X_train[0]"
      ],
      "metadata": {
        "colab": {
          "base_uri": "https://localhost:8080/"
        },
        "id": "s5sZWjZPgQpI",
        "outputId": "adccfd4a-6ad9-4ba1-b18e-1131255a90d3"
      },
      "execution_count": 13,
      "outputs": [
        {
          "output_type": "execute_result",
          "data": {
            "text/plain": [
              "array([[0., 0., 0., ..., 0., 0., 0.],\n",
              "       [0., 0., 0., ..., 0., 0., 0.],\n",
              "       [0., 0., 0., ..., 0., 0., 0.],\n",
              "       ...,\n",
              "       [0., 0., 0., ..., 0., 0., 0.],\n",
              "       [0., 0., 0., ..., 0., 0., 0.],\n",
              "       [0., 0., 0., ..., 0., 0., 0.]])"
            ]
          },
          "metadata": {},
          "execution_count": 13
        }
      ]
    },
    {
      "cell_type": "markdown",
      "source": [
        "# **DNN**"
      ],
      "metadata": {
        "id": "MfdesNhjRBOV"
      }
    },
    {
      "cell_type": "markdown",
      "source": [
        "Pačiame pradiniame modelyje išbandžiau visokius optimizer'ius, pavyzdžiui STG, Adam (nepriskiriant learning_rate), tačiau su jais nesugebėjau parinkti tokio learning_rate, kad val_loss nešokinėtų, todėl pasirinkau dirbti su Adam optimizacija, priskiriant learning_rate 3e-4.\n",
        "Taip pat šitame modelyje matome ganėtinai didelį sluoksnių skaičių, tačiau parenkant mažesnį gauname labai mažą tikslumą (bent jau kiek aš sugebėjau išbandyti).\n",
        "Gautą modelį taip pat sunku pavadinti geru, kai yra toks didelis skirtumas tarp loss ir val_loss, labiau panašu į overfit'ą."
      ],
      "metadata": {
        "id": "qtLnGRklVtTJ"
      }
    },
    {
      "cell_type": "code",
      "source": [
        "model = keras.models.Sequential()\n",
        "model.add(keras.layers.Flatten(input_shape=(50,50))) #(50,50), nes toks yra objektų dydis\n",
        "model.add(keras.layers.Dense(100, activation='relu'))\n",
        "model.add(keras.layers.Dense(75, activation='relu'))\n",
        "model.add(keras.layers.Dense(50, activation='relu'))\n",
        "model.add(keras.layers.Dense(25, activation='relu'))\n",
        "model.add(keras.layers.Dense(10, activation='softmax'))\n",
        "model.compile(loss='sparse_categorical_crossentropy', \n",
        "              optimizer=keras.optimizers.Adam(learning_rate=3e-4), \n",
        "              metrics=['accuracy'])\n",
        "model.summary()"
      ],
      "metadata": {
        "colab": {
          "base_uri": "https://localhost:8080/"
        },
        "id": "b66CC9PBhW3U",
        "outputId": "cfa79019-d0d3-4c83-9edc-d9f5d27f49aa"
      },
      "execution_count": 105,
      "outputs": [
        {
          "output_type": "stream",
          "name": "stdout",
          "text": [
            "Model: \"sequential_26\"\n",
            "_________________________________________________________________\n",
            " Layer (type)                Output Shape              Param #   \n",
            "=================================================================\n",
            " flatten_26 (Flatten)        (None, 2500)              0         \n",
            "                                                                 \n",
            " dense_130 (Dense)           (None, 100)               250100    \n",
            "                                                                 \n",
            " dense_131 (Dense)           (None, 75)                7575      \n",
            "                                                                 \n",
            " dense_132 (Dense)           (None, 50)                3800      \n",
            "                                                                 \n",
            " dense_133 (Dense)           (None, 25)                1275      \n",
            "                                                                 \n",
            " dense_134 (Dense)           (None, 10)                260       \n",
            "                                                                 \n",
            "=================================================================\n",
            "Total params: 263,010\n",
            "Trainable params: 263,010\n",
            "Non-trainable params: 0\n",
            "_________________________________________________________________\n"
          ]
        }
      ]
    },
    {
      "cell_type": "code",
      "source": [
        "loss = model.fit(X_train, y_train, validation_data=(X_test, y_test), epochs=30)"
      ],
      "metadata": {
        "colab": {
          "base_uri": "https://localhost:8080/"
        },
        "id": "aphSSNcWnuSh",
        "outputId": "a96058ee-12dc-43d6-f130-388af1397a4e"
      },
      "execution_count": 106,
      "outputs": [
        {
          "output_type": "stream",
          "name": "stdout",
          "text": [
            "Epoch 1/30\n",
            "219/219 [==============================] - 3s 9ms/step - loss: 1.5690 - accuracy: 0.3826 - val_loss: 1.2421 - val_accuracy: 0.4777\n",
            "Epoch 2/30\n",
            "219/219 [==============================] - 2s 8ms/step - loss: 1.1784 - accuracy: 0.5107 - val_loss: 1.1512 - val_accuracy: 0.4993\n",
            "Epoch 3/30\n",
            "219/219 [==============================] - 2s 7ms/step - loss: 1.0422 - accuracy: 0.5693 - val_loss: 1.0549 - val_accuracy: 0.5520\n",
            "Epoch 4/30\n",
            "219/219 [==============================] - 2s 7ms/step - loss: 0.9094 - accuracy: 0.6284 - val_loss: 0.9090 - val_accuracy: 0.6253\n",
            "Epoch 5/30\n",
            "219/219 [==============================] - 2s 7ms/step - loss: 0.7978 - accuracy: 0.6791 - val_loss: 0.8337 - val_accuracy: 0.6553\n",
            "Epoch 6/30\n",
            "219/219 [==============================] - 2s 7ms/step - loss: 0.7135 - accuracy: 0.7076 - val_loss: 0.7837 - val_accuracy: 0.6713\n",
            "Epoch 7/30\n",
            "219/219 [==============================] - 2s 8ms/step - loss: 0.6427 - accuracy: 0.7487 - val_loss: 0.7334 - val_accuracy: 0.6957\n",
            "Epoch 8/30\n",
            "219/219 [==============================] - 2s 7ms/step - loss: 0.5953 - accuracy: 0.7679 - val_loss: 0.7167 - val_accuracy: 0.7010\n",
            "Epoch 9/30\n",
            "219/219 [==============================] - 2s 8ms/step - loss: 0.5497 - accuracy: 0.7816 - val_loss: 0.7103 - val_accuracy: 0.7120\n",
            "Epoch 10/30\n",
            "219/219 [==============================] - 2s 8ms/step - loss: 0.5285 - accuracy: 0.7904 - val_loss: 0.7373 - val_accuracy: 0.7007\n",
            "Epoch 11/30\n",
            "219/219 [==============================] - 2s 8ms/step - loss: 0.4953 - accuracy: 0.8004 - val_loss: 0.6679 - val_accuracy: 0.7383\n",
            "Epoch 12/30\n",
            "219/219 [==============================] - 2s 8ms/step - loss: 0.4628 - accuracy: 0.8187 - val_loss: 0.6608 - val_accuracy: 0.7253\n",
            "Epoch 13/30\n",
            "219/219 [==============================] - 2s 10ms/step - loss: 0.4392 - accuracy: 0.8240 - val_loss: 0.6412 - val_accuracy: 0.7470\n",
            "Epoch 14/30\n",
            "219/219 [==============================] - 2s 7ms/step - loss: 0.4200 - accuracy: 0.8297 - val_loss: 0.6308 - val_accuracy: 0.7597\n",
            "Epoch 15/30\n",
            "219/219 [==============================] - 2s 7ms/step - loss: 0.3881 - accuracy: 0.8430 - val_loss: 0.6621 - val_accuracy: 0.7603\n",
            "Epoch 16/30\n",
            "219/219 [==============================] - 2s 7ms/step - loss: 0.3773 - accuracy: 0.8457 - val_loss: 0.6270 - val_accuracy: 0.7620\n",
            "Epoch 17/30\n",
            "219/219 [==============================] - 2s 7ms/step - loss: 0.3638 - accuracy: 0.8563 - val_loss: 0.6377 - val_accuracy: 0.7710\n",
            "Epoch 18/30\n",
            "219/219 [==============================] - 2s 8ms/step - loss: 0.3214 - accuracy: 0.8719 - val_loss: 0.6144 - val_accuracy: 0.7720\n",
            "Epoch 19/30\n",
            "219/219 [==============================] - 2s 7ms/step - loss: 0.3056 - accuracy: 0.8796 - val_loss: 0.6207 - val_accuracy: 0.7793\n",
            "Epoch 20/30\n",
            "219/219 [==============================] - 2s 7ms/step - loss: 0.3072 - accuracy: 0.8803 - val_loss: 0.6530 - val_accuracy: 0.7763\n",
            "Epoch 21/30\n",
            "219/219 [==============================] - 2s 7ms/step - loss: 0.2742 - accuracy: 0.8953 - val_loss: 0.6342 - val_accuracy: 0.7897\n",
            "Epoch 22/30\n",
            "219/219 [==============================] - 2s 7ms/step - loss: 0.2535 - accuracy: 0.9053 - val_loss: 0.6251 - val_accuracy: 0.7837\n",
            "Epoch 23/30\n",
            "219/219 [==============================] - 2s 7ms/step - loss: 0.2295 - accuracy: 0.9140 - val_loss: 0.6654 - val_accuracy: 0.7857\n",
            "Epoch 24/30\n",
            "219/219 [==============================] - 2s 8ms/step - loss: 0.2229 - accuracy: 0.9149 - val_loss: 0.6061 - val_accuracy: 0.8110\n",
            "Epoch 25/30\n",
            "219/219 [==============================] - 2s 8ms/step - loss: 0.2055 - accuracy: 0.9244 - val_loss: 0.6350 - val_accuracy: 0.8013\n",
            "Epoch 26/30\n",
            "219/219 [==============================] - 2s 8ms/step - loss: 0.1826 - accuracy: 0.9343 - val_loss: 0.6902 - val_accuracy: 0.8073\n",
            "Epoch 27/30\n",
            "219/219 [==============================] - 2s 7ms/step - loss: 0.1960 - accuracy: 0.9274 - val_loss: 0.6405 - val_accuracy: 0.8087\n",
            "Epoch 28/30\n",
            "219/219 [==============================] - 2s 7ms/step - loss: 0.1710 - accuracy: 0.9391 - val_loss: 0.6442 - val_accuracy: 0.8193\n",
            "Epoch 29/30\n",
            "219/219 [==============================] - 2s 7ms/step - loss: 0.1528 - accuracy: 0.9483 - val_loss: 0.5725 - val_accuracy: 0.8370\n",
            "Epoch 30/30\n",
            "219/219 [==============================] - 2s 7ms/step - loss: 0.1274 - accuracy: 0.9581 - val_loss: 0.6297 - val_accuracy: 0.8347\n"
          ]
        }
      ]
    },
    {
      "cell_type": "code",
      "source": [
        "pd.DataFrame(loss.history)[['loss', 'val_loss']]"
      ],
      "metadata": {
        "colab": {
          "base_uri": "https://localhost:8080/",
          "height": 990
        },
        "id": "5vZo_Oz1eCHZ",
        "outputId": "00a8f993-6317-4fd9-8724-826510c38aa9"
      },
      "execution_count": 107,
      "outputs": [
        {
          "output_type": "execute_result",
          "data": {
            "text/html": [
              "\n",
              "  <div id=\"df-ff71d383-870a-41b2-9c02-066e5c7a9e4e\">\n",
              "    <div class=\"colab-df-container\">\n",
              "      <div>\n",
              "<style scoped>\n",
              "    .dataframe tbody tr th:only-of-type {\n",
              "        vertical-align: middle;\n",
              "    }\n",
              "\n",
              "    .dataframe tbody tr th {\n",
              "        vertical-align: top;\n",
              "    }\n",
              "\n",
              "    .dataframe thead th {\n",
              "        text-align: right;\n",
              "    }\n",
              "</style>\n",
              "<table border=\"1\" class=\"dataframe\">\n",
              "  <thead>\n",
              "    <tr style=\"text-align: right;\">\n",
              "      <th></th>\n",
              "      <th>loss</th>\n",
              "      <th>val_loss</th>\n",
              "    </tr>\n",
              "  </thead>\n",
              "  <tbody>\n",
              "    <tr>\n",
              "      <th>0</th>\n",
              "      <td>1.568955</td>\n",
              "      <td>1.242149</td>\n",
              "    </tr>\n",
              "    <tr>\n",
              "      <th>1</th>\n",
              "      <td>1.178412</td>\n",
              "      <td>1.151224</td>\n",
              "    </tr>\n",
              "    <tr>\n",
              "      <th>2</th>\n",
              "      <td>1.042222</td>\n",
              "      <td>1.054948</td>\n",
              "    </tr>\n",
              "    <tr>\n",
              "      <th>3</th>\n",
              "      <td>0.909352</td>\n",
              "      <td>0.909014</td>\n",
              "    </tr>\n",
              "    <tr>\n",
              "      <th>4</th>\n",
              "      <td>0.797843</td>\n",
              "      <td>0.833724</td>\n",
              "    </tr>\n",
              "    <tr>\n",
              "      <th>5</th>\n",
              "      <td>0.713484</td>\n",
              "      <td>0.783689</td>\n",
              "    </tr>\n",
              "    <tr>\n",
              "      <th>6</th>\n",
              "      <td>0.642736</td>\n",
              "      <td>0.733419</td>\n",
              "    </tr>\n",
              "    <tr>\n",
              "      <th>7</th>\n",
              "      <td>0.595320</td>\n",
              "      <td>0.716676</td>\n",
              "    </tr>\n",
              "    <tr>\n",
              "      <th>8</th>\n",
              "      <td>0.549685</td>\n",
              "      <td>0.710342</td>\n",
              "    </tr>\n",
              "    <tr>\n",
              "      <th>9</th>\n",
              "      <td>0.528505</td>\n",
              "      <td>0.737258</td>\n",
              "    </tr>\n",
              "    <tr>\n",
              "      <th>10</th>\n",
              "      <td>0.495285</td>\n",
              "      <td>0.667867</td>\n",
              "    </tr>\n",
              "    <tr>\n",
              "      <th>11</th>\n",
              "      <td>0.462790</td>\n",
              "      <td>0.660816</td>\n",
              "    </tr>\n",
              "    <tr>\n",
              "      <th>12</th>\n",
              "      <td>0.439187</td>\n",
              "      <td>0.641162</td>\n",
              "    </tr>\n",
              "    <tr>\n",
              "      <th>13</th>\n",
              "      <td>0.420050</td>\n",
              "      <td>0.630803</td>\n",
              "    </tr>\n",
              "    <tr>\n",
              "      <th>14</th>\n",
              "      <td>0.388103</td>\n",
              "      <td>0.662072</td>\n",
              "    </tr>\n",
              "    <tr>\n",
              "      <th>15</th>\n",
              "      <td>0.377312</td>\n",
              "      <td>0.626974</td>\n",
              "    </tr>\n",
              "    <tr>\n",
              "      <th>16</th>\n",
              "      <td>0.363827</td>\n",
              "      <td>0.637685</td>\n",
              "    </tr>\n",
              "    <tr>\n",
              "      <th>17</th>\n",
              "      <td>0.321386</td>\n",
              "      <td>0.614431</td>\n",
              "    </tr>\n",
              "    <tr>\n",
              "      <th>18</th>\n",
              "      <td>0.305586</td>\n",
              "      <td>0.620706</td>\n",
              "    </tr>\n",
              "    <tr>\n",
              "      <th>19</th>\n",
              "      <td>0.307218</td>\n",
              "      <td>0.652970</td>\n",
              "    </tr>\n",
              "    <tr>\n",
              "      <th>20</th>\n",
              "      <td>0.274215</td>\n",
              "      <td>0.634222</td>\n",
              "    </tr>\n",
              "    <tr>\n",
              "      <th>21</th>\n",
              "      <td>0.253468</td>\n",
              "      <td>0.625059</td>\n",
              "    </tr>\n",
              "    <tr>\n",
              "      <th>22</th>\n",
              "      <td>0.229507</td>\n",
              "      <td>0.665400</td>\n",
              "    </tr>\n",
              "    <tr>\n",
              "      <th>23</th>\n",
              "      <td>0.222946</td>\n",
              "      <td>0.606077</td>\n",
              "    </tr>\n",
              "    <tr>\n",
              "      <th>24</th>\n",
              "      <td>0.205483</td>\n",
              "      <td>0.634992</td>\n",
              "    </tr>\n",
              "    <tr>\n",
              "      <th>25</th>\n",
              "      <td>0.182602</td>\n",
              "      <td>0.690189</td>\n",
              "    </tr>\n",
              "    <tr>\n",
              "      <th>26</th>\n",
              "      <td>0.196009</td>\n",
              "      <td>0.640475</td>\n",
              "    </tr>\n",
              "    <tr>\n",
              "      <th>27</th>\n",
              "      <td>0.171041</td>\n",
              "      <td>0.644190</td>\n",
              "    </tr>\n",
              "    <tr>\n",
              "      <th>28</th>\n",
              "      <td>0.152794</td>\n",
              "      <td>0.572519</td>\n",
              "    </tr>\n",
              "    <tr>\n",
              "      <th>29</th>\n",
              "      <td>0.127359</td>\n",
              "      <td>0.629683</td>\n",
              "    </tr>\n",
              "  </tbody>\n",
              "</table>\n",
              "</div>\n",
              "      <button class=\"colab-df-convert\" onclick=\"convertToInteractive('df-ff71d383-870a-41b2-9c02-066e5c7a9e4e')\"\n",
              "              title=\"Convert this dataframe to an interactive table.\"\n",
              "              style=\"display:none;\">\n",
              "        \n",
              "  <svg xmlns=\"http://www.w3.org/2000/svg\" height=\"24px\"viewBox=\"0 0 24 24\"\n",
              "       width=\"24px\">\n",
              "    <path d=\"M0 0h24v24H0V0z\" fill=\"none\"/>\n",
              "    <path d=\"M18.56 5.44l.94 2.06.94-2.06 2.06-.94-2.06-.94-.94-2.06-.94 2.06-2.06.94zm-11 1L8.5 8.5l.94-2.06 2.06-.94-2.06-.94L8.5 2.5l-.94 2.06-2.06.94zm10 10l.94 2.06.94-2.06 2.06-.94-2.06-.94-.94-2.06-.94 2.06-2.06.94z\"/><path d=\"M17.41 7.96l-1.37-1.37c-.4-.4-.92-.59-1.43-.59-.52 0-1.04.2-1.43.59L10.3 9.45l-7.72 7.72c-.78.78-.78 2.05 0 2.83L4 21.41c.39.39.9.59 1.41.59.51 0 1.02-.2 1.41-.59l7.78-7.78 2.81-2.81c.8-.78.8-2.07 0-2.86zM5.41 20L4 18.59l7.72-7.72 1.47 1.35L5.41 20z\"/>\n",
              "  </svg>\n",
              "      </button>\n",
              "      \n",
              "  <style>\n",
              "    .colab-df-container {\n",
              "      display:flex;\n",
              "      flex-wrap:wrap;\n",
              "      gap: 12px;\n",
              "    }\n",
              "\n",
              "    .colab-df-convert {\n",
              "      background-color: #E8F0FE;\n",
              "      border: none;\n",
              "      border-radius: 50%;\n",
              "      cursor: pointer;\n",
              "      display: none;\n",
              "      fill: #1967D2;\n",
              "      height: 32px;\n",
              "      padding: 0 0 0 0;\n",
              "      width: 32px;\n",
              "    }\n",
              "\n",
              "    .colab-df-convert:hover {\n",
              "      background-color: #E2EBFA;\n",
              "      box-shadow: 0px 1px 2px rgba(60, 64, 67, 0.3), 0px 1px 3px 1px rgba(60, 64, 67, 0.15);\n",
              "      fill: #174EA6;\n",
              "    }\n",
              "\n",
              "    [theme=dark] .colab-df-convert {\n",
              "      background-color: #3B4455;\n",
              "      fill: #D2E3FC;\n",
              "    }\n",
              "\n",
              "    [theme=dark] .colab-df-convert:hover {\n",
              "      background-color: #434B5C;\n",
              "      box-shadow: 0px 1px 3px 1px rgba(0, 0, 0, 0.15);\n",
              "      filter: drop-shadow(0px 1px 2px rgba(0, 0, 0, 0.3));\n",
              "      fill: #FFFFFF;\n",
              "    }\n",
              "  </style>\n",
              "\n",
              "      <script>\n",
              "        const buttonEl =\n",
              "          document.querySelector('#df-ff71d383-870a-41b2-9c02-066e5c7a9e4e button.colab-df-convert');\n",
              "        buttonEl.style.display =\n",
              "          google.colab.kernel.accessAllowed ? 'block' : 'none';\n",
              "\n",
              "        async function convertToInteractive(key) {\n",
              "          const element = document.querySelector('#df-ff71d383-870a-41b2-9c02-066e5c7a9e4e');\n",
              "          const dataTable =\n",
              "            await google.colab.kernel.invokeFunction('convertToInteractive',\n",
              "                                                     [key], {});\n",
              "          if (!dataTable) return;\n",
              "\n",
              "          const docLinkHtml = 'Like what you see? Visit the ' +\n",
              "            '<a target=\"_blank\" href=https://colab.research.google.com/notebooks/data_table.ipynb>data table notebook</a>'\n",
              "            + ' to learn more about interactive tables.';\n",
              "          element.innerHTML = '';\n",
              "          dataTable['output_type'] = 'display_data';\n",
              "          await google.colab.output.renderOutput(dataTable, element);\n",
              "          const docLink = document.createElement('div');\n",
              "          docLink.innerHTML = docLinkHtml;\n",
              "          element.appendChild(docLink);\n",
              "        }\n",
              "      </script>\n",
              "    </div>\n",
              "  </div>\n",
              "  "
            ],
            "text/plain": [
              "        loss  val_loss\n",
              "0   1.568955  1.242149\n",
              "1   1.178412  1.151224\n",
              "2   1.042222  1.054948\n",
              "3   0.909352  0.909014\n",
              "4   0.797843  0.833724\n",
              "5   0.713484  0.783689\n",
              "6   0.642736  0.733419\n",
              "7   0.595320  0.716676\n",
              "8   0.549685  0.710342\n",
              "9   0.528505  0.737258\n",
              "10  0.495285  0.667867\n",
              "11  0.462790  0.660816\n",
              "12  0.439187  0.641162\n",
              "13  0.420050  0.630803\n",
              "14  0.388103  0.662072\n",
              "15  0.377312  0.626974\n",
              "16  0.363827  0.637685\n",
              "17  0.321386  0.614431\n",
              "18  0.305586  0.620706\n",
              "19  0.307218  0.652970\n",
              "20  0.274215  0.634222\n",
              "21  0.253468  0.625059\n",
              "22  0.229507  0.665400\n",
              "23  0.222946  0.606077\n",
              "24  0.205483  0.634992\n",
              "25  0.182602  0.690189\n",
              "26  0.196009  0.640475\n",
              "27  0.171041  0.644190\n",
              "28  0.152794  0.572519\n",
              "29  0.127359  0.629683"
            ]
          },
          "metadata": {},
          "execution_count": 107
        }
      ]
    },
    {
      "cell_type": "code",
      "source": [
        "pd.DataFrame(loss.history)[['loss', 'val_loss']].plot()"
      ],
      "metadata": {
        "colab": {
          "base_uri": "https://localhost:8080/",
          "height": 282
        },
        "id": "bnezJEY0htP4",
        "outputId": "dacb4b6e-bd46-4339-f185-dd1654a3acdb"
      },
      "execution_count": 108,
      "outputs": [
        {
          "output_type": "execute_result",
          "data": {
            "text/plain": [
              "<matplotlib.axes._subplots.AxesSubplot at 0x7f76621d1110>"
            ]
          },
          "metadata": {},
          "execution_count": 108
        },
        {
          "output_type": "display_data",
          "data": {
            "image/png": "[encoded data removed]",
            "text/plain": [
              "<Figure size 432x288 with 1 Axes>"
            ]
          },
          "metadata": {
            "needs_background": "light"
          }
        }
      ]
    },
    {
      "cell_type": "markdown",
      "source": [
        "# **Overfit**"
      ],
      "metadata": {
        "id": "CM7-GfEnrgrJ"
      }
    },
    {
      "cell_type": "markdown",
      "source": [
        "Nors praeitas modelis ir yra panašus į overfit'ą, tačiau norėjau padaryti aiškesnį. Kaip matome, pridėjau daugiau sluoksnių ir padidinau density. Didinau sluoksnių skaičių tol, kol gavau, jog va_loss pradeda kilti (nuo apytiksliai 15 epochos)"
      ],
      "metadata": {
        "id": "iHJylBSTXmjv"
      }
    },
    {
      "cell_type": "code",
      "source": [
        "model = keras.models.Sequential()\n",
        "model.add(keras.layers.Flatten(input_shape=(50,50)))\n",
        "model.add(keras.layers.Dense(1000, activation='relu'))\n",
        "model.add(keras.layers.Dense(500, activation='relu'))\n",
        "model.add(keras.layers.Dense(250, activation='relu'))\n",
        "model.add(keras.layers.Dense(125, activation='relu'))\n",
        "model.add(keras.layers.Dense(60, activation='relu'))\n",
        "model.add(keras.layers.Dense(30, activation='relu'))\n",
        "model.add(keras.layers.Dense(10, activation='softmax'))\n",
        "model.compile(loss='sparse_categorical_crossentropy', \n",
        "              optimizer=keras.optimizers.Adam(learning_rate=3e-4), \n",
        "              metrics=['accuracy'])\n",
        "model.summary()"
      ],
      "metadata": {
        "colab": {
          "base_uri": "https://localhost:8080/"
        },
        "id": "sn7jlfKhsE2n",
        "outputId": "c2052997-a375-4603-df5e-707bd278e188"
      },
      "execution_count": 109,
      "outputs": [
        {
          "output_type": "stream",
          "name": "stdout",
          "text": [
            "Model: \"sequential_27\"\n",
            "_________________________________________________________________\n",
            " Layer (type)                Output Shape              Param #   \n",
            "=================================================================\n",
            " flatten_27 (Flatten)        (None, 2500)              0         \n",
            "                                                                 \n",
            " dense_135 (Dense)           (None, 1000)              2501000   \n",
            "                                                                 \n",
            " dense_136 (Dense)           (None, 500)               500500    \n",
            "                                                                 \n",
            " dense_137 (Dense)           (None, 250)               125250    \n",
            "                                                                 \n",
            " dense_138 (Dense)           (None, 125)               31375     \n",
            "                                                                 \n",
            " dense_139 (Dense)           (None, 60)                7560      \n",
            "                                                                 \n",
            " dense_140 (Dense)           (None, 30)                1830      \n",
            "                                                                 \n",
            " dense_141 (Dense)           (None, 10)                310       \n",
            "                                                                 \n",
            "=================================================================\n",
            "Total params: 3,167,825\n",
            "Trainable params: 3,167,825\n",
            "Non-trainable params: 0\n",
            "_________________________________________________________________\n"
          ]
        }
      ]
    },
    {
      "cell_type": "code",
      "source": [
        "loss = model.fit(X_train, y_train, validation_data=(X_test, y_test), epochs=20)"
      ],
      "metadata": {
        "colab": {
          "base_uri": "https://localhost:8080/"
        },
        "id": "5jF464aqsqUd",
        "outputId": "9c605f05-2321-49e1-9f58-072778fc2b3d"
      },
      "execution_count": 110,
      "outputs": [
        {
          "output_type": "stream",
          "name": "stdout",
          "text": [
            "Epoch 1/20\n",
            "219/219 [==============================] - 10s 42ms/step - loss: 1.3644 - accuracy: 0.4293 - val_loss: 1.2051 - val_accuracy: 0.4857\n",
            "Epoch 2/20\n",
            "219/219 [==============================] - 9s 41ms/step - loss: 1.0662 - accuracy: 0.5504 - val_loss: 0.9720 - val_accuracy: 0.5863\n",
            "Epoch 3/20\n",
            "219/219 [==============================] - 9s 41ms/step - loss: 0.7902 - accuracy: 0.6657 - val_loss: 0.8083 - val_accuracy: 0.6547\n",
            "Epoch 4/20\n",
            "219/219 [==============================] - 9s 40ms/step - loss: 0.6667 - accuracy: 0.7176 - val_loss: 0.7393 - val_accuracy: 0.6883\n",
            "Epoch 5/20\n",
            "219/219 [==============================] - 9s 40ms/step - loss: 0.5852 - accuracy: 0.7547 - val_loss: 0.7600 - val_accuracy: 0.6817\n",
            "Epoch 6/20\n",
            "219/219 [==============================] - 9s 40ms/step - loss: 0.5559 - accuracy: 0.7653 - val_loss: 0.6137 - val_accuracy: 0.7417\n",
            "Epoch 7/20\n",
            "219/219 [==============================] - 9s 40ms/step - loss: 0.5108 - accuracy: 0.7853 - val_loss: 0.6174 - val_accuracy: 0.7450\n",
            "Epoch 8/20\n",
            "219/219 [==============================] - 9s 40ms/step - loss: 0.4711 - accuracy: 0.8046 - val_loss: 0.6100 - val_accuracy: 0.7513\n",
            "Epoch 9/20\n",
            "219/219 [==============================] - 9s 40ms/step - loss: 0.4506 - accuracy: 0.8151 - val_loss: 0.6252 - val_accuracy: 0.7433\n",
            "Epoch 10/20\n",
            "219/219 [==============================] - 9s 40ms/step - loss: 0.4228 - accuracy: 0.8271 - val_loss: 0.7158 - val_accuracy: 0.6897\n",
            "Epoch 11/20\n",
            "219/219 [==============================] - 9s 40ms/step - loss: 0.3874 - accuracy: 0.8351 - val_loss: 0.5989 - val_accuracy: 0.7690\n",
            "Epoch 12/20\n",
            "219/219 [==============================] - 9s 40ms/step - loss: 0.3530 - accuracy: 0.8566 - val_loss: 0.5379 - val_accuracy: 0.8007\n",
            "Epoch 13/20\n",
            "219/219 [==============================] - 9s 41ms/step - loss: 0.3509 - accuracy: 0.8569 - val_loss: 0.5296 - val_accuracy: 0.7977\n",
            "Epoch 14/20\n",
            "219/219 [==============================] - 9s 41ms/step - loss: 0.3076 - accuracy: 0.8771 - val_loss: 0.4741 - val_accuracy: 0.8290\n",
            "Epoch 15/20\n",
            "219/219 [==============================] - 9s 41ms/step - loss: 0.2676 - accuracy: 0.8923 - val_loss: 0.5739 - val_accuracy: 0.8160\n",
            "Epoch 16/20\n",
            "219/219 [==============================] - 9s 40ms/step - loss: 0.3013 - accuracy: 0.8831 - val_loss: 0.5021 - val_accuracy: 0.8117\n",
            "Epoch 17/20\n",
            "219/219 [==============================] - 9s 40ms/step - loss: 0.2336 - accuracy: 0.9071 - val_loss: 0.4587 - val_accuracy: 0.8460\n",
            "Epoch 18/20\n",
            "219/219 [==============================] - 9s 40ms/step - loss: 0.2277 - accuracy: 0.9143 - val_loss: 0.5038 - val_accuracy: 0.8507\n",
            "Epoch 19/20\n",
            "219/219 [==============================] - 9s 40ms/step - loss: 0.2007 - accuracy: 0.9241 - val_loss: 0.4898 - val_accuracy: 0.8543\n",
            "Epoch 20/20\n",
            "219/219 [==============================] - 9s 40ms/step - loss: 0.1936 - accuracy: 0.9306 - val_loss: 0.4948 - val_accuracy: 0.8350\n"
          ]
        }
      ]
    },
    {
      "cell_type": "code",
      "source": [
        "pd.DataFrame(loss.history)[['loss', 'val_loss']].plot()"
      ],
      "metadata": {
        "colab": {
          "base_uri": "https://localhost:8080/",
          "height": 282
        },
        "id": "WEUXUZURubFR",
        "outputId": "c703f422-acf3-4460-e8bb-885a00256207"
      },
      "execution_count": 111,
      "outputs": [
        {
          "output_type": "execute_result",
          "data": {
            "text/plain": [
              "<matplotlib.axes._subplots.AxesSubplot at 0x7f766021a5d0>"
            ]
          },
          "metadata": {},
          "execution_count": 111
        },
        {
          "output_type": "display_data",
          "data": {
            "image/png": "[encoded data removed]",
            "text/plain": [
              "<Figure size 432x288 with 1 Axes>"
            ]
          },
          "metadata": {
            "needs_background": "light"
          }
        }
      ]
    },
    {
      "cell_type": "markdown",
      "source": [
        "# **Pridedam dropout**"
      ],
      "metadata": {
        "id": "xvBApnMB-LX2"
      }
    },
    {
      "cell_type": "markdown",
      "source": [
        "Pridedam \"dropout\" komandą, kuri neleidžia modeliui overfit'int, išmetant neuronų sluoksnius. Čia vėl gi bandžiau keisti sluoksnių skaičių, density dydį, taip pat dropout dydį, nes su 0.2 gavau labai šokinėjančias loss ir val_loss kreives, jos taip pat neartėjo viena prie kitos. Vis dėlto, su šiuo modeliu nepavyko gauti labai tikslaus modelio."
      ],
      "metadata": {
        "id": "5ew5yMEnZH5g"
      }
    },
    {
      "cell_type": "code",
      "source": [
        "model = keras.models.Sequential()\n",
        "model.add(keras.layers.Flatten(input_shape=(50,50)))\n",
        "model.add(keras.layers.Dense(256, activation='relu'))\n",
        "model.add(keras.layers.Dropout(0.4))\n",
        "model.add(keras.layers.Dense(128, activation='relu'))\n",
        "model.add(keras.layers.Dropout(0.4))\n",
        "model.add(keras.layers.Dense(64, activation='relu'))\n",
        "model.add(keras.layers.Dropout(0.4))\n",
        "model.add(keras.layers.Dense(32, activation='relu'))\n",
        "model.add(keras.layers.Dropout(0.4))\n",
        "model.add(keras.layers.Dense(10, activation='softmax'))\n",
        "model.compile(loss='sparse_categorical_crossentropy', \n",
        "              optimizer=keras.optimizers.Adam(learning_rate=3e-4), \n",
        "              metrics=['accuracy'])\n",
        "model.summary()"
      ],
      "metadata": {
        "colab": {
          "base_uri": "https://localhost:8080/"
        },
        "id": "D7MctBTG-Zaf",
        "outputId": "16c0af94-b132-415a-85db-e175a5a4f1c0"
      },
      "execution_count": 112,
      "outputs": [
        {
          "output_type": "stream",
          "name": "stdout",
          "text": [
            "Model: \"sequential_28\"\n",
            "_________________________________________________________________\n",
            " Layer (type)                Output Shape              Param #   \n",
            "=================================================================\n",
            " flatten_28 (Flatten)        (None, 2500)              0         \n",
            "                                                                 \n",
            " dense_142 (Dense)           (None, 256)               640256    \n",
            "                                                                 \n",
            " dropout_58 (Dropout)        (None, 256)               0         \n",
            "                                                                 \n",
            " dense_143 (Dense)           (None, 128)               32896     \n",
            "                                                                 \n",
            " dropout_59 (Dropout)        (None, 128)               0         \n",
            "                                                                 \n",
            " dense_144 (Dense)           (None, 64)                8256      \n",
            "                                                                 \n",
            " dropout_60 (Dropout)        (None, 64)                0         \n",
            "                                                                 \n",
            " dense_145 (Dense)           (None, 32)                2080      \n",
            "                                                                 \n",
            " dropout_61 (Dropout)        (None, 32)                0         \n",
            "                                                                 \n",
            " dense_146 (Dense)           (None, 10)                330       \n",
            "                                                                 \n",
            "=================================================================\n",
            "Total params: 683,818\n",
            "Trainable params: 683,818\n",
            "Non-trainable params: 0\n",
            "_________________________________________________________________\n"
          ]
        }
      ]
    },
    {
      "cell_type": "markdown",
      "source": [
        "Taip pat čia pridedame batch_size funkciją, kuri pagreitina skaičiavimus, nes daro didesnius žingsnius."
      ],
      "metadata": {
        "id": "7aelpG7oaUOn"
      }
    },
    {
      "cell_type": "code",
      "source": [
        "loss = model.fit(X_train, y_train, validation_data=(X_test, y_test), epochs=50, batch_size=256)"
      ],
      "metadata": {
        "colab": {
          "base_uri": "https://localhost:8080/"
        },
        "id": "FYREvXe7-vox",
        "outputId": "bd199d06-2a3c-434f-b708-205750cf42f2"
      },
      "execution_count": 113,
      "outputs": [
        {
          "output_type": "stream",
          "name": "stdout",
          "text": [
            "Epoch 1/50\n",
            "28/28 [==============================] - 2s 42ms/step - loss: 2.0991 - accuracy: 0.1946 - val_loss: 1.8590 - val_accuracy: 0.3310\n",
            "Epoch 2/50\n",
            "28/28 [==============================] - 1s 34ms/step - loss: 1.9277 - accuracy: 0.2437 - val_loss: 1.7255 - val_accuracy: 0.4220\n",
            "Epoch 3/50\n",
            "28/28 [==============================] - 1s 34ms/step - loss: 1.8364 - accuracy: 0.2746 - val_loss: 1.6094 - val_accuracy: 0.4633\n",
            "Epoch 4/50\n",
            "28/28 [==============================] - 1s 33ms/step - loss: 1.7286 - accuracy: 0.3196 - val_loss: 1.5091 - val_accuracy: 0.4763\n",
            "Epoch 5/50\n",
            "28/28 [==============================] - 1s 33ms/step - loss: 1.6602 - accuracy: 0.3464 - val_loss: 1.4236 - val_accuracy: 0.4880\n",
            "Epoch 6/50\n",
            "28/28 [==============================] - 1s 34ms/step - loss: 1.5834 - accuracy: 0.3721 - val_loss: 1.3606 - val_accuracy: 0.4973\n",
            "Epoch 7/50\n",
            "28/28 [==============================] - 1s 33ms/step - loss: 1.5245 - accuracy: 0.4007 - val_loss: 1.3115 - val_accuracy: 0.4987\n",
            "Epoch 8/50\n",
            "28/28 [==============================] - 1s 33ms/step - loss: 1.4976 - accuracy: 0.3976 - val_loss: 1.2821 - val_accuracy: 0.5040\n",
            "Epoch 9/50\n",
            "28/28 [==============================] - 1s 33ms/step - loss: 1.4502 - accuracy: 0.4186 - val_loss: 1.2685 - val_accuracy: 0.4963\n",
            "Epoch 10/50\n",
            "28/28 [==============================] - 1s 33ms/step - loss: 1.4112 - accuracy: 0.4283 - val_loss: 1.2160 - val_accuracy: 0.5260\n",
            "Epoch 11/50\n",
            "28/28 [==============================] - 1s 33ms/step - loss: 1.3682 - accuracy: 0.4461 - val_loss: 1.1765 - val_accuracy: 0.5280\n",
            "Epoch 12/50\n",
            "28/28 [==============================] - 1s 33ms/step - loss: 1.3435 - accuracy: 0.4556 - val_loss: 1.1448 - val_accuracy: 0.5370\n",
            "Epoch 13/50\n",
            "28/28 [==============================] - 1s 33ms/step - loss: 1.2935 - accuracy: 0.4709 - val_loss: 1.1065 - val_accuracy: 0.5433\n",
            "Epoch 14/50\n",
            "28/28 [==============================] - 1s 34ms/step - loss: 1.2524 - accuracy: 0.4821 - val_loss: 1.0680 - val_accuracy: 0.5570\n",
            "Epoch 15/50\n",
            "28/28 [==============================] - 1s 32ms/step - loss: 1.2320 - accuracy: 0.4860 - val_loss: 1.0307 - val_accuracy: 0.5733\n",
            "Epoch 16/50\n",
            "28/28 [==============================] - 1s 32ms/step - loss: 1.1883 - accuracy: 0.5054 - val_loss: 1.0237 - val_accuracy: 0.5583\n",
            "Epoch 17/50\n",
            "28/28 [==============================] - 1s 33ms/step - loss: 1.1589 - accuracy: 0.5150 - val_loss: 0.9642 - val_accuracy: 0.5933\n",
            "Epoch 18/50\n",
            "28/28 [==============================] - 1s 33ms/step - loss: 1.1129 - accuracy: 0.5330 - val_loss: 0.9341 - val_accuracy: 0.6170\n",
            "Epoch 19/50\n",
            "28/28 [==============================] - 1s 33ms/step - loss: 1.1019 - accuracy: 0.5350 - val_loss: 0.9054 - val_accuracy: 0.6313\n",
            "Epoch 20/50\n",
            "28/28 [==============================] - 1s 33ms/step - loss: 1.0608 - accuracy: 0.5507 - val_loss: 0.8982 - val_accuracy: 0.6390\n",
            "Epoch 21/50\n",
            "28/28 [==============================] - 1s 32ms/step - loss: 1.0426 - accuracy: 0.5600 - val_loss: 0.8748 - val_accuracy: 0.6397\n",
            "Epoch 22/50\n",
            "28/28 [==============================] - 1s 33ms/step - loss: 1.0253 - accuracy: 0.5691 - val_loss: 0.8635 - val_accuracy: 0.6363\n",
            "Epoch 23/50\n",
            "28/28 [==============================] - 1s 33ms/step - loss: 0.9984 - accuracy: 0.5770 - val_loss: 0.8480 - val_accuracy: 0.6670\n",
            "Epoch 24/50\n",
            "28/28 [==============================] - 1s 33ms/step - loss: 0.9847 - accuracy: 0.5880 - val_loss: 0.8334 - val_accuracy: 0.6603\n",
            "Epoch 25/50\n",
            "28/28 [==============================] - 1s 33ms/step - loss: 0.9671 - accuracy: 0.5974 - val_loss: 0.8312 - val_accuracy: 0.6553\n",
            "Epoch 26/50\n",
            "28/28 [==============================] - 1s 33ms/step - loss: 0.9473 - accuracy: 0.5996 - val_loss: 0.8232 - val_accuracy: 0.6600\n",
            "Epoch 27/50\n",
            "28/28 [==============================] - 1s 33ms/step - loss: 0.9408 - accuracy: 0.6073 - val_loss: 0.8028 - val_accuracy: 0.6740\n",
            "Epoch 28/50\n",
            "28/28 [==============================] - 1s 34ms/step - loss: 0.9184 - accuracy: 0.6136 - val_loss: 0.7885 - val_accuracy: 0.6820\n",
            "Epoch 29/50\n",
            "28/28 [==============================] - 1s 32ms/step - loss: 0.8986 - accuracy: 0.6201 - val_loss: 0.7823 - val_accuracy: 0.6897\n",
            "Epoch 30/50\n",
            "28/28 [==============================] - 1s 33ms/step - loss: 0.8866 - accuracy: 0.6314 - val_loss: 0.7706 - val_accuracy: 0.6903\n",
            "Epoch 31/50\n",
            "28/28 [==============================] - 1s 33ms/step - loss: 0.8748 - accuracy: 0.6393 - val_loss: 0.7546 - val_accuracy: 0.7067\n",
            "Epoch 32/50\n",
            "28/28 [==============================] - 1s 33ms/step - loss: 0.8637 - accuracy: 0.6424 - val_loss: 0.7465 - val_accuracy: 0.7063\n",
            "Epoch 33/50\n",
            "28/28 [==============================] - 1s 33ms/step - loss: 0.8451 - accuracy: 0.6420 - val_loss: 0.7479 - val_accuracy: 0.7090\n",
            "Epoch 34/50\n",
            "28/28 [==============================] - 1s 33ms/step - loss: 0.8389 - accuracy: 0.6566 - val_loss: 0.7380 - val_accuracy: 0.7147\n",
            "Epoch 35/50\n",
            "28/28 [==============================] - 1s 33ms/step - loss: 0.8181 - accuracy: 0.6596 - val_loss: 0.7367 - val_accuracy: 0.7117\n",
            "Epoch 36/50\n",
            "28/28 [==============================] - 1s 33ms/step - loss: 0.8142 - accuracy: 0.6634 - val_loss: 0.7255 - val_accuracy: 0.7177\n",
            "Epoch 37/50\n",
            "28/28 [==============================] - 1s 33ms/step - loss: 0.8162 - accuracy: 0.6616 - val_loss: 0.7224 - val_accuracy: 0.7167\n",
            "Epoch 38/50\n",
            "28/28 [==============================] - 1s 33ms/step - loss: 0.7856 - accuracy: 0.6714 - val_loss: 0.7196 - val_accuracy: 0.7237\n",
            "Epoch 39/50\n",
            "28/28 [==============================] - 1s 34ms/step - loss: 0.7969 - accuracy: 0.6731 - val_loss: 0.7061 - val_accuracy: 0.7297\n",
            "Epoch 40/50\n",
            "28/28 [==============================] - 1s 33ms/step - loss: 0.7772 - accuracy: 0.6823 - val_loss: 0.6972 - val_accuracy: 0.7373\n",
            "Epoch 41/50\n",
            "28/28 [==============================] - 1s 32ms/step - loss: 0.7689 - accuracy: 0.6814 - val_loss: 0.7021 - val_accuracy: 0.7237\n",
            "Epoch 42/50\n",
            "28/28 [==============================] - 1s 33ms/step - loss: 0.7588 - accuracy: 0.6811 - val_loss: 0.7076 - val_accuracy: 0.7143\n",
            "Epoch 43/50\n",
            "28/28 [==============================] - 1s 33ms/step - loss: 0.7495 - accuracy: 0.6874 - val_loss: 0.6875 - val_accuracy: 0.7400\n",
            "Epoch 44/50\n",
            "28/28 [==============================] - 1s 33ms/step - loss: 0.7340 - accuracy: 0.6977 - val_loss: 0.6815 - val_accuracy: 0.7447\n",
            "Epoch 45/50\n",
            "28/28 [==============================] - 1s 33ms/step - loss: 0.7297 - accuracy: 0.7039 - val_loss: 0.6845 - val_accuracy: 0.7377\n",
            "Epoch 46/50\n",
            "28/28 [==============================] - 1s 34ms/step - loss: 0.7306 - accuracy: 0.7003 - val_loss: 0.6801 - val_accuracy: 0.7427\n",
            "Epoch 47/50\n",
            "28/28 [==============================] - 1s 33ms/step - loss: 0.7059 - accuracy: 0.7144 - val_loss: 0.6662 - val_accuracy: 0.7443\n",
            "Epoch 48/50\n",
            "28/28 [==============================] - 1s 33ms/step - loss: 0.7081 - accuracy: 0.7170 - val_loss: 0.6738 - val_accuracy: 0.7473\n",
            "Epoch 49/50\n",
            "28/28 [==============================] - 1s 33ms/step - loss: 0.6895 - accuracy: 0.7267 - val_loss: 0.6610 - val_accuracy: 0.7470\n",
            "Epoch 50/50\n",
            "28/28 [==============================] - 1s 34ms/step - loss: 0.6910 - accuracy: 0.7179 - val_loss: 0.6625 - val_accuracy: 0.7487\n"
          ]
        }
      ]
    },
    {
      "cell_type": "code",
      "source": [
        "pd.DataFrame(loss.history)[['loss', 'val_loss']].plot()"
      ],
      "metadata": {
        "colab": {
          "base_uri": "https://localhost:8080/",
          "height": 282
        },
        "id": "FnuEcW24_We_",
        "outputId": "f1d7f870-c5ca-4f17-9694-6b399d0a4cd3"
      },
      "execution_count": 114,
      "outputs": [
        {
          "output_type": "execute_result",
          "data": {
            "text/plain": [
              "<matplotlib.axes._subplots.AxesSubplot at 0x7f7660164d90>"
            ]
          },
          "metadata": {},
          "execution_count": 114
        },
        {
          "output_type": "display_data",
          "data": {
            "image/png": "[encoded data removed]",
            "text/plain": [
              "<Figure size 432x288 with 1 Axes>"
            ]
          },
          "metadata": {
            "needs_background": "light"
          }
        }
      ]
    },
    {
      "cell_type": "markdown",
      "source": [
        "# **CNN** (konvoliuciniai neuroniniai tinklai)\n",
        "\n"
      ],
      "metadata": {
        "id": "M8OEe3uuG2v_"
      }
    },
    {
      "cell_type": "markdown",
      "source": [
        "Šis modelis gaunasi pats tiksliausias, todėl jį ir naudosime."
      ],
      "metadata": {
        "id": "hysQW0owe2bI"
      }
    },
    {
      "cell_type": "code",
      "source": [
        "model = keras.models.Sequential()\n",
        "model.add(keras.layers.Conv2D(32, kernel_size=(3, 3), activation = 'relu', input_shape=[50,50,1])) #conv2 naudojamas gauti aukštą tikslumą paveiksliuko atpažinime\n",
        "model.add(keras.layers.BatchNormalization(axis=-1)) #leidžia kiekvienam sluoksniui mokytis nepriklausant nuo kitų sluoksnių, normalizuoja buvusių sluoksnių rezultatus\n",
        "model.add(keras.layers.MaxPooling2D(pool_size=(2,2))) #sumažina input dydį\n",
        "model.add(keras.layers.Conv2D(32, kernel_size=(3, 3), activation = 'relu'))\n",
        "model.add(keras.layers.BatchNormalization(axis=-1))\n",
        "model.add(keras.layers.MaxPooling2D(pool_size=(2,2)))\n",
        "model.add(keras.layers.Flatten())\n",
        "model.add(keras.layers.Dense(64, activation='relu'))\n",
        "model.add(keras.layers.Dense(32, activation='relu'))\n",
        "model.add(keras.layers.Dense(16, activation='relu'))\n",
        "model.add(keras.layers.Dense(10, activation='softmax'))\n",
        "model.compile(loss='sparse_categorical_crossentropy', \n",
        "              optimizer='adam', \n",
        "              metrics=['accuracy'])\n",
        "model.summary()"
      ],
      "metadata": {
        "colab": {
          "base_uri": "https://localhost:8080/"
        },
        "id": "Om-6x-gVG-qN",
        "outputId": "30029689-068f-406f-cf69-3548aaf1f98f"
      },
      "execution_count": 115,
      "outputs": [
        {
          "output_type": "stream",
          "name": "stdout",
          "text": [
            "Model: \"sequential_29\"\n",
            "_________________________________________________________________\n",
            " Layer (type)                Output Shape              Param #   \n",
            "=================================================================\n",
            " conv2d_14 (Conv2D)          (None, 48, 48, 32)        320       \n",
            "                                                                 \n",
            " batch_normalization_8 (Batc  (None, 48, 48, 32)       128       \n",
            " hNormalization)                                                 \n",
            "                                                                 \n",
            " max_pooling2d_12 (MaxPoolin  (None, 24, 24, 32)       0         \n",
            " g2D)                                                            \n",
            "                                                                 \n",
            " conv2d_15 (Conv2D)          (None, 22, 22, 32)        9248      \n",
            "                                                                 \n",
            " batch_normalization_9 (Batc  (None, 22, 22, 32)       128       \n",
            " hNormalization)                                                 \n",
            "                                                                 \n",
            " max_pooling2d_13 (MaxPoolin  (None, 11, 11, 32)       0         \n",
            " g2D)                                                            \n",
            "                                                                 \n",
            " flatten_29 (Flatten)        (None, 3872)              0         \n",
            "                                                                 \n",
            " dense_147 (Dense)           (None, 64)                247872    \n",
            "                                                                 \n",
            " dense_148 (Dense)           (None, 32)                2080      \n",
            "                                                                 \n",
            " dense_149 (Dense)           (None, 16)                528       \n",
            "                                                                 \n",
            " dense_150 (Dense)           (None, 10)                170       \n",
            "                                                                 \n",
            "=================================================================\n",
            "Total params: 260,474\n",
            "Trainable params: 260,346\n",
            "Non-trainable params: 128\n",
            "_________________________________________________________________\n"
          ]
        }
      ]
    },
    {
      "cell_type": "code",
      "source": [
        "loss = model.fit(X_train, y_train, validation_data=(X_test, y_test), epochs=20)"
      ],
      "metadata": {
        "colab": {
          "base_uri": "https://localhost:8080/"
        },
        "id": "khQnAmuEHsF1",
        "outputId": "7304b8f5-a3bf-4911-ace9-bf0d1bcea108"
      },
      "execution_count": 116,
      "outputs": [
        {
          "output_type": "stream",
          "name": "stdout",
          "text": [
            "Epoch 1/20\n",
            "219/219 [==============================] - 30s 134ms/step - loss: 1.1729 - accuracy: 0.5419 - val_loss: 3.3822 - val_accuracy: 0.0973\n",
            "Epoch 2/20\n",
            "219/219 [==============================] - 30s 136ms/step - loss: 0.4714 - accuracy: 0.8381 - val_loss: 2.9214 - val_accuracy: 0.1477\n",
            "Epoch 3/20\n",
            "219/219 [==============================] - 29s 132ms/step - loss: 0.2238 - accuracy: 0.9373 - val_loss: 1.5356 - val_accuracy: 0.3810\n",
            "Epoch 4/20\n",
            "219/219 [==============================] - 30s 138ms/step - loss: 0.1336 - accuracy: 0.9659 - val_loss: 0.2120 - val_accuracy: 0.9520\n",
            "Epoch 5/20\n",
            "219/219 [==============================] - 29s 132ms/step - loss: 0.0907 - accuracy: 0.9767 - val_loss: 0.2075 - val_accuracy: 0.9570\n",
            "Epoch 6/20\n",
            "219/219 [==============================] - 29s 132ms/step - loss: 0.0698 - accuracy: 0.9800 - val_loss: 0.2976 - val_accuracy: 0.9250\n",
            "Epoch 7/20\n",
            "219/219 [==============================] - 29s 132ms/step - loss: 0.0639 - accuracy: 0.9821 - val_loss: 0.2808 - val_accuracy: 0.9483\n",
            "Epoch 8/20\n",
            "219/219 [==============================] - 29s 133ms/step - loss: 0.0449 - accuracy: 0.9877 - val_loss: 0.3006 - val_accuracy: 0.9393\n",
            "Epoch 9/20\n",
            "219/219 [==============================] - 29s 133ms/step - loss: 0.0333 - accuracy: 0.9909 - val_loss: 0.2508 - val_accuracy: 0.9570\n",
            "Epoch 10/20\n",
            "219/219 [==============================] - 29s 134ms/step - loss: 0.0488 - accuracy: 0.9839 - val_loss: 0.3862 - val_accuracy: 0.9067\n",
            "Epoch 11/20\n",
            "219/219 [==============================] - 29s 132ms/step - loss: 0.0276 - accuracy: 0.9921 - val_loss: 0.3330 - val_accuracy: 0.9463\n",
            "Epoch 12/20\n",
            "219/219 [==============================] - 29s 133ms/step - loss: 0.0286 - accuracy: 0.9917 - val_loss: 0.2840 - val_accuracy: 0.9510\n",
            "Epoch 13/20\n",
            "219/219 [==============================] - 29s 132ms/step - loss: 0.0383 - accuracy: 0.9891 - val_loss: 0.2762 - val_accuracy: 0.9543\n",
            "Epoch 14/20\n",
            "219/219 [==============================] - 29s 132ms/step - loss: 0.0341 - accuracy: 0.9896 - val_loss: 0.3149 - val_accuracy: 0.9357\n",
            "Epoch 15/20\n",
            "219/219 [==============================] - 29s 133ms/step - loss: 0.0300 - accuracy: 0.9904 - val_loss: 0.3338 - val_accuracy: 0.9520\n",
            "Epoch 16/20\n",
            "219/219 [==============================] - 29s 131ms/step - loss: 0.0219 - accuracy: 0.9940 - val_loss: 0.3455 - val_accuracy: 0.9503\n",
            "Epoch 17/20\n",
            "219/219 [==============================] - 29s 134ms/step - loss: 0.0317 - accuracy: 0.9900 - val_loss: 0.3206 - val_accuracy: 0.9620\n",
            "Epoch 18/20\n",
            "219/219 [==============================] - 29s 135ms/step - loss: 0.0352 - accuracy: 0.9897 - val_loss: 0.3477 - val_accuracy: 0.9510\n",
            "Epoch 19/20\n",
            "219/219 [==============================] - 29s 134ms/step - loss: 0.0329 - accuracy: 0.9901 - val_loss: 0.3656 - val_accuracy: 0.9580\n",
            "Epoch 20/20\n",
            "219/219 [==============================] - 29s 132ms/step - loss: 0.0115 - accuracy: 0.9966 - val_loss: 0.2946 - val_accuracy: 0.9720\n"
          ]
        }
      ]
    },
    {
      "cell_type": "code",
      "source": [
        "pred=model.predict(X_test).argmax(axis=1)\n",
        "print('Test set accuracy - {0:.02%}'.format((pred==y_test).mean()))"
      ],
      "metadata": {
        "colab": {
          "base_uri": "https://localhost:8080/"
        },
        "id": "ov2FUCAYvSBG",
        "outputId": "23bbe8e6-ebfd-4efb-8a45-5e11e684318c"
      },
      "execution_count": 117,
      "outputs": [
        {
          "output_type": "stream",
          "name": "stdout",
          "text": [
            "Test set accuracy - 97.20%\n"
          ]
        }
      ]
    },
    {
      "cell_type": "code",
      "source": [
        "model.save('model.h5')"
      ],
      "metadata": {
        "id": "TR7UrFt4v9fe"
      },
      "execution_count": 118,
      "outputs": []
    },
    {
      "cell_type": "code",
      "source": [
        "model = keras.models.load_model('model.h5')\n",
        "evaluate('flatland_train.data', model)"
      ],
      "metadata": {
        "colab": {
          "base_uri": "https://localhost:8080/"
        },
        "id": "cfadobPzwC0z",
        "outputId": "f0087763-770c-4843-faa3-e704a68e0232"
      },
      "execution_count": 119,
      "outputs": [
        {
          "output_type": "execute_result",
          "data": {
            "text/plain": [
              "0.9908"
            ]
          },
          "metadata": {},
          "execution_count": 119
        }
      ]
    },
    {
      "cell_type": "code",
      "source": [
        "pd.DataFrame(loss.history)[['loss', 'val_loss']].plot()"
      ],
      "metadata": {
        "colab": {
          "base_uri": "https://localhost:8080/",
          "height": 283
        },
        "id": "WjGo1-45Nn1t",
        "outputId": "2d255778-b907-43f7-8d67-339fc09f8016"
      },
      "execution_count": 120,
      "outputs": [
        {
          "output_type": "execute_result",
          "data": {
            "text/plain": [
              "<matplotlib.axes._subplots.AxesSubplot at 0x7f7656620650>"
            ]
          },
          "metadata": {},
          "execution_count": 120
        },
        {
          "output_type": "display_data",
          "data": {
            "image/png": "[encoded data removed]",
            "text/plain": [
              "<Figure size 432x288 with 1 Axes>"
            ]
          },
          "metadata": {
            "needs_background": "light"
          }
        }
      ]
    }
  ]
}