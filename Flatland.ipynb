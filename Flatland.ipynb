{
  "nbformat": 4,
  "nbformat_minor": 0,
  "metadata": {
    "colab": {
      "name": "Flatland.ipynb",
      "provenance": [],
      "collapsed_sections": []
    },
    "kernelspec": {
      "name": "python3",
      "display_name": "Python 3"
    },
    "language_info": {
      "name": "python"
    },
    "accelerator": "GPU"
  },
  "cells": [
    {
      "cell_type": "code",
      "execution_count": 63,
      "metadata": {
        "id": "TESHA8fBejun"
      },
      "outputs": [],
      "source": [
        "import gzip\n",
        "import pickle\n",
        "from tensorflow import keras\n",
        "import numpy as np\n",
        "from google.colab import files\n",
        "from collections import Counter\n",
        "from sklearn.model_selection import train_test_split\n",
        "import matplotlib.pyplot as plt\n",
        "import pandas as pd"
      ]
    },
    {
      "cell_type": "code",
      "source": [
        "uploaded=files.upload()"
      ],
      "metadata": {
        "colab": {
          "resources": {
            "http://localhost:8080/nbextensions/google.colab/files.js": {
              "data": "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",
              "ok": true,
              "headers": [
                [
                  "content-type",
                  "application/javascript"
                ]
              ],
              "status": 200,
              "status_text": ""
            }
          },
          "base_uri": "https://localhost:8080/",
          "height": 74
        },
        "id": "IQyxlpvRgxWZ",
        "outputId": "fa3148ee-c4ed-49b8-9a47-6e57fe409344"
      },
      "execution_count": 7,
      "outputs": [
        {
          "output_type": "display_data",
          "data": {
            "text/html": [
              "\n",
              "     <input type=\"file\" id=\"files-45d3fdca-c899-40a6-807c-de7a3acd4225\" name=\"files[]\" multiple disabled\n",
              "        style=\"border:none\" />\n",
              "     <output id=\"result-45d3fdca-c899-40a6-807c-de7a3acd4225\">\n",
              "      Upload widget is only available when the cell has been executed in the\n",
              "      current browser session. Please rerun this cell to enable.\n",
              "      </output>\n",
              "      <script src=\"/nbextensions/google.colab/files.js\"></script> "
            ],
            "text/plain": [
              "<IPython.core.display.HTML object>"
            ]
          },
          "metadata": {}
        },
        {
          "output_type": "stream",
          "name": "stdout",
          "text": [
            "Saving flatland_train.data to flatland_train (1).data\n"
          ]
        }
      ]
    },
    {
      "cell_type": "code",
      "source": [
        "def evaluate(path, model):\n",
        "    X, y = pickle.load(gzip.open(path, 'rb'))\n",
        "    y[y != 0] -= 2\n",
        "    X = X / 255.\n",
        "    acc = np.mean(model(X).numpy().argmax(axis=1) == y)\n",
        "    return acc"
      ],
      "metadata": {
        "id": "-HAEbSLsg3Z-"
      },
      "execution_count": 8,
      "outputs": []
    },
    {
      "cell_type": "code",
      "source": [
        "path = 'flatland_train.data'\n",
        "X, y = pickle.load(gzip.open(path, 'rb')) #(10000,50,50)\n",
        "\n",
        "#data pre-proc\n",
        "y[y != 0] -= 2 #jei klasė ne nulis, atimk iš jos 2, labels from (0, 4)\n",
        "X = X / 255. #normalizuojam data, kad pixeliai butu rezyje (0,1)"
      ],
      "metadata": {
        "id": "nG1zLWAfgGQ7"
      },
      "execution_count": 9,
      "outputs": []
    },
    {
      "cell_type": "code",
      "source": [
        "X_train, X_test, y_train, y_test = train_test_split(X, y, test_size=0.3, random_state=42)"
      ],
      "metadata": {
        "id": "owGnOmGKnCCU"
      },
      "execution_count": 21,
      "outputs": []
    },
    {
      "cell_type": "code",
      "source": [
        "X_train.shape"
      ],
      "metadata": {
        "colab": {
          "base_uri": "https://localhost:8080/"
        },
        "id": "6VuwUTlNnPID",
        "outputId": "b24f02f3-3fba-48de-b8d1-71090928ba9b"
      },
      "execution_count": 23,
      "outputs": [
        {
          "output_type": "execute_result",
          "data": {
            "text/plain": [
              "(7000, 50, 50)"
            ]
          },
          "metadata": {},
          "execution_count": 23
        }
      ]
    },
    {
      "cell_type": "code",
      "source": [
        "X_test.shape"
      ],
      "metadata": {
        "colab": {
          "base_uri": "https://localhost:8080/"
        },
        "id": "lUWe_YOKnTD7",
        "outputId": "2ac1f689-b466-4a52-b8ec-eff18dc999f3"
      },
      "execution_count": 24,
      "outputs": [
        {
          "output_type": "execute_result",
          "data": {
            "text/plain": [
              "(3000, 50, 50)"
            ]
          },
          "metadata": {},
          "execution_count": 24
        }
      ]
    },
    {
      "cell_type": "code",
      "source": [
        "plt.imshow(X_test[5], cmap='Blues')"
      ],
      "metadata": {
        "colab": {
          "base_uri": "https://localhost:8080/",
          "height": 284
        },
        "id": "91WpAG6fnW4q",
        "outputId": "26911a12-849f-47fe-c530-24b862c34eb2"
      },
      "execution_count": 32,
      "outputs": [
        {
          "output_type": "execute_result",
          "data": {
            "text/plain": [
              "<matplotlib.image.AxesImage at 0x7f41429e7cd0>"
            ]
          },
          "metadata": {},
          "execution_count": 32
        },
        {
          "output_type": "display_data",
          "data": {
            "image/png": "[encoded data removed]",
            "text/plain": [
              "<Figure size 432x288 with 1 Axes>"
            ]
          },
          "metadata": {
            "needs_background": "light"
          }
        }
      ]
    },
    {
      "cell_type": "code",
      "source": [
        "plt.figure(figsize=(15,15))\n",
        "for i in range(15):\n",
        "  plt.subplot(15,15,15+i+1)\n",
        "  plt.imshow(X_test[i], cmap='Blues')\n",
        "plt.show()"
      ],
      "metadata": {
        "colab": {
          "base_uri": "https://localhost:8080/",
          "height": 77
        },
        "id": "hDmrXvt2nvO3",
        "outputId": "6dd527ef-1a0c-481c-ebb8-0a02df71ec5d"
      },
      "execution_count": 37,
      "outputs": [
        {
          "output_type": "display_data",
          "data": {
            "image/png": "[encoded data removed]",
            "text/plain": [
              "<Figure size 1080x1080 with 15 Axes>"
            ]
          },
          "metadata": {
            "needs_background": "light"
          }
        }
      ]
    },
    {
      "cell_type": "code",
      "source": [
        "Counter(y)"
      ],
      "metadata": {
        "colab": {
          "base_uri": "https://localhost:8080/"
        },
        "id": "Dz-R-VNNobtF",
        "outputId": "d17565c8-81fd-4359-870c-83d6748e6917"
      },
      "execution_count": 38,
      "outputs": [
        {
          "output_type": "execute_result",
          "data": {
            "text/plain": [
              "Counter({0.0: 1381, 1.0: 2853, 2.0: 1868, 3.0: 2137, 4.0: 1761})"
            ]
          },
          "metadata": {},
          "execution_count": 38
        }
      ]
    },
    {
      "cell_type": "code",
      "source": [
        "y"
      ],
      "metadata": {
        "colab": {
          "base_uri": "https://localhost:8080/"
        },
        "id": "j2M_WZPdofTS",
        "outputId": "54220726-7a9f-4cac-d1fb-2687d897fcc1"
      },
      "execution_count": 39,
      "outputs": [
        {
          "output_type": "execute_result",
          "data": {
            "text/plain": [
              "array([2., 4., 3., ..., 4., 4., 3.])"
            ]
          },
          "metadata": {},
          "execution_count": 39
        }
      ]
    },
    {
      "cell_type": "code",
      "source": [
        "for i in range (4):\n",
        "  idx=np.where(y_train==i)[0][0]\n",
        "  plt.subplot (1,4, i+1)\n",
        "  plt.imshow(X_train[idx], cmap='Blues')\n",
        "  plt.title(i)\n",
        "plt.show()"
      ],
      "metadata": {
        "colab": {
          "base_uri": "https://localhost:8080/",
          "height": 137
        },
        "id": "SRsMECPnonOj",
        "outputId": "43f0600a-8e02-4d7f-d066-ec23529b0a65"
      },
      "execution_count": 41,
      "outputs": [
        {
          "output_type": "display_data",
          "data": {
            "image/png": "[encoded data removed]",
            "text/plain": [
              "<Figure size 432x288 with 4 Axes>"
            ]
          },
          "metadata": {
            "needs_background": "light"
          }
        }
      ]
    },
    {
      "cell_type": "code",
      "source": [
        "model = keras.models.Sequential()\n",
        "#All data pre-processing should be in keras model\n",
        "model.add(keras.layers.Flatten(input_shape=(50,50)))#(10000, 2500)\n",
        "model.add(keras.layers.Dense(200, activation='relu'))\n",
        "model.add(keras.layers.Dense(170, activation='relu'))\n",
        "model.add(keras.layers.Dense(150, activation='relu'))\n",
        "model.add(keras.layers.Dense(130, activation='relu'))\n",
        "model.add(keras.layers.Dense(100, activation='relu'))\n",
        "model.add(keras.layers.Dense(90, activation='relu'))\n",
        "model.add(keras.layers.Dense(80, activation='relu'))\n",
        "model.add(keras.layers.Dense(70, activation='relu'))\n",
        "model.add(keras.layers.Dense(60, activation='relu'))\n",
        "model.add(keras.layers.Dense(50, activation='relu'))\n",
        "model.add(keras.layers.Dense(25, activation='relu'))\n",
        "model.add(keras.layers.Dense(20, activation='relu'))\n",
        "model.add(keras.layers.Dense(15, activation='relu'))\n",
        "model.add(keras.layers.Dense(10, activation='softmax'))\n",
        "model.compile(loss='sparse_categorical_crossentropy', \n",
        "              optimizer='sgd', \n",
        "              metrics=['accuracy'])\n",
        "#if using categorical_crossentropy - expects one hot encoded output\n",
        "model.summary()"
      ],
      "metadata": {
        "colab": {
          "base_uri": "https://localhost:8080/"
        },
        "id": "b66CC9PBhW3U",
        "outputId": "a7bd11f2-92fc-411b-de6c-1e47c75defcd"
      },
      "execution_count": 56,
      "outputs": [
        {
          "output_type": "stream",
          "name": "stdout",
          "text": [
            "Model: \"sequential_6\"\n",
            "_________________________________________________________________\n",
            " Layer (type)                Output Shape              Param #   \n",
            "=================================================================\n",
            " flatten_6 (Flatten)         (None, 2500)              0         \n",
            "                                                                 \n",
            " dense_29 (Dense)            (None, 200)               500200    \n",
            "                                                                 \n",
            " dense_30 (Dense)            (None, 170)               34170     \n",
            "                                                                 \n",
            " dense_31 (Dense)            (None, 150)               25650     \n",
            "                                                                 \n",
            " dense_32 (Dense)            (None, 130)               19630     \n",
            "                                                                 \n",
            " dense_33 (Dense)            (None, 100)               13100     \n",
            "                                                                 \n",
            " dense_34 (Dense)            (None, 90)                9090      \n",
            "                                                                 \n",
            " dense_35 (Dense)            (None, 80)                7280      \n",
            "                                                                 \n",
            " dense_36 (Dense)            (None, 70)                5670      \n",
            "                                                                 \n",
            " dense_37 (Dense)            (None, 60)                4260      \n",
            "                                                                 \n",
            " dense_38 (Dense)            (None, 50)                3050      \n",
            "                                                                 \n",
            " dense_39 (Dense)            (None, 25)                1275      \n",
            "                                                                 \n",
            " dense_40 (Dense)            (None, 20)                520       \n",
            "                                                                 \n",
            " dense_41 (Dense)            (None, 15)                315       \n",
            "                                                                 \n",
            " dense_42 (Dense)            (None, 10)                160       \n",
            "                                                                 \n",
            "=================================================================\n",
            "Total params: 624,370\n",
            "Trainable params: 624,370\n",
            "Non-trainable params: 0\n",
            "_________________________________________________________________\n"
          ]
        }
      ]
    },
    {
      "cell_type": "code",
      "source": [
        "loss = model.fit(X_train, y_train, validation_data=(X_test, y_test), epochs=50)"
      ],
      "metadata": {
        "colab": {
          "base_uri": "https://localhost:8080/"
        },
        "id": "aphSSNcWnuSh",
        "outputId": "603b3b93-6157-4eb8-c15c-16d7b8c11884"
      },
      "execution_count": 59,
      "outputs": [
        {
          "output_type": "stream",
          "name": "stdout",
          "text": [
            "Epoch 1/50\n",
            "219/219 [==============================] - 2s 8ms/step - loss: 0.2964 - accuracy: 0.8823 - val_loss: 0.7761 - val_accuracy: 0.7683\n",
            "Epoch 2/50\n",
            "219/219 [==============================] - 1s 7ms/step - loss: 0.3212 - accuracy: 0.8709 - val_loss: 0.6897 - val_accuracy: 0.7703\n",
            "Epoch 3/50\n",
            "219/219 [==============================] - 1s 7ms/step - loss: 0.2988 - accuracy: 0.8843 - val_loss: 0.6260 - val_accuracy: 0.7893\n",
            "Epoch 4/50\n",
            "219/219 [==============================] - 1s 7ms/step - loss: 0.2903 - accuracy: 0.8850 - val_loss: 0.6079 - val_accuracy: 0.7960\n",
            "Epoch 5/50\n",
            "219/219 [==============================] - 2s 7ms/step - loss: 0.3128 - accuracy: 0.8774 - val_loss: 0.6177 - val_accuracy: 0.8020\n",
            "Epoch 6/50\n",
            "219/219 [==============================] - 2s 7ms/step - loss: 0.2996 - accuracy: 0.8840 - val_loss: 0.6109 - val_accuracy: 0.8053\n",
            "Epoch 7/50\n",
            "219/219 [==============================] - 1s 7ms/step - loss: 0.2995 - accuracy: 0.8864 - val_loss: 0.7134 - val_accuracy: 0.7653\n",
            "Epoch 8/50\n",
            "219/219 [==============================] - 2s 7ms/step - loss: 0.2374 - accuracy: 0.9056 - val_loss: 0.7644 - val_accuracy: 0.7830\n",
            "Epoch 9/50\n",
            "219/219 [==============================] - 1s 7ms/step - loss: 0.3158 - accuracy: 0.8824 - val_loss: 0.6587 - val_accuracy: 0.7807\n",
            "Epoch 10/50\n",
            "219/219 [==============================] - 1s 7ms/step - loss: 0.2552 - accuracy: 0.9001 - val_loss: 0.6306 - val_accuracy: 0.8010\n",
            "Epoch 11/50\n",
            "219/219 [==============================] - 1s 7ms/step - loss: 0.2114 - accuracy: 0.9157 - val_loss: 0.8555 - val_accuracy: 0.7330\n",
            "Epoch 12/50\n",
            "219/219 [==============================] - 1s 7ms/step - loss: 0.3168 - accuracy: 0.8831 - val_loss: 0.6356 - val_accuracy: 0.8010\n",
            "Epoch 13/50\n",
            "219/219 [==============================] - 1s 7ms/step - loss: 0.1956 - accuracy: 0.9237 - val_loss: 0.6486 - val_accuracy: 0.8133\n",
            "Epoch 14/50\n",
            "219/219 [==============================] - 1s 7ms/step - loss: 0.2125 - accuracy: 0.9169 - val_loss: 0.8946 - val_accuracy: 0.7367\n",
            "Epoch 15/50\n",
            "219/219 [==============================] - 2s 7ms/step - loss: 0.2482 - accuracy: 0.9107 - val_loss: 0.6446 - val_accuracy: 0.8090\n",
            "Epoch 16/50\n",
            "219/219 [==============================] - 2s 7ms/step - loss: 0.1921 - accuracy: 0.9267 - val_loss: 0.6744 - val_accuracy: 0.8190\n",
            "Epoch 17/50\n",
            "219/219 [==============================] - 2s 7ms/step - loss: 0.2857 - accuracy: 0.9006 - val_loss: 0.8990 - val_accuracy: 0.7610\n",
            "Epoch 18/50\n",
            "219/219 [==============================] - 2s 7ms/step - loss: 0.1922 - accuracy: 0.9259 - val_loss: 0.9850 - val_accuracy: 0.7457\n",
            "Epoch 19/50\n",
            "219/219 [==============================] - 2s 7ms/step - loss: 0.1868 - accuracy: 0.9264 - val_loss: 0.6494 - val_accuracy: 0.8187\n",
            "Epoch 20/50\n",
            "219/219 [==============================] - 2s 7ms/step - loss: 0.2073 - accuracy: 0.9240 - val_loss: 0.6338 - val_accuracy: 0.8157\n",
            "Epoch 21/50\n",
            "219/219 [==============================] - 2s 7ms/step - loss: 0.2009 - accuracy: 0.9234 - val_loss: 0.6617 - val_accuracy: 0.8107\n",
            "Epoch 22/50\n",
            "219/219 [==============================] - 2s 7ms/step - loss: 0.2498 - accuracy: 0.9200 - val_loss: 0.5598 - val_accuracy: 0.8140\n",
            "Epoch 23/50\n",
            "219/219 [==============================] - 2s 7ms/step - loss: 0.1824 - accuracy: 0.9359 - val_loss: 0.9222 - val_accuracy: 0.7583\n",
            "Epoch 24/50\n",
            "219/219 [==============================] - 1s 7ms/step - loss: 0.1995 - accuracy: 0.9249 - val_loss: 0.6522 - val_accuracy: 0.8117\n",
            "Epoch 25/50\n",
            "219/219 [==============================] - 1s 7ms/step - loss: 0.2152 - accuracy: 0.9229 - val_loss: 0.5824 - val_accuracy: 0.8263\n",
            "Epoch 26/50\n",
            "219/219 [==============================] - 1s 7ms/step - loss: 0.1515 - accuracy: 0.9464 - val_loss: 0.6229 - val_accuracy: 0.8357\n",
            "Epoch 27/50\n",
            "219/219 [==============================] - 2s 7ms/step - loss: 0.1588 - accuracy: 0.9461 - val_loss: 0.7006 - val_accuracy: 0.7987\n",
            "Epoch 28/50\n",
            "219/219 [==============================] - 1s 7ms/step - loss: 0.1405 - accuracy: 0.9507 - val_loss: 0.6518 - val_accuracy: 0.8347\n",
            "Epoch 29/50\n",
            "219/219 [==============================] - 2s 7ms/step - loss: 0.1850 - accuracy: 0.9353 - val_loss: 0.9203 - val_accuracy: 0.7523\n",
            "Epoch 30/50\n",
            "219/219 [==============================] - 1s 7ms/step - loss: 0.1470 - accuracy: 0.9471 - val_loss: 0.6386 - val_accuracy: 0.8467\n",
            "Epoch 31/50\n",
            "219/219 [==============================] - 1s 7ms/step - loss: 0.1449 - accuracy: 0.9494 - val_loss: 0.7659 - val_accuracy: 0.8013\n",
            "Epoch 32/50\n",
            "219/219 [==============================] - 2s 7ms/step - loss: 0.1630 - accuracy: 0.9426 - val_loss: 0.7006 - val_accuracy: 0.8187\n",
            "Epoch 33/50\n",
            "219/219 [==============================] - 2s 7ms/step - loss: 0.1600 - accuracy: 0.9437 - val_loss: 0.8659 - val_accuracy: 0.7630\n",
            "Epoch 34/50\n",
            "219/219 [==============================] - 1s 7ms/step - loss: 0.1671 - accuracy: 0.9397 - val_loss: 0.6669 - val_accuracy: 0.8190\n",
            "Epoch 35/50\n",
            "219/219 [==============================] - 1s 7ms/step - loss: 0.1276 - accuracy: 0.9566 - val_loss: 0.7086 - val_accuracy: 0.8227\n",
            "Epoch 36/50\n",
            "219/219 [==============================] - 1s 7ms/step - loss: 0.1134 - accuracy: 0.9613 - val_loss: 0.8279 - val_accuracy: 0.7830\n",
            "Epoch 37/50\n",
            "219/219 [==============================] - 2s 7ms/step - loss: 0.1587 - accuracy: 0.9454 - val_loss: 0.6131 - val_accuracy: 0.8400\n",
            "Epoch 38/50\n",
            "219/219 [==============================] - 1s 7ms/step - loss: 0.1090 - accuracy: 0.9633 - val_loss: 0.6880 - val_accuracy: 0.8300\n",
            "Epoch 39/50\n",
            "219/219 [==============================] - 1s 7ms/step - loss: 0.1152 - accuracy: 0.9619 - val_loss: 0.9978 - val_accuracy: 0.7777\n",
            "Epoch 40/50\n",
            "219/219 [==============================] - 1s 7ms/step - loss: 0.1519 - accuracy: 0.9501 - val_loss: 0.6281 - val_accuracy: 0.8477\n",
            "Epoch 41/50\n",
            "219/219 [==============================] - 2s 7ms/step - loss: 0.1131 - accuracy: 0.9627 - val_loss: 0.5781 - val_accuracy: 0.8660\n",
            "Epoch 42/50\n",
            "219/219 [==============================] - 2s 7ms/step - loss: 0.1032 - accuracy: 0.9654 - val_loss: 0.8129 - val_accuracy: 0.8047\n",
            "Epoch 43/50\n",
            "219/219 [==============================] - 2s 7ms/step - loss: 0.1103 - accuracy: 0.9640 - val_loss: 0.6514 - val_accuracy: 0.8537\n",
            "Epoch 44/50\n",
            "219/219 [==============================] - 1s 7ms/step - loss: 0.0864 - accuracy: 0.9697 - val_loss: 0.7329 - val_accuracy: 0.8380\n",
            "Epoch 45/50\n",
            "219/219 [==============================] - 1s 7ms/step - loss: 0.0523 - accuracy: 0.9829 - val_loss: 0.6588 - val_accuracy: 0.8680\n",
            "Epoch 46/50\n",
            "219/219 [==============================] - 1s 7ms/step - loss: 0.1558 - accuracy: 0.9491 - val_loss: 0.7666 - val_accuracy: 0.8227\n",
            "Epoch 47/50\n",
            "219/219 [==============================] - 1s 7ms/step - loss: 0.1272 - accuracy: 0.9576 - val_loss: 0.9222 - val_accuracy: 0.7907\n",
            "Epoch 48/50\n",
            "219/219 [==============================] - 1s 7ms/step - loss: 0.0883 - accuracy: 0.9697 - val_loss: 0.7013 - val_accuracy: 0.8500\n",
            "Epoch 49/50\n",
            "219/219 [==============================] - 1s 7ms/step - loss: 0.0807 - accuracy: 0.9724 - val_loss: 0.6434 - val_accuracy: 0.8687\n",
            "Epoch 50/50\n",
            "219/219 [==============================] - 2s 7ms/step - loss: 0.1164 - accuracy: 0.9574 - val_loss: 0.6417 - val_accuracy: 0.8530\n"
          ]
        }
      ]
    },
    {
      "cell_type": "code",
      "source": [
        "pred = model.predict(X_test).argmax(axis=1)\n",
        "print ('Test set accuracy - {0:.02%}'.format((pred == y_test).mean()))"
      ],
      "metadata": {
        "colab": {
          "base_uri": "https://localhost:8080/"
        },
        "id": "KxPJeCGhhY2j",
        "outputId": "4b90a371-bbd5-4c25-a1b9-00957789aa4e"
      },
      "execution_count": 60,
      "outputs": [
        {
          "output_type": "stream",
          "name": "stdout",
          "text": [
            "Test set accuracy - 85.30%\n"
          ]
        }
      ]
    },
    {
      "cell_type": "code",
      "source": [
        "model.save('model.h5')"
      ],
      "metadata": {
        "id": "ttNSoT4NhdVH"
      },
      "execution_count": 61,
      "outputs": []
    },
    {
      "cell_type": "code",
      "source": [
        "model = keras.models.load_model('model.h5')\n",
        "evaluate('flatland_train.data', model)"
      ],
      "metadata": {
        "colab": {
          "base_uri": "https://localhost:8080/"
        },
        "id": "Dapt8hcVhhNC",
        "outputId": "97054f2b-5d19-4888-fbef-9105c1fa039e"
      },
      "execution_count": 62,
      "outputs": [
        {
          "output_type": "execute_result",
          "data": {
            "text/plain": [
              "0.9453"
            ]
          },
          "metadata": {},
          "execution_count": 62
        }
      ]
    },
    {
      "cell_type": "code",
      "source": [
        "pd.DataFrame(loss.history)[['loss', 'val_loss']].plot()"
      ],
      "metadata": {
        "colab": {
          "base_uri": "https://localhost:8080/",
          "height": 282
        },
        "id": "bnezJEY0htP4",
        "outputId": "eb8fc1a9-4e5f-4e52-8a72-a9fdc3023803"
      },
      "execution_count": 64,
      "outputs": [
        {
          "output_type": "execute_result",
          "data": {
            "text/plain": [
              "<matplotlib.axes._subplots.AxesSubplot at 0x7f4142925710>"
            ]
          },
          "metadata": {},
          "execution_count": 64
        },
        {
          "output_type": "display_data",
          "data": {
            "image/png": "[encoded data removed]",
            "text/plain": [
              "<Figure size 432x288 with 1 Axes>"
            ]
          },
          "metadata": {
            "needs_background": "light"
          }
        }
      ]
    },
    {
      "cell_type": "code",
      "source": [
        "loss = model.fit(X_train, y_train, validation_data=(X_test, y_test), epochs = 50, batch_size=156)\n",
        "pd.DataFrame(loss.history)[['loss', 'val_loss']].plot()"
      ],
      "metadata": {
        "colab": {
          "base_uri": "https://localhost:8080/",
          "height": 1000
        },
        "id": "mbpPjFLytead",
        "outputId": "afa4261a-9c91-4d8d-f6bb-145ebbeb47bf"
      },
      "execution_count": 65,
      "outputs": [
        {
          "output_type": "stream",
          "name": "stdout",
          "text": [
            "Epoch 1/50\n",
            "45/45 [==============================] - 1s 20ms/step - loss: 0.0307 - accuracy: 0.9931 - val_loss: 0.5831 - val_accuracy: 0.8787\n",
            "Epoch 2/50\n",
            "45/45 [==============================] - 0s 10ms/step - loss: 0.0184 - accuracy: 0.9970 - val_loss: 0.5918 - val_accuracy: 0.8830\n",
            "Epoch 3/50\n",
            "45/45 [==============================] - 0s 9ms/step - loss: 0.0148 - accuracy: 0.9983 - val_loss: 0.6035 - val_accuracy: 0.8840\n",
            "Epoch 4/50\n",
            "45/45 [==============================] - 0s 10ms/step - loss: 0.0131 - accuracy: 0.9984 - val_loss: 0.6093 - val_accuracy: 0.8830\n",
            "Epoch 5/50\n",
            "45/45 [==============================] - 0s 9ms/step - loss: 0.0120 - accuracy: 0.9981 - val_loss: 0.6108 - val_accuracy: 0.8847\n",
            "Epoch 6/50\n",
            "45/45 [==============================] - 0s 10ms/step - loss: 0.0111 - accuracy: 0.9981 - val_loss: 0.6211 - val_accuracy: 0.8887\n",
            "Epoch 7/50\n",
            "45/45 [==============================] - 0s 10ms/step - loss: 0.0103 - accuracy: 0.9986 - val_loss: 0.6284 - val_accuracy: 0.8863\n",
            "Epoch 8/50\n",
            "45/45 [==============================] - 0s 9ms/step - loss: 0.0095 - accuracy: 0.9989 - val_loss: 0.6416 - val_accuracy: 0.8863\n",
            "Epoch 9/50\n",
            "45/45 [==============================] - 0s 10ms/step - loss: 0.0089 - accuracy: 0.9990 - val_loss: 0.6468 - val_accuracy: 0.8867\n",
            "Epoch 10/50\n",
            "45/45 [==============================] - 0s 8ms/step - loss: 0.0084 - accuracy: 0.9991 - val_loss: 0.6543 - val_accuracy: 0.8890\n",
            "Epoch 11/50\n",
            "45/45 [==============================] - 0s 9ms/step - loss: 0.0081 - accuracy: 0.9990 - val_loss: 0.6620 - val_accuracy: 0.8890\n",
            "Epoch 12/50\n",
            "45/45 [==============================] - 0s 9ms/step - loss: 0.0074 - accuracy: 0.9991 - val_loss: 0.6682 - val_accuracy: 0.8880\n",
            "Epoch 13/50\n",
            "45/45 [==============================] - 0s 10ms/step - loss: 0.0073 - accuracy: 0.9991 - val_loss: 0.6724 - val_accuracy: 0.8883\n",
            "Epoch 14/50\n",
            "45/45 [==============================] - 0s 10ms/step - loss: 0.0069 - accuracy: 0.9993 - val_loss: 0.6793 - val_accuracy: 0.8893\n",
            "Epoch 15/50\n",
            "45/45 [==============================] - 0s 9ms/step - loss: 0.0067 - accuracy: 0.9993 - val_loss: 0.6875 - val_accuracy: 0.8890\n",
            "Epoch 16/50\n",
            "45/45 [==============================] - 0s 9ms/step - loss: 0.0063 - accuracy: 0.9991 - val_loss: 0.6907 - val_accuracy: 0.8893\n",
            "Epoch 17/50\n",
            "45/45 [==============================] - 0s 9ms/step - loss: 0.0061 - accuracy: 0.9993 - val_loss: 0.6975 - val_accuracy: 0.8863\n",
            "Epoch 18/50\n",
            "45/45 [==============================] - 0s 9ms/step - loss: 0.0058 - accuracy: 0.9994 - val_loss: 0.7050 - val_accuracy: 0.8880\n",
            "Epoch 19/50\n",
            "45/45 [==============================] - 0s 9ms/step - loss: 0.0058 - accuracy: 0.9994 - val_loss: 0.7035 - val_accuracy: 0.8837\n",
            "Epoch 20/50\n",
            "45/45 [==============================] - 0s 9ms/step - loss: 0.0055 - accuracy: 0.9996 - val_loss: 0.7115 - val_accuracy: 0.8887\n",
            "Epoch 21/50\n",
            "45/45 [==============================] - 0s 10ms/step - loss: 0.0053 - accuracy: 0.9996 - val_loss: 0.7197 - val_accuracy: 0.8890\n",
            "Epoch 22/50\n",
            "45/45 [==============================] - 0s 10ms/step - loss: 0.0052 - accuracy: 0.9996 - val_loss: 0.7257 - val_accuracy: 0.8887\n",
            "Epoch 23/50\n",
            "45/45 [==============================] - 0s 9ms/step - loss: 0.0052 - accuracy: 0.9993 - val_loss: 0.7259 - val_accuracy: 0.8873\n",
            "Epoch 24/50\n",
            "45/45 [==============================] - 0s 9ms/step - loss: 0.0050 - accuracy: 0.9994 - val_loss: 0.7291 - val_accuracy: 0.8863\n",
            "Epoch 25/50\n",
            "45/45 [==============================] - 0s 9ms/step - loss: 0.0049 - accuracy: 0.9994 - val_loss: 0.7357 - val_accuracy: 0.8870\n",
            "Epoch 26/50\n",
            "45/45 [==============================] - 0s 10ms/step - loss: 0.0047 - accuracy: 0.9994 - val_loss: 0.7448 - val_accuracy: 0.8870\n",
            "Epoch 27/50\n",
            "45/45 [==============================] - 0s 11ms/step - loss: 0.0047 - accuracy: 0.9994 - val_loss: 0.7466 - val_accuracy: 0.8883\n",
            "Epoch 28/50\n",
            "45/45 [==============================] - 0s 9ms/step - loss: 0.0045 - accuracy: 0.9996 - val_loss: 0.7501 - val_accuracy: 0.8890\n",
            "Epoch 29/50\n",
            "45/45 [==============================] - 0s 11ms/step - loss: 0.0045 - accuracy: 0.9994 - val_loss: 0.7525 - val_accuracy: 0.8877\n",
            "Epoch 30/50\n",
            "45/45 [==============================] - 0s 10ms/step - loss: 0.0044 - accuracy: 0.9996 - val_loss: 0.7531 - val_accuracy: 0.8840\n",
            "Epoch 31/50\n",
            "45/45 [==============================] - 0s 9ms/step - loss: 0.0045 - accuracy: 0.9994 - val_loss: 0.7535 - val_accuracy: 0.8827\n",
            "Epoch 32/50\n",
            "45/45 [==============================] - 0s 9ms/step - loss: 0.0046 - accuracy: 0.9990 - val_loss: 0.7591 - val_accuracy: 0.8843\n",
            "Epoch 33/50\n",
            "45/45 [==============================] - 0s 10ms/step - loss: 0.0044 - accuracy: 0.9994 - val_loss: 0.7670 - val_accuracy: 0.8863\n",
            "Epoch 34/50\n",
            "45/45 [==============================] - 0s 9ms/step - loss: 0.0042 - accuracy: 0.9994 - val_loss: 0.7714 - val_accuracy: 0.8877\n",
            "Epoch 35/50\n",
            "45/45 [==============================] - 0s 9ms/step - loss: 0.0043 - accuracy: 0.9991 - val_loss: 0.7762 - val_accuracy: 0.8880\n",
            "Epoch 36/50\n",
            "45/45 [==============================] - 0s 9ms/step - loss: 0.0039 - accuracy: 0.9996 - val_loss: 0.7790 - val_accuracy: 0.8870\n",
            "Epoch 37/50\n",
            "45/45 [==============================] - 0s 11ms/step - loss: 0.0038 - accuracy: 0.9996 - val_loss: 0.7834 - val_accuracy: 0.8873\n",
            "Epoch 38/50\n",
            "45/45 [==============================] - 0s 11ms/step - loss: 0.0037 - accuracy: 0.9996 - val_loss: 0.7806 - val_accuracy: 0.8830\n",
            "Epoch 39/50\n",
            "45/45 [==============================] - 0s 9ms/step - loss: 0.0037 - accuracy: 0.9996 - val_loss: 0.7816 - val_accuracy: 0.8840\n",
            "Epoch 40/50\n",
            "45/45 [==============================] - 0s 9ms/step - loss: 0.0036 - accuracy: 0.9996 - val_loss: 0.7900 - val_accuracy: 0.8877\n",
            "Epoch 41/50\n",
            "45/45 [==============================] - 0s 9ms/step - loss: 0.0036 - accuracy: 0.9996 - val_loss: 0.7942 - val_accuracy: 0.8883\n",
            "Epoch 42/50\n",
            "45/45 [==============================] - 0s 10ms/step - loss: 0.0035 - accuracy: 0.9996 - val_loss: 0.8003 - val_accuracy: 0.8870\n",
            "Epoch 43/50\n",
            "45/45 [==============================] - 0s 9ms/step - loss: 0.0035 - accuracy: 0.9996 - val_loss: 0.7993 - val_accuracy: 0.8860\n",
            "Epoch 44/50\n",
            "45/45 [==============================] - 0s 9ms/step - loss: 0.0035 - accuracy: 0.9996 - val_loss: 0.7983 - val_accuracy: 0.8840\n",
            "Epoch 45/50\n",
            "45/45 [==============================] - 0s 11ms/step - loss: 0.0037 - accuracy: 0.9993 - val_loss: 0.8047 - val_accuracy: 0.8860\n",
            "Epoch 46/50\n",
            "45/45 [==============================] - 0s 9ms/step - loss: 0.0033 - accuracy: 0.9996 - val_loss: 0.8071 - val_accuracy: 0.8827\n",
            "Epoch 47/50\n",
            "45/45 [==============================] - 0s 9ms/step - loss: 0.0033 - accuracy: 0.9996 - val_loss: 0.8120 - val_accuracy: 0.8847\n",
            "Epoch 48/50\n",
            "45/45 [==============================] - 0s 10ms/step - loss: 0.0031 - accuracy: 0.9997 - val_loss: 0.8151 - val_accuracy: 0.8860\n",
            "Epoch 49/50\n",
            "45/45 [==============================] - 0s 9ms/step - loss: 0.0031 - accuracy: 0.9997 - val_loss: 0.8135 - val_accuracy: 0.8837\n",
            "Epoch 50/50\n",
            "45/45 [==============================] - 0s 9ms/step - loss: 0.0030 - accuracy: 0.9997 - val_loss: 0.8181 - val_accuracy: 0.8850\n"
          ]
        },
        {
          "output_type": "execute_result",
          "data": {
            "text/plain": [
              "<matplotlib.axes._subplots.AxesSubplot at 0x7f414251bb50>"
            ]
          },
          "metadata": {},
          "execution_count": 65
        },
        {
          "output_type": "display_data",
          "data": {
            "image/png": "[encoded data removed]",
            "text/plain": [
              "<Figure size 432x288 with 1 Axes>"
            ]
          },
          "metadata": {
            "needs_background": "light"
          }
        }
      ]
    },
    {
      "cell_type": "code",
      "source": [
        "model = keras.models.Sequential()\n",
        "#All data pre-processing should be in keras model\n",
        "model.add(keras.layers.Conv2D(32, kernel_size=(3, 3), activation = 'relu', input_shape=[50,50,1]))\n",
        "model.add(keras.layers.BatchNormalization(axis=-1))\n",
        "model.add(keras.layers.MaxPooling2D(pool_size=(2,2)))\n",
        "model.add(keras.layers.Conv2D(32, kernel_size=(3, 3), activation = 'relu'))\n",
        "model.add(keras.layers.BatchNormalization(axis=-1))\n",
        "model.add(keras.layers.MaxPooling2D(pool_size=(2,2)))\n",
        "model.add(keras.layers.Flatten())\n",
        "model.add(keras.layers.Dense(80, activation='relu'))\n",
        "model.add(keras.layers.Dense(70, activation='relu'))\n",
        "model.add(keras.layers.Dense(60, activation='relu'))\n",
        "model.add(keras.layers.Dense(50, activation='relu'))\n",
        "model.add(keras.layers.Dense(25, activation='relu'))\n",
        "model.add(keras.layers.Dense(20, activation='relu'))\n",
        "model.add(keras.layers.Dense(15, activation='relu'))\n",
        "model.add(keras.layers.Dense(10, activation='softmax'))\n",
        "model.compile(loss='sparse_categorical_crossentropy', \n",
        "              optimizer='sgd', \n",
        "              metrics=['accuracy'])\n",
        "#if using categorical_crossentropy - expects one hot encoded output\n",
        "model.summary()"
      ],
      "metadata": {
        "colab": {
          "base_uri": "https://localhost:8080/"
        },
        "id": "kZSvKYCjt3z7",
        "outputId": "1ecae2cf-5bf3-4abb-f0b3-6163f684665e"
      },
      "execution_count": 66,
      "outputs": [
        {
          "output_type": "stream",
          "name": "stdout",
          "text": [
            "Model: \"sequential_7\"\n",
            "_________________________________________________________________\n",
            " Layer (type)                Output Shape              Param #   \n",
            "=================================================================\n",
            " conv2d (Conv2D)             (None, 48, 48, 32)        320       \n",
            "                                                                 \n",
            " batch_normalization (BatchN  (None, 48, 48, 32)       128       \n",
            " ormalization)                                                   \n",
            "                                                                 \n",
            " max_pooling2d (MaxPooling2D  (None, 24, 24, 32)       0         \n",
            " )                                                               \n",
            "                                                                 \n",
            " conv2d_1 (Conv2D)           (None, 22, 22, 32)        9248      \n",
            "                                                                 \n",
            " batch_normalization_1 (Batc  (None, 22, 22, 32)       128       \n",
            " hNormalization)                                                 \n",
            "                                                                 \n",
            " max_pooling2d_1 (MaxPooling  (None, 11, 11, 32)       0         \n",
            " 2D)                                                             \n",
            "                                                                 \n",
            " flatten_7 (Flatten)         (None, 3872)              0         \n",
            "                                                                 \n",
            " dense_43 (Dense)            (None, 80)                309840    \n",
            "                                                                 \n",
            " dense_44 (Dense)            (None, 70)                5670      \n",
            "                                                                 \n",
            " dense_45 (Dense)            (None, 60)                4260      \n",
            "                                                                 \n",
            " dense_46 (Dense)            (None, 50)                3050      \n",
            "                                                                 \n",
            " dense_47 (Dense)            (None, 25)                1275      \n",
            "                                                                 \n",
            " dense_48 (Dense)            (None, 20)                520       \n",
            "                                                                 \n",
            " dense_49 (Dense)            (None, 15)                315       \n",
            "                                                                 \n",
            " dense_50 (Dense)            (None, 10)                160       \n",
            "                                                                 \n",
            "=================================================================\n",
            "Total params: 334,914\n",
            "Trainable params: 334,786\n",
            "Non-trainable params: 128\n",
            "_________________________________________________________________\n"
          ]
        }
      ]
    },
    {
      "cell_type": "code",
      "source": [
        "loss=model.fit(X_train, y_train, validation_data=(X_test, y_test), epochs=50, batch_size=200)"
      ],
      "metadata": {
        "colab": {
          "base_uri": "https://localhost:8080/"
        },
        "id": "eSNqtd4evBpI",
        "outputId": "c1a2c2b9-b673-4bcb-cabc-97603c9452f8"
      },
      "execution_count": 67,
      "outputs": [
        {
          "output_type": "stream",
          "name": "stdout",
          "text": [
            "Epoch 1/50\n",
            "35/35 [==============================] - 9s 41ms/step - loss: 2.1494 - accuracy: 0.2321 - val_loss: 2.2519 - val_accuracy: 0.2833\n",
            "Epoch 2/50\n",
            "35/35 [==============================] - 1s 32ms/step - loss: 1.7506 - accuracy: 0.3694 - val_loss: 2.2051 - val_accuracy: 0.2830\n",
            "Epoch 3/50\n",
            "35/35 [==============================] - 1s 32ms/step - loss: 1.4137 - accuracy: 0.4416 - val_loss: 2.1685 - val_accuracy: 0.2833\n",
            "Epoch 4/50\n",
            "35/35 [==============================] - 1s 32ms/step - loss: 1.2582 - accuracy: 0.4837 - val_loss: 2.1351 - val_accuracy: 0.3160\n",
            "Epoch 5/50\n",
            "35/35 [==============================] - 1s 32ms/step - loss: 1.1791 - accuracy: 0.5059 - val_loss: 2.1000 - val_accuracy: 0.3230\n",
            "Epoch 6/50\n",
            "35/35 [==============================] - 1s 32ms/step - loss: 1.1305 - accuracy: 0.5291 - val_loss: 2.0608 - val_accuracy: 0.3100\n",
            "Epoch 7/50\n",
            "35/35 [==============================] - 1s 32ms/step - loss: 1.0567 - accuracy: 0.5604 - val_loss: 2.0152 - val_accuracy: 0.2107\n",
            "Epoch 8/50\n",
            "35/35 [==============================] - 1s 32ms/step - loss: 1.0205 - accuracy: 0.5760 - val_loss: 1.9727 - val_accuracy: 0.1650\n",
            "Epoch 9/50\n",
            "35/35 [==============================] - 1s 32ms/step - loss: 0.9134 - accuracy: 0.6286 - val_loss: 1.9329 - val_accuracy: 0.1537\n",
            "Epoch 10/50\n",
            "35/35 [==============================] - 1s 32ms/step - loss: 0.8557 - accuracy: 0.6620 - val_loss: 1.9230 - val_accuracy: 0.1460\n",
            "Epoch 11/50\n",
            "35/35 [==============================] - 1s 33ms/step - loss: 0.8377 - accuracy: 0.6673 - val_loss: 1.9237 - val_accuracy: 0.1520\n",
            "Epoch 12/50\n",
            "35/35 [==============================] - 1s 32ms/step - loss: 0.7549 - accuracy: 0.7141 - val_loss: 1.9237 - val_accuracy: 0.1527\n",
            "Epoch 13/50\n",
            "35/35 [==============================] - 1s 32ms/step - loss: 0.6516 - accuracy: 0.7593 - val_loss: 2.0099 - val_accuracy: 0.1570\n",
            "Epoch 14/50\n",
            "35/35 [==============================] - 1s 32ms/step - loss: 0.6426 - accuracy: 0.7670 - val_loss: 2.1041 - val_accuracy: 0.1527\n",
            "Epoch 15/50\n",
            "35/35 [==============================] - 1s 33ms/step - loss: 0.5093 - accuracy: 0.8214 - val_loss: 2.2442 - val_accuracy: 0.1530\n",
            "Epoch 16/50\n",
            "35/35 [==============================] - 1s 33ms/step - loss: 0.5690 - accuracy: 0.7921 - val_loss: 2.0034 - val_accuracy: 0.1700\n",
            "Epoch 17/50\n",
            "35/35 [==============================] - 1s 32ms/step - loss: 0.4718 - accuracy: 0.8391 - val_loss: 2.1036 - val_accuracy: 0.2567\n",
            "Epoch 18/50\n",
            "35/35 [==============================] - 1s 33ms/step - loss: 0.3948 - accuracy: 0.8729 - val_loss: 1.8114 - val_accuracy: 0.3203\n",
            "Epoch 19/50\n",
            "35/35 [==============================] - 1s 32ms/step - loss: 0.3092 - accuracy: 0.9116 - val_loss: 1.8028 - val_accuracy: 0.3153\n",
            "Epoch 20/50\n",
            "35/35 [==============================] - 1s 32ms/step - loss: 0.2901 - accuracy: 0.9164 - val_loss: 1.0462 - val_accuracy: 0.5860\n",
            "Epoch 21/50\n",
            "35/35 [==============================] - 1s 32ms/step - loss: 0.3846 - accuracy: 0.8820 - val_loss: 0.4821 - val_accuracy: 0.8383\n",
            "Epoch 22/50\n",
            "35/35 [==============================] - 1s 32ms/step - loss: 0.2075 - accuracy: 0.9506 - val_loss: 0.9755 - val_accuracy: 0.6177\n",
            "Epoch 23/50\n",
            "35/35 [==============================] - 1s 32ms/step - loss: 0.1793 - accuracy: 0.9591 - val_loss: 0.5047 - val_accuracy: 0.8210\n",
            "Epoch 24/50\n",
            "35/35 [==============================] - 1s 32ms/step - loss: 0.1505 - accuracy: 0.9684 - val_loss: 0.7279 - val_accuracy: 0.7317\n",
            "Epoch 25/50\n",
            "35/35 [==============================] - 1s 32ms/step - loss: 0.1323 - accuracy: 0.9741 - val_loss: 0.5144 - val_accuracy: 0.8227\n",
            "Epoch 26/50\n",
            "35/35 [==============================] - 1s 33ms/step - loss: 0.1112 - accuracy: 0.9797 - val_loss: 0.4293 - val_accuracy: 0.8590\n",
            "Epoch 27/50\n",
            "35/35 [==============================] - 1s 33ms/step - loss: 0.0998 - accuracy: 0.9819 - val_loss: 0.4588 - val_accuracy: 0.8547\n",
            "Epoch 28/50\n",
            "35/35 [==============================] - 1s 32ms/step - loss: 0.0879 - accuracy: 0.9856 - val_loss: 0.3503 - val_accuracy: 0.8937\n",
            "Epoch 29/50\n",
            "35/35 [==============================] - 1s 32ms/step - loss: 0.0812 - accuracy: 0.9851 - val_loss: 0.7247 - val_accuracy: 0.7623\n",
            "Epoch 30/50\n",
            "35/35 [==============================] - 1s 32ms/step - loss: 0.0749 - accuracy: 0.9859 - val_loss: 0.3553 - val_accuracy: 0.8947\n",
            "Epoch 31/50\n",
            "35/35 [==============================] - 1s 32ms/step - loss: 0.0868 - accuracy: 0.9801 - val_loss: 0.4220 - val_accuracy: 0.8680\n",
            "Epoch 32/50\n",
            "35/35 [==============================] - 1s 32ms/step - loss: 0.0631 - accuracy: 0.9903 - val_loss: 0.3908 - val_accuracy: 0.8960\n",
            "Epoch 33/50\n",
            "35/35 [==============================] - 1s 32ms/step - loss: 0.0532 - accuracy: 0.9921 - val_loss: 0.3045 - val_accuracy: 0.9237\n",
            "Epoch 34/50\n",
            "35/35 [==============================] - 1s 32ms/step - loss: 0.0475 - accuracy: 0.9930 - val_loss: 0.3731 - val_accuracy: 0.8987\n",
            "Epoch 35/50\n",
            "35/35 [==============================] - 1s 33ms/step - loss: 0.0439 - accuracy: 0.9937 - val_loss: 0.2911 - val_accuracy: 0.9330\n",
            "Epoch 36/50\n",
            "35/35 [==============================] - 1s 32ms/step - loss: 0.0408 - accuracy: 0.9941 - val_loss: 0.2969 - val_accuracy: 0.9307\n",
            "Epoch 37/50\n",
            "35/35 [==============================] - 1s 32ms/step - loss: 0.0376 - accuracy: 0.9939 - val_loss: 0.2971 - val_accuracy: 0.9277\n",
            "Epoch 38/50\n",
            "35/35 [==============================] - 1s 34ms/step - loss: 0.0331 - accuracy: 0.9950 - val_loss: 0.3019 - val_accuracy: 0.9307\n",
            "Epoch 39/50\n",
            "35/35 [==============================] - 1s 34ms/step - loss: 0.0301 - accuracy: 0.9960 - val_loss: 0.3103 - val_accuracy: 0.9287\n",
            "Epoch 40/50\n",
            "35/35 [==============================] - 1s 33ms/step - loss: 0.0280 - accuracy: 0.9957 - val_loss: 0.3235 - val_accuracy: 0.9200\n",
            "Epoch 41/50\n",
            "35/35 [==============================] - 1s 33ms/step - loss: 0.0264 - accuracy: 0.9960 - val_loss: 0.2965 - val_accuracy: 0.9330\n",
            "Epoch 42/50\n",
            "35/35 [==============================] - 1s 32ms/step - loss: 0.0235 - accuracy: 0.9970 - val_loss: 0.3089 - val_accuracy: 0.9297\n",
            "Epoch 43/50\n",
            "35/35 [==============================] - 1s 32ms/step - loss: 0.0214 - accuracy: 0.9969 - val_loss: 0.3043 - val_accuracy: 0.9350\n",
            "Epoch 44/50\n",
            "35/35 [==============================] - 1s 33ms/step - loss: 0.0206 - accuracy: 0.9973 - val_loss: 0.3411 - val_accuracy: 0.9197\n",
            "Epoch 45/50\n",
            "35/35 [==============================] - 1s 33ms/step - loss: 0.0187 - accuracy: 0.9977 - val_loss: 0.3112 - val_accuracy: 0.9340\n",
            "Epoch 46/50\n",
            "35/35 [==============================] - 1s 32ms/step - loss: 0.0176 - accuracy: 0.9976 - val_loss: 0.3160 - val_accuracy: 0.9310\n",
            "Epoch 47/50\n",
            "35/35 [==============================] - 1s 33ms/step - loss: 0.0168 - accuracy: 0.9980 - val_loss: 0.3242 - val_accuracy: 0.9303\n",
            "Epoch 48/50\n",
            "35/35 [==============================] - 1s 32ms/step - loss: 0.0160 - accuracy: 0.9979 - val_loss: 0.3186 - val_accuracy: 0.9377\n",
            "Epoch 49/50\n",
            "35/35 [==============================] - 1s 33ms/step - loss: 0.0146 - accuracy: 0.9983 - val_loss: 0.3189 - val_accuracy: 0.9353\n",
            "Epoch 50/50\n",
            "35/35 [==============================] - 1s 33ms/step - loss: 0.0138 - accuracy: 0.9980 - val_loss: 0.3226 - val_accuracy: 0.9343\n"
          ]
        }
      ]
    },
    {
      "cell_type": "code",
      "source": [
        "pred=model.predict(X_test).argmax(axis=1)\n",
        "print('Test set accuracy - {0:.02%}'.format((pred==y_test).mean()))"
      ],
      "metadata": {
        "colab": {
          "base_uri": "https://localhost:8080/"
        },
        "id": "ov2FUCAYvSBG",
        "outputId": "d8313f3d-b10c-48ff-f38d-6137546afc23"
      },
      "execution_count": 69,
      "outputs": [
        {
          "output_type": "stream",
          "name": "stdout",
          "text": [
            "Test set accuracy - 93.43%\n"
          ]
        }
      ]
    },
    {
      "cell_type": "code",
      "source": [
        "model.save('model2.h5')"
      ],
      "metadata": {
        "id": "TR7UrFt4v9fe"
      },
      "execution_count": 70,
      "outputs": []
    },
    {
      "cell_type": "code",
      "source": [
        "model = keras.models.load_model('model2.h5')\n",
        "evaluate('flatland_train.data', model)"
      ],
      "metadata": {
        "colab": {
          "base_uri": "https://localhost:8080/"
        },
        "id": "cfadobPzwC0z",
        "outputId": "184bbb75-74ab-42ae-9e9e-5eaaf14bf476"
      },
      "execution_count": 72,
      "outputs": [
        {
          "output_type": "execute_result",
          "data": {
            "text/plain": [
              "0.9792"
            ]
          },
          "metadata": {},
          "execution_count": 72
        }
      ]
    },
    {
      "cell_type": "code",
      "source": [
        "model = keras.models.Sequential()\n",
        "#All data pre-processing should be in keras model\n",
        "model.add(keras.layers.Conv2D(32, kernel_size=(3, 3), activation = 'relu', input_shape=[50,50,1]))\n",
        "model.add(keras.layers.BatchNormalization(axis=-1))\n",
        "model.add(keras.layers.MaxPooling2D(pool_size=(2,2)))\n",
        "model.add(keras.layers.Conv2D(32, kernel_size=(3, 3), activation = 'relu'))\n",
        "model.add(keras.layers.BatchNormalization(axis=-1))\n",
        "model.add(keras.layers.MaxPooling2D(pool_size=(2,2)))\n",
        "model.add(keras.layers.Flatten())\n",
        "model.add(keras.layers.Dense(25, activation='relu'))\n",
        "model.add(keras.layers.Dense(20, activation='relu'))\n",
        "model.add(keras.layers.Dense(15, activation='relu'))\n",
        "model.add(keras.layers.Dense(10, activation='softmax'))\n",
        "model.compile(loss='sparse_categorical_crossentropy', \n",
        "              optimizer='sgd', \n",
        "              metrics=['accuracy'])\n",
        "#if using categorical_crossentropy - expects one hot encoded output\n",
        "model.summary()"
      ],
      "metadata": {
        "colab": {
          "base_uri": "https://localhost:8080/"
        },
        "id": "-q3J2ejywGPE",
        "outputId": "0831df0e-4318-4ca8-9406-c23f59a100c0"
      },
      "execution_count": 74,
      "outputs": [
        {
          "output_type": "stream",
          "name": "stdout",
          "text": [
            "Model: \"sequential_9\"\n",
            "_________________________________________________________________\n",
            " Layer (type)                Output Shape              Param #   \n",
            "=================================================================\n",
            " conv2d_4 (Conv2D)           (None, 48, 48, 32)        320       \n",
            "                                                                 \n",
            " batch_normalization_4 (Batc  (None, 48, 48, 32)       128       \n",
            " hNormalization)                                                 \n",
            "                                                                 \n",
            " max_pooling2d_4 (MaxPooling  (None, 24, 24, 32)       0         \n",
            " 2D)                                                             \n",
            "                                                                 \n",
            " conv2d_5 (Conv2D)           (None, 22, 22, 32)        9248      \n",
            "                                                                 \n",
            " batch_normalization_5 (Batc  (None, 22, 22, 32)       128       \n",
            " hNormalization)                                                 \n",
            "                                                                 \n",
            " max_pooling2d_5 (MaxPooling  (None, 11, 11, 32)       0         \n",
            " 2D)                                                             \n",
            "                                                                 \n",
            " flatten_9 (Flatten)         (None, 3872)              0         \n",
            "                                                                 \n",
            " dense_59 (Dense)            (None, 25)                96825     \n",
            "                                                                 \n",
            " dense_60 (Dense)            (None, 20)                520       \n",
            "                                                                 \n",
            " dense_61 (Dense)            (None, 15)                315       \n",
            "                                                                 \n",
            " dense_62 (Dense)            (None, 10)                160       \n",
            "                                                                 \n",
            "=================================================================\n",
            "Total params: 107,644\n",
            "Trainable params: 107,516\n",
            "Non-trainable params: 128\n",
            "_________________________________________________________________\n"
          ]
        }
      ]
    },
    {
      "cell_type": "code",
      "source": [
        "loss = model.fit(X_train, y_train, validation_data = (X_test, y_test), epochs=50)"
      ],
      "metadata": {
        "colab": {
          "base_uri": "https://localhost:8080/"
        },
        "id": "UWlBZkvJxHf7",
        "outputId": "8f43a151-bed1-4911-c6a8-a4da4c07c728"
      },
      "execution_count": 75,
      "outputs": [
        {
          "output_type": "stream",
          "name": "stdout",
          "text": [
            "Epoch 1/50\n",
            "219/219 [==============================] - 4s 13ms/step - loss: 1.3912 - accuracy: 0.4531 - val_loss: 2.1537 - val_accuracy: 0.1960\n",
            "Epoch 2/50\n",
            "219/219 [==============================] - 2s 10ms/step - loss: 1.0016 - accuracy: 0.5877 - val_loss: 2.1927 - val_accuracy: 0.2017\n",
            "Epoch 3/50\n",
            "219/219 [==============================] - 2s 11ms/step - loss: 0.7220 - accuracy: 0.7159 - val_loss: 0.8592 - val_accuracy: 0.6513\n",
            "Epoch 4/50\n",
            "219/219 [==============================] - 3s 12ms/step - loss: 0.5368 - accuracy: 0.7990 - val_loss: 0.6482 - val_accuracy: 0.7483\n",
            "Epoch 5/50\n",
            "219/219 [==============================] - 2s 10ms/step - loss: 0.4032 - accuracy: 0.8597 - val_loss: 0.5558 - val_accuracy: 0.7943\n",
            "Epoch 6/50\n",
            "219/219 [==============================] - 3s 12ms/step - loss: 0.2800 - accuracy: 0.9184 - val_loss: 0.6764 - val_accuracy: 0.7700\n",
            "Epoch 7/50\n",
            "219/219 [==============================] - 3s 12ms/step - loss: 0.2356 - accuracy: 0.9303 - val_loss: 0.6745 - val_accuracy: 0.7777\n",
            "Epoch 8/50\n",
            "219/219 [==============================] - 2s 10ms/step - loss: 0.1789 - accuracy: 0.9533 - val_loss: 0.3273 - val_accuracy: 0.9017\n",
            "Epoch 9/50\n",
            "219/219 [==============================] - 3s 12ms/step - loss: 0.1399 - accuracy: 0.9621 - val_loss: 0.7352 - val_accuracy: 0.7787\n",
            "Epoch 10/50\n",
            "219/219 [==============================] - 2s 10ms/step - loss: 0.1161 - accuracy: 0.9693 - val_loss: 0.3368 - val_accuracy: 0.9137\n",
            "Epoch 11/50\n",
            "219/219 [==============================] - 3s 12ms/step - loss: 0.1084 - accuracy: 0.9684 - val_loss: 0.4434 - val_accuracy: 0.8777\n",
            "Epoch 12/50\n",
            "219/219 [==============================] - 2s 11ms/step - loss: 0.0765 - accuracy: 0.9823 - val_loss: 0.2826 - val_accuracy: 0.9310\n",
            "Epoch 13/50\n",
            "219/219 [==============================] - 3s 12ms/step - loss: 0.0586 - accuracy: 0.9861 - val_loss: 0.3721 - val_accuracy: 0.8980\n",
            "Epoch 14/50\n",
            "219/219 [==============================] - 2s 11ms/step - loss: 0.0538 - accuracy: 0.9869 - val_loss: 0.2976 - val_accuracy: 0.9320\n",
            "Epoch 15/50\n",
            "219/219 [==============================] - 3s 12ms/step - loss: 0.0427 - accuracy: 0.9891 - val_loss: 0.2690 - val_accuracy: 0.9410\n",
            "Epoch 16/50\n",
            "219/219 [==============================] - 3s 12ms/step - loss: 0.0371 - accuracy: 0.9903 - val_loss: 0.5544 - val_accuracy: 0.8607\n",
            "Epoch 17/50\n",
            "219/219 [==============================] - 3s 12ms/step - loss: 0.0301 - accuracy: 0.9924 - val_loss: 0.3011 - val_accuracy: 0.9347\n",
            "Epoch 18/50\n",
            "219/219 [==============================] - 2s 10ms/step - loss: 0.0207 - accuracy: 0.9954 - val_loss: 0.2973 - val_accuracy: 0.9383\n",
            "Epoch 19/50\n",
            "219/219 [==============================] - 2s 11ms/step - loss: 0.0175 - accuracy: 0.9964 - val_loss: 0.2842 - val_accuracy: 0.9440\n",
            "Epoch 20/50\n",
            "219/219 [==============================] - 2s 11ms/step - loss: 0.0133 - accuracy: 0.9979 - val_loss: 0.2978 - val_accuracy: 0.9413\n",
            "Epoch 21/50\n",
            "219/219 [==============================] - 2s 11ms/step - loss: 0.0094 - accuracy: 0.9984 - val_loss: 0.3348 - val_accuracy: 0.9300\n",
            "Epoch 22/50\n",
            "219/219 [==============================] - 3s 12ms/step - loss: 0.0131 - accuracy: 0.9970 - val_loss: 0.2932 - val_accuracy: 0.9450\n",
            "Epoch 23/50\n",
            "219/219 [==============================] - 2s 10ms/step - loss: 0.0052 - accuracy: 0.9997 - val_loss: 0.3032 - val_accuracy: 0.9443\n",
            "Epoch 24/50\n",
            "219/219 [==============================] - 3s 12ms/step - loss: 0.0034 - accuracy: 1.0000 - val_loss: 0.2939 - val_accuracy: 0.9520\n",
            "Epoch 25/50\n",
            "219/219 [==============================] - 2s 10ms/step - loss: 0.0032 - accuracy: 0.9999 - val_loss: 0.2971 - val_accuracy: 0.9523\n",
            "Epoch 26/50\n",
            "219/219 [==============================] - 2s 10ms/step - loss: 0.0026 - accuracy: 1.0000 - val_loss: 0.3011 - val_accuracy: 0.9497\n",
            "Epoch 27/50\n",
            "219/219 [==============================] - 2s 10ms/step - loss: 0.0021 - accuracy: 1.0000 - val_loss: 0.3036 - val_accuracy: 0.9513\n",
            "Epoch 28/50\n",
            "219/219 [==============================] - 2s 10ms/step - loss: 0.0019 - accuracy: 1.0000 - val_loss: 0.3055 - val_accuracy: 0.9530\n",
            "Epoch 29/50\n",
            "219/219 [==============================] - 2s 10ms/step - loss: 0.0018 - accuracy: 1.0000 - val_loss: 0.3094 - val_accuracy: 0.9517\n",
            "Epoch 30/50\n",
            "219/219 [==============================] - 2s 10ms/step - loss: 0.0014 - accuracy: 1.0000 - val_loss: 0.3192 - val_accuracy: 0.9490\n",
            "Epoch 31/50\n",
            "219/219 [==============================] - 2s 10ms/step - loss: 0.0015 - accuracy: 1.0000 - val_loss: 0.3149 - val_accuracy: 0.9510\n",
            "Epoch 32/50\n",
            "219/219 [==============================] - 2s 11ms/step - loss: 0.0013 - accuracy: 1.0000 - val_loss: 0.3138 - val_accuracy: 0.9520\n",
            "Epoch 33/50\n",
            "219/219 [==============================] - 3s 12ms/step - loss: 0.0012 - accuracy: 1.0000 - val_loss: 0.3218 - val_accuracy: 0.9503\n",
            "Epoch 34/50\n",
            "219/219 [==============================] - 3s 12ms/step - loss: 0.0011 - accuracy: 1.0000 - val_loss: 0.3250 - val_accuracy: 0.9487\n",
            "Epoch 35/50\n",
            "219/219 [==============================] - 3s 11ms/step - loss: 0.0011 - accuracy: 1.0000 - val_loss: 0.3224 - val_accuracy: 0.9507\n",
            "Epoch 36/50\n",
            "219/219 [==============================] - 3s 12ms/step - loss: 9.6136e-04 - accuracy: 1.0000 - val_loss: 0.3265 - val_accuracy: 0.9507\n",
            "Epoch 37/50\n",
            "219/219 [==============================] - 2s 10ms/step - loss: 9.9869e-04 - accuracy: 1.0000 - val_loss: 0.3232 - val_accuracy: 0.9510\n",
            "Epoch 38/50\n",
            "219/219 [==============================] - 3s 12ms/step - loss: 8.7041e-04 - accuracy: 1.0000 - val_loss: 0.3282 - val_accuracy: 0.9520\n",
            "Epoch 39/50\n",
            "219/219 [==============================] - 2s 11ms/step - loss: 8.9948e-04 - accuracy: 1.0000 - val_loss: 0.3281 - val_accuracy: 0.9517\n",
            "Epoch 40/50\n",
            "219/219 [==============================] - 2s 11ms/step - loss: 8.5866e-04 - accuracy: 1.0000 - val_loss: 0.3316 - val_accuracy: 0.9520\n",
            "Epoch 41/50\n",
            "219/219 [==============================] - 3s 12ms/step - loss: 7.6570e-04 - accuracy: 1.0000 - val_loss: 0.3349 - val_accuracy: 0.9503\n",
            "Epoch 42/50\n",
            "219/219 [==============================] - 2s 10ms/step - loss: 7.1557e-04 - accuracy: 1.0000 - val_loss: 0.3372 - val_accuracy: 0.9500\n",
            "Epoch 43/50\n",
            "219/219 [==============================] - 3s 12ms/step - loss: 6.7327e-04 - accuracy: 1.0000 - val_loss: 0.3345 - val_accuracy: 0.9517\n",
            "Epoch 44/50\n",
            "219/219 [==============================] - 2s 10ms/step - loss: 6.6901e-04 - accuracy: 1.0000 - val_loss: 0.3358 - val_accuracy: 0.9513\n",
            "Epoch 45/50\n",
            "219/219 [==============================] - 2s 10ms/step - loss: 6.4136e-04 - accuracy: 1.0000 - val_loss: 0.3367 - val_accuracy: 0.9517\n",
            "Epoch 46/50\n",
            "219/219 [==============================] - 2s 10ms/step - loss: 5.8422e-04 - accuracy: 1.0000 - val_loss: 0.3401 - val_accuracy: 0.9503\n",
            "Epoch 47/50\n",
            "219/219 [==============================] - 2s 11ms/step - loss: 0.0013 - accuracy: 0.9999 - val_loss: 0.3405 - val_accuracy: 0.9497\n",
            "Epoch 48/50\n",
            "219/219 [==============================] - 3s 12ms/step - loss: 6.4812e-04 - accuracy: 1.0000 - val_loss: 0.3426 - val_accuracy: 0.9493\n",
            "Epoch 49/50\n",
            "219/219 [==============================] - 2s 10ms/step - loss: 6.1226e-04 - accuracy: 1.0000 - val_loss: 0.3403 - val_accuracy: 0.9500\n",
            "Epoch 50/50\n",
            "219/219 [==============================] - 2s 10ms/step - loss: 5.2490e-04 - accuracy: 1.0000 - val_loss: 0.3440 - val_accuracy: 0.9503\n"
          ]
        }
      ]
    },
    {
      "cell_type": "code",
      "source": [
        "pred = model.predict(X_test).argmax(axis=1)\n",
        "print('Test set accuracy - {0:.02%}'.format((pred ==y_test).mean()))"
      ],
      "metadata": {
        "colab": {
          "base_uri": "https://localhost:8080/"
        },
        "id": "wnEh62FaxeS8",
        "outputId": "47651d09-1f4b-416c-fb5e-3ac83990093c"
      },
      "execution_count": 78,
      "outputs": [
        {
          "output_type": "stream",
          "name": "stdout",
          "text": [
            "Test set accuracy - 95.03%\n"
          ]
        }
      ]
    },
    {
      "cell_type": "code",
      "source": [
        "model.save('model3.h5')"
      ],
      "metadata": {
        "id": "eCmmwPMAyTve"
      },
      "execution_count": 79,
      "outputs": []
    },
    {
      "cell_type": "code",
      "source": [
        "model = keras.models.load_model('model3.h5')\n",
        "evaluate('flatland_train.data', model)"
      ],
      "metadata": {
        "colab": {
          "base_uri": "https://localhost:8080/"
        },
        "id": "pVaiVZOmydwL",
        "outputId": "12520e60-b082-493c-82a0-d636f73eced6"
      },
      "execution_count": 80,
      "outputs": [
        {
          "output_type": "execute_result",
          "data": {
            "text/plain": [
              "0.9851"
            ]
          },
          "metadata": {},
          "execution_count": 80
        }
      ]
    },
    {
      "cell_type": "code",
      "source": [
        ""
      ],
      "metadata": {
        "id": "bLxcPoSryhVA"
      },
      "execution_count": null,
      "outputs": []
    }
  ]
}