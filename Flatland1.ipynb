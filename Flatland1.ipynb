{
  "nbformat": 4,
  "nbformat_minor": 0,
  "metadata": {
    "colab": {
      "name": "Flatland.ipynb",
      "provenance": [],
      "collapsed_sections": []
    },
    "kernelspec": {
      "name": "python3",
      "display_name": "Python 3"
    },
    "language_info": {
      "name": "python"
    },
    "accelerator": "GPU"
  },
  "cells": [
    {
      "cell_type": "code",
      "execution_count": 1,
      "metadata": {
        "id": "TESHA8fBejun"
      },
      "outputs": [],
      "source": [
        "import gzip\n",
        "import pickle\n",
        "import numpy as np\n",
        "import matplotlib.pyplot as plt\n",
        "import pandas as pd\n",
        "from tensorflow import keras\n",
        "from google.colab import files\n",
        "from collections import Counter\n",
        "from sklearn.model_selection import train_test_split\n"
      ]
    },
    {
      "cell_type": "code",
      "source": [
        "uploaded=files.upload()"
      ],
      "metadata": {
        "colab": {
          "resources": {
            "http://localhost:8080/nbextensions/google.colab/files.js": {
              "data": "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",
              "ok": true,
              "headers": [
                [
                  "content-type",
                  "application/javascript"
                ]
              ],
              "status": 200,
              "status_text": ""
            }
          },
          "base_uri": "https://localhost:8080/",
          "height": 74
        },
        "id": "IQyxlpvRgxWZ",
        "outputId": "bc8c8758-588d-4b70-d12c-9926ea183aa9"
      },
      "execution_count": 2,
      "outputs": [
        {
          "output_type": "display_data",
          "data": {
            "text/html": [
              "\n",
              "     <input type=\"file\" id=\"files-c3724026-ae1c-49ab-b96d-121f22572bea\" name=\"files[]\" multiple disabled\n",
              "        style=\"border:none\" />\n",
              "     <output id=\"result-c3724026-ae1c-49ab-b96d-121f22572bea\">\n",
              "      Upload widget is only available when the cell has been executed in the\n",
              "      current browser session. Please rerun this cell to enable.\n",
              "      </output>\n",
              "      <script src=\"/nbextensions/google.colab/files.js\"></script> "
            ],
            "text/plain": [
              "<IPython.core.display.HTML object>"
            ]
          },
          "metadata": {}
        },
        {
          "output_type": "stream",
          "name": "stdout",
          "text": [
            "Saving flatland_train.data to flatland_train.data\n"
          ]
        }
      ]
    },
    {
      "cell_type": "code",
      "source": [
        "def evaluate(path, model):\n",
        "    X, y = pickle.load(gzip.open(path, 'rb'))\n",
        "    y[y != 0] -= 2\n",
        "    X = X / 255.\n",
        "    acc = np.mean(model(X).numpy().argmax(axis=1) == y)\n",
        "    return acc"
      ],
      "metadata": {
        "id": "-HAEbSLsg3Z-"
      },
      "execution_count": 3,
      "outputs": []
    },
    {
      "cell_type": "code",
      "source": [
        "path = 'flatland_train.data'\n",
        "X, y = pickle.load(gzip.open(path, 'rb')) #(10000,50,50)\n",
        "\n",
        "#data pre-proc\n",
        "y[y != 0] -= 2 #jei klasė ne nulis, atimk iš jos 2, labels from (0, 4)\n",
        "X = X / 255. #normalizuojam data, kad pixeliai butu rezyje (0,1)"
      ],
      "metadata": {
        "id": "nG1zLWAfgGQ7"
      },
      "execution_count": 4,
      "outputs": []
    },
    {
      "cell_type": "code",
      "source": [
        "X_train, X_test, y_train, y_test = train_test_split(X, y, test_size=0.3, random_state=42)"
      ],
      "metadata": {
        "id": "owGnOmGKnCCU"
      },
      "execution_count": 5,
      "outputs": []
    },
    {
      "cell_type": "code",
      "source": [
        "X_train.shape"
      ],
      "metadata": {
        "colab": {
          "base_uri": "https://localhost:8080/"
        },
        "id": "6VuwUTlNnPID",
        "outputId": "015c8d5b-2afd-4fa9-96af-4e4925e04d53"
      },
      "execution_count": 6,
      "outputs": [
        {
          "output_type": "execute_result",
          "data": {
            "text/plain": [
              "(7000, 50, 50)"
            ]
          },
          "metadata": {},
          "execution_count": 6
        }
      ]
    },
    {
      "cell_type": "code",
      "source": [
        "X_test.shape"
      ],
      "metadata": {
        "colab": {
          "base_uri": "https://localhost:8080/"
        },
        "id": "lUWe_YOKnTD7",
        "outputId": "a5372514-0d54-4877-d377-eca40c059456"
      },
      "execution_count": 7,
      "outputs": [
        {
          "output_type": "execute_result",
          "data": {
            "text/plain": [
              "(3000, 50, 50)"
            ]
          },
          "metadata": {},
          "execution_count": 7
        }
      ]
    },
    {
      "cell_type": "code",
      "source": [
        "y_train"
      ],
      "metadata": {
        "colab": {
          "base_uri": "https://localhost:8080/"
        },
        "id": "QL4nPAMcVoeN",
        "outputId": "c13ae140-76d3-4ae6-a7af-a011486a12c8"
      },
      "execution_count": 8,
      "outputs": [
        {
          "output_type": "execute_result",
          "data": {
            "text/plain": [
              "array([1., 0., 3., ..., 3., 1., 4.])"
            ]
          },
          "metadata": {},
          "execution_count": 8
        }
      ]
    },
    {
      "cell_type": "code",
      "source": [
        "for i in range (5): #nes eilutėje turime 5 elementus, sužinome kuriuose indeksuose kiekvienos grupės elementai atsiranda\n",
        "  print (np.where(y_train ==i)[0][0])"
      ],
      "metadata": {
        "colab": {
          "base_uri": "https://localhost:8080/"
        },
        "id": "XrJqpBuHVtK_",
        "outputId": "2ccadf98-6606-44d6-921e-f2f7f6a0284d"
      },
      "execution_count": 9,
      "outputs": [
        {
          "output_type": "stream",
          "name": "stdout",
          "text": [
            "1\n",
            "0\n",
            "9\n",
            "2\n",
            "7\n"
          ]
        }
      ]
    },
    {
      "cell_type": "code",
      "source": [
        "for i in range (5): #atspausdiname po elementą iš kiekvienos grupės\n",
        "  idx=np.where(y_train==i)[0][0]\n",
        "  plt.subplot(2,5,i+1)\n",
        "  plt.imshow(X_train[idx], cmap='Blues')\n",
        "  plt.title(i)\n",
        "  plt.axis('off')"
      ],
      "metadata": {
        "colab": {
          "base_uri": "https://localhost:8080/",
          "height": 105
        },
        "id": "6dOGCCDfV57G",
        "outputId": "3967e383-c366-4d86-fcfa-6086da1e7115"
      },
      "execution_count": 10,
      "outputs": [
        {
          "output_type": "display_data",
          "data": {
            "image/png": "[encoded data removed]",
            "text/plain": [
              "<Figure size 432x288 with 5 Axes>"
            ]
          },
          "metadata": {
            "needs_background": "light"
          }
        }
      ]
    },
    {
      "cell_type": "code",
      "source": [
        "Counter(y) #suskaičiuojame, kiek elementų yra kiekvienoje grupėje"
      ],
      "metadata": {
        "colab": {
          "base_uri": "https://localhost:8080/"
        },
        "id": "Dz-R-VNNobtF",
        "outputId": "b5a54066-07fd-4dfd-d091-cf322977d000"
      },
      "execution_count": 11,
      "outputs": [
        {
          "output_type": "execute_result",
          "data": {
            "text/plain": [
              "Counter({0.0: 1381, 1.0: 2853, 2.0: 1868, 3.0: 2137, 4.0: 1761})"
            ]
          },
          "metadata": {},
          "execution_count": 11
        }
      ]
    },
    {
      "cell_type": "code",
      "source": [
        "y"
      ],
      "metadata": {
        "colab": {
          "base_uri": "https://localhost:8080/"
        },
        "id": "j2M_WZPdofTS",
        "outputId": "bde3d441-62f1-4c71-b2ac-85a8ec29b240"
      },
      "execution_count": 12,
      "outputs": [
        {
          "output_type": "execute_result",
          "data": {
            "text/plain": [
              "array([2., 4., 3., ..., 4., 4., 3.])"
            ]
          },
          "metadata": {},
          "execution_count": 12
        }
      ]
    },
    {
      "cell_type": "code",
      "source": [
        "X_train[0]"
      ],
      "metadata": {
        "colab": {
          "base_uri": "https://localhost:8080/"
        },
        "id": "s5sZWjZPgQpI",
        "outputId": "1d1cade9-8218-4873-fafc-3d3db1a01f13"
      },
      "execution_count": 13,
      "outputs": [
        {
          "output_type": "execute_result",
          "data": {
            "text/plain": [
              "array([[0., 0., 0., ..., 0., 0., 0.],\n",
              "       [0., 0., 0., ..., 0., 0., 0.],\n",
              "       [0., 0., 0., ..., 0., 0., 0.],\n",
              "       ...,\n",
              "       [0., 0., 0., ..., 0., 0., 0.],\n",
              "       [0., 0., 0., ..., 0., 0., 0.],\n",
              "       [0., 0., 0., ..., 0., 0., 0.]])"
            ]
          },
          "metadata": {},
          "execution_count": 13
        }
      ]
    },
    {
      "cell_type": "markdown",
      "source": [
        "# **DNN**"
      ],
      "metadata": {
        "id": "MfdesNhjRBOV"
      }
    },
    {
      "cell_type": "markdown",
      "source": [
        "Pačiame pradiniame modelyje išbandžiau visokius optimizer'ius, pavyzdžiui STG, Adam (nepriskiriant learning_rate), tačiau su jais nesugebėjau parinkti tokio learning_rate, kad val_loss nešokinėtų, todėl pasirinkau dirbti su Adam optimizacija, priskiriant learning_rate 3e-4.\n",
        "Taip pat šitame modelyje matome ganėtinai didelį sluoksnių skaičių, tačiau parenkant mažesnį gauname labai mažą tikslumą (bent jau kiek aš sugebėjau išbandyti).\n",
        "Gautą modelį taip pat sunku pavadinti geru, kai yra toks didelis skirtumas tarp loss ir val_loss, labiau panašu į overfit'ą."
      ],
      "metadata": {
        "id": "qtLnGRklVtTJ"
      }
    },
    {
      "cell_type": "code",
      "source": [
        "model = keras.models.Sequential()\n",
        "model.add(keras.layers.Flatten(input_shape=(50,50))) #(50,50), nes toks yra objektų dydis\n",
        "model.add(keras.layers.Dense(100, activation='relu'))\n",
        "model.add(keras.layers.Dense(75, activation='relu'))\n",
        "model.add(keras.layers.Dense(50, activation='relu'))\n",
        "model.add(keras.layers.Dense(25, activation='relu'))\n",
        "model.add(keras.layers.Dense(10, activation='softmax'))\n",
        "model.compile(loss='sparse_categorical_crossentropy', \n",
        "              optimizer=keras.optimizers.Adam(learning_rate=3e-4), \n",
        "              metrics=['accuracy'])\n",
        "model.summary()"
      ],
      "metadata": {
        "colab": {
          "base_uri": "https://localhost:8080/"
        },
        "id": "b66CC9PBhW3U",
        "outputId": "3ee9e94c-e315-4f6d-ed13-23ed52111584"
      },
      "execution_count": 14,
      "outputs": [
        {
          "output_type": "stream",
          "name": "stdout",
          "text": [
            "Model: \"sequential\"\n",
            "_________________________________________________________________\n",
            " Layer (type)                Output Shape              Param #   \n",
            "=================================================================\n",
            " flatten (Flatten)           (None, 2500)              0         \n",
            "                                                                 \n",
            " dense (Dense)               (None, 100)               250100    \n",
            "                                                                 \n",
            " dense_1 (Dense)             (None, 75)                7575      \n",
            "                                                                 \n",
            " dense_2 (Dense)             (None, 50)                3800      \n",
            "                                                                 \n",
            " dense_3 (Dense)             (None, 25)                1275      \n",
            "                                                                 \n",
            " dense_4 (Dense)             (None, 10)                260       \n",
            "                                                                 \n",
            "=================================================================\n",
            "Total params: 263,010\n",
            "Trainable params: 263,010\n",
            "Non-trainable params: 0\n",
            "_________________________________________________________________\n"
          ]
        }
      ]
    },
    {
      "cell_type": "code",
      "source": [
        "loss = model.fit(X_train, y_train, validation_data=(X_test, y_test), epochs=30)"
      ],
      "metadata": {
        "colab": {
          "base_uri": "https://localhost:8080/"
        },
        "id": "aphSSNcWnuSh",
        "outputId": "e89c4f2c-25d4-4f53-8c34-7031b7d899f9"
      },
      "execution_count": 15,
      "outputs": [
        {
          "output_type": "stream",
          "name": "stdout",
          "text": [
            "Epoch 1/30\n",
            "219/219 [==============================] - 4s 6ms/step - loss: 1.5258 - accuracy: 0.3686 - val_loss: 1.3151 - val_accuracy: 0.4743\n",
            "Epoch 2/30\n",
            "219/219 [==============================] - 1s 5ms/step - loss: 1.1782 - accuracy: 0.5104 - val_loss: 1.1320 - val_accuracy: 0.5133\n",
            "Epoch 3/30\n",
            "219/219 [==============================] - 1s 5ms/step - loss: 1.0607 - accuracy: 0.5601 - val_loss: 1.0365 - val_accuracy: 0.5710\n",
            "Epoch 4/30\n",
            "219/219 [==============================] - 1s 5ms/step - loss: 0.9105 - accuracy: 0.6269 - val_loss: 0.9115 - val_accuracy: 0.6100\n",
            "Epoch 5/30\n",
            "219/219 [==============================] - 1s 5ms/step - loss: 0.7858 - accuracy: 0.6797 - val_loss: 0.8232 - val_accuracy: 0.6530\n",
            "Epoch 6/30\n",
            "219/219 [==============================] - 1s 5ms/step - loss: 0.6918 - accuracy: 0.7236 - val_loss: 0.7755 - val_accuracy: 0.6633\n",
            "Epoch 7/30\n",
            "219/219 [==============================] - 1s 5ms/step - loss: 0.6240 - accuracy: 0.7516 - val_loss: 0.7392 - val_accuracy: 0.6893\n",
            "Epoch 8/30\n",
            "219/219 [==============================] - 1s 5ms/step - loss: 0.5723 - accuracy: 0.7711 - val_loss: 0.6839 - val_accuracy: 0.7133\n",
            "Epoch 9/30\n",
            "219/219 [==============================] - 1s 5ms/step - loss: 0.5342 - accuracy: 0.7873 - val_loss: 0.6636 - val_accuracy: 0.7243\n",
            "Epoch 10/30\n",
            "219/219 [==============================] - 1s 5ms/step - loss: 0.4972 - accuracy: 0.8006 - val_loss: 0.6641 - val_accuracy: 0.7267\n",
            "Epoch 11/30\n",
            "219/219 [==============================] - 1s 5ms/step - loss: 0.4755 - accuracy: 0.8086 - val_loss: 0.6354 - val_accuracy: 0.7407\n",
            "Epoch 12/30\n",
            "219/219 [==============================] - 1s 5ms/step - loss: 0.4435 - accuracy: 0.8230 - val_loss: 0.6293 - val_accuracy: 0.7533\n",
            "Epoch 13/30\n",
            "219/219 [==============================] - 1s 5ms/step - loss: 0.4275 - accuracy: 0.8307 - val_loss: 0.7035 - val_accuracy: 0.7100\n",
            "Epoch 14/30\n",
            "219/219 [==============================] - 1s 5ms/step - loss: 0.3976 - accuracy: 0.8443 - val_loss: 0.6396 - val_accuracy: 0.7427\n",
            "Epoch 15/30\n",
            "219/219 [==============================] - 1s 5ms/step - loss: 0.3873 - accuracy: 0.8466 - val_loss: 0.6830 - val_accuracy: 0.7267\n",
            "Epoch 16/30\n",
            "219/219 [==============================] - 1s 5ms/step - loss: 0.3504 - accuracy: 0.8621 - val_loss: 0.6352 - val_accuracy: 0.7643\n",
            "Epoch 17/30\n",
            "219/219 [==============================] - 1s 5ms/step - loss: 0.3358 - accuracy: 0.8664 - val_loss: 0.6127 - val_accuracy: 0.7657\n",
            "Epoch 18/30\n",
            "219/219 [==============================] - 1s 5ms/step - loss: 0.3133 - accuracy: 0.8810 - val_loss: 0.6270 - val_accuracy: 0.7683\n",
            "Epoch 19/30\n",
            "219/219 [==============================] - 1s 5ms/step - loss: 0.3006 - accuracy: 0.8854 - val_loss: 0.6028 - val_accuracy: 0.7800\n",
            "Epoch 20/30\n",
            "219/219 [==============================] - 1s 5ms/step - loss: 0.2728 - accuracy: 0.8976 - val_loss: 0.6143 - val_accuracy: 0.7820\n",
            "Epoch 21/30\n",
            "219/219 [==============================] - 1s 5ms/step - loss: 0.2564 - accuracy: 0.9063 - val_loss: 0.6027 - val_accuracy: 0.7850\n",
            "Epoch 22/30\n",
            "219/219 [==============================] - 1s 5ms/step - loss: 0.2384 - accuracy: 0.9127 - val_loss: 0.6023 - val_accuracy: 0.8003\n",
            "Epoch 23/30\n",
            "219/219 [==============================] - 1s 5ms/step - loss: 0.2208 - accuracy: 0.9173 - val_loss: 0.6076 - val_accuracy: 0.8040\n",
            "Epoch 24/30\n",
            "219/219 [==============================] - 1s 5ms/step - loss: 0.2113 - accuracy: 0.9221 - val_loss: 0.5683 - val_accuracy: 0.8293\n",
            "Epoch 25/30\n",
            "219/219 [==============================] - 1s 5ms/step - loss: 0.1793 - accuracy: 0.9356 - val_loss: 0.5913 - val_accuracy: 0.8237\n",
            "Epoch 26/30\n",
            "219/219 [==============================] - 1s 5ms/step - loss: 0.1840 - accuracy: 0.9317 - val_loss: 0.5935 - val_accuracy: 0.8347\n",
            "Epoch 27/30\n",
            "219/219 [==============================] - 1s 5ms/step - loss: 0.1685 - accuracy: 0.9397 - val_loss: 0.6592 - val_accuracy: 0.8197\n",
            "Epoch 28/30\n",
            "219/219 [==============================] - 1s 5ms/step - loss: 0.1516 - accuracy: 0.9463 - val_loss: 0.6349 - val_accuracy: 0.8193\n",
            "Epoch 29/30\n",
            "219/219 [==============================] - 1s 5ms/step - loss: 0.1423 - accuracy: 0.9513 - val_loss: 0.6165 - val_accuracy: 0.8413\n",
            "Epoch 30/30\n",
            "219/219 [==============================] - 1s 5ms/step - loss: 0.1227 - accuracy: 0.9579 - val_loss: 0.6646 - val_accuracy: 0.8160\n"
          ]
        }
      ]
    },
    {
      "cell_type": "code",
      "source": [
        "pd.DataFrame(loss.history)[['loss', 'val_loss']]"
      ],
      "metadata": {
        "colab": {
          "base_uri": "https://localhost:8080/",
          "height": 990
        },
        "id": "5vZo_Oz1eCHZ",
        "outputId": "0a877234-6e71-4e36-c264-37165f55bd74"
      },
      "execution_count": 16,
      "outputs": [
        {
          "output_type": "execute_result",
          "data": {
            "text/html": [
              "\n",
              "  <div id=\"df-51c111db-5c14-4c7f-923f-49089feefe88\">\n",
              "    <div class=\"colab-df-container\">\n",
              "      <div>\n",
              "<style scoped>\n",
              "    .dataframe tbody tr th:only-of-type {\n",
              "        vertical-align: middle;\n",
              "    }\n",
              "\n",
              "    .dataframe tbody tr th {\n",
              "        vertical-align: top;\n",
              "    }\n",
              "\n",
              "    .dataframe thead th {\n",
              "        text-align: right;\n",
              "    }\n",
              "</style>\n",
              "<table border=\"1\" class=\"dataframe\">\n",
              "  <thead>\n",
              "    <tr style=\"text-align: right;\">\n",
              "      <th></th>\n",
              "      <th>loss</th>\n",
              "      <th>val_loss</th>\n",
              "    </tr>\n",
              "  </thead>\n",
              "  <tbody>\n",
              "    <tr>\n",
              "      <th>0</th>\n",
              "      <td>1.525790</td>\n",
              "      <td>1.315054</td>\n",
              "    </tr>\n",
              "    <tr>\n",
              "      <th>1</th>\n",
              "      <td>1.178233</td>\n",
              "      <td>1.131966</td>\n",
              "    </tr>\n",
              "    <tr>\n",
              "      <th>2</th>\n",
              "      <td>1.060670</td>\n",
              "      <td>1.036510</td>\n",
              "    </tr>\n",
              "    <tr>\n",
              "      <th>3</th>\n",
              "      <td>0.910458</td>\n",
              "      <td>0.911476</td>\n",
              "    </tr>\n",
              "    <tr>\n",
              "      <th>4</th>\n",
              "      <td>0.785776</td>\n",
              "      <td>0.823241</td>\n",
              "    </tr>\n",
              "    <tr>\n",
              "      <th>5</th>\n",
              "      <td>0.691849</td>\n",
              "      <td>0.775495</td>\n",
              "    </tr>\n",
              "    <tr>\n",
              "      <th>6</th>\n",
              "      <td>0.623951</td>\n",
              "      <td>0.739202</td>\n",
              "    </tr>\n",
              "    <tr>\n",
              "      <th>7</th>\n",
              "      <td>0.572282</td>\n",
              "      <td>0.683870</td>\n",
              "    </tr>\n",
              "    <tr>\n",
              "      <th>8</th>\n",
              "      <td>0.534230</td>\n",
              "      <td>0.663610</td>\n",
              "    </tr>\n",
              "    <tr>\n",
              "      <th>9</th>\n",
              "      <td>0.497227</td>\n",
              "      <td>0.664129</td>\n",
              "    </tr>\n",
              "    <tr>\n",
              "      <th>10</th>\n",
              "      <td>0.475511</td>\n",
              "      <td>0.635372</td>\n",
              "    </tr>\n",
              "    <tr>\n",
              "      <th>11</th>\n",
              "      <td>0.443461</td>\n",
              "      <td>0.629271</td>\n",
              "    </tr>\n",
              "    <tr>\n",
              "      <th>12</th>\n",
              "      <td>0.427491</td>\n",
              "      <td>0.703526</td>\n",
              "    </tr>\n",
              "    <tr>\n",
              "      <th>13</th>\n",
              "      <td>0.397576</td>\n",
              "      <td>0.639628</td>\n",
              "    </tr>\n",
              "    <tr>\n",
              "      <th>14</th>\n",
              "      <td>0.387297</td>\n",
              "      <td>0.682965</td>\n",
              "    </tr>\n",
              "    <tr>\n",
              "      <th>15</th>\n",
              "      <td>0.350417</td>\n",
              "      <td>0.635171</td>\n",
              "    </tr>\n",
              "    <tr>\n",
              "      <th>16</th>\n",
              "      <td>0.335800</td>\n",
              "      <td>0.612705</td>\n",
              "    </tr>\n",
              "    <tr>\n",
              "      <th>17</th>\n",
              "      <td>0.313313</td>\n",
              "      <td>0.626987</td>\n",
              "    </tr>\n",
              "    <tr>\n",
              "      <th>18</th>\n",
              "      <td>0.300597</td>\n",
              "      <td>0.602806</td>\n",
              "    </tr>\n",
              "    <tr>\n",
              "      <th>19</th>\n",
              "      <td>0.272781</td>\n",
              "      <td>0.614289</td>\n",
              "    </tr>\n",
              "    <tr>\n",
              "      <th>20</th>\n",
              "      <td>0.256408</td>\n",
              "      <td>0.602663</td>\n",
              "    </tr>\n",
              "    <tr>\n",
              "      <th>21</th>\n",
              "      <td>0.238404</td>\n",
              "      <td>0.602339</td>\n",
              "    </tr>\n",
              "    <tr>\n",
              "      <th>22</th>\n",
              "      <td>0.220765</td>\n",
              "      <td>0.607558</td>\n",
              "    </tr>\n",
              "    <tr>\n",
              "      <th>23</th>\n",
              "      <td>0.211261</td>\n",
              "      <td>0.568293</td>\n",
              "    </tr>\n",
              "    <tr>\n",
              "      <th>24</th>\n",
              "      <td>0.179270</td>\n",
              "      <td>0.591298</td>\n",
              "    </tr>\n",
              "    <tr>\n",
              "      <th>25</th>\n",
              "      <td>0.184025</td>\n",
              "      <td>0.593509</td>\n",
              "    </tr>\n",
              "    <tr>\n",
              "      <th>26</th>\n",
              "      <td>0.168489</td>\n",
              "      <td>0.659244</td>\n",
              "    </tr>\n",
              "    <tr>\n",
              "      <th>27</th>\n",
              "      <td>0.151565</td>\n",
              "      <td>0.634900</td>\n",
              "    </tr>\n",
              "    <tr>\n",
              "      <th>28</th>\n",
              "      <td>0.142321</td>\n",
              "      <td>0.616480</td>\n",
              "    </tr>\n",
              "    <tr>\n",
              "      <th>29</th>\n",
              "      <td>0.122685</td>\n",
              "      <td>0.664608</td>\n",
              "    </tr>\n",
              "  </tbody>\n",
              "</table>\n",
              "</div>\n",
              "      <button class=\"colab-df-convert\" onclick=\"convertToInteractive('df-51c111db-5c14-4c7f-923f-49089feefe88')\"\n",
              "              title=\"Convert this dataframe to an interactive table.\"\n",
              "              style=\"display:none;\">\n",
              "        \n",
              "  <svg xmlns=\"http://www.w3.org/2000/svg\" height=\"24px\"viewBox=\"0 0 24 24\"\n",
              "       width=\"24px\">\n",
              "    <path d=\"M0 0h24v24H0V0z\" fill=\"none\"/>\n",
              "    <path d=\"M18.56 5.44l.94 2.06.94-2.06 2.06-.94-2.06-.94-.94-2.06-.94 2.06-2.06.94zm-11 1L8.5 8.5l.94-2.06 2.06-.94-2.06-.94L8.5 2.5l-.94 2.06-2.06.94zm10 10l.94 2.06.94-2.06 2.06-.94-2.06-.94-.94-2.06-.94 2.06-2.06.94z\"/><path d=\"M17.41 7.96l-1.37-1.37c-.4-.4-.92-.59-1.43-.59-.52 0-1.04.2-1.43.59L10.3 9.45l-7.72 7.72c-.78.78-.78 2.05 0 2.83L4 21.41c.39.39.9.59 1.41.59.51 0 1.02-.2 1.41-.59l7.78-7.78 2.81-2.81c.8-.78.8-2.07 0-2.86zM5.41 20L4 18.59l7.72-7.72 1.47 1.35L5.41 20z\"/>\n",
              "  </svg>\n",
              "      </button>\n",
              "      \n",
              "  <style>\n",
              "    .colab-df-container {\n",
              "      display:flex;\n",
              "      flex-wrap:wrap;\n",
              "      gap: 12px;\n",
              "    }\n",
              "\n",
              "    .colab-df-convert {\n",
              "      background-color: #E8F0FE;\n",
              "      border: none;\n",
              "      border-radius: 50%;\n",
              "      cursor: pointer;\n",
              "      display: none;\n",
              "      fill: #1967D2;\n",
              "      height: 32px;\n",
              "      padding: 0 0 0 0;\n",
              "      width: 32px;\n",
              "    }\n",
              "\n",
              "    .colab-df-convert:hover {\n",
              "      background-color: #E2EBFA;\n",
              "      box-shadow: 0px 1px 2px rgba(60, 64, 67, 0.3), 0px 1px 3px 1px rgba(60, 64, 67, 0.15);\n",
              "      fill: #174EA6;\n",
              "    }\n",
              "\n",
              "    [theme=dark] .colab-df-convert {\n",
              "      background-color: #3B4455;\n",
              "      fill: #D2E3FC;\n",
              "    }\n",
              "\n",
              "    [theme=dark] .colab-df-convert:hover {\n",
              "      background-color: #434B5C;\n",
              "      box-shadow: 0px 1px 3px 1px rgba(0, 0, 0, 0.15);\n",
              "      filter: drop-shadow(0px 1px 2px rgba(0, 0, 0, 0.3));\n",
              "      fill: #FFFFFF;\n",
              "    }\n",
              "  </style>\n",
              "\n",
              "      <script>\n",
              "        const buttonEl =\n",
              "          document.querySelector('#df-51c111db-5c14-4c7f-923f-49089feefe88 button.colab-df-convert');\n",
              "        buttonEl.style.display =\n",
              "          google.colab.kernel.accessAllowed ? 'block' : 'none';\n",
              "\n",
              "        async function convertToInteractive(key) {\n",
              "          const element = document.querySelector('#df-51c111db-5c14-4c7f-923f-49089feefe88');\n",
              "          const dataTable =\n",
              "            await google.colab.kernel.invokeFunction('convertToInteractive',\n",
              "                                                     [key], {});\n",
              "          if (!dataTable) return;\n",
              "\n",
              "          const docLinkHtml = 'Like what you see? Visit the ' +\n",
              "            '<a target=\"_blank\" href=https://colab.research.google.com/notebooks/data_table.ipynb>data table notebook</a>'\n",
              "            + ' to learn more about interactive tables.';\n",
              "          element.innerHTML = '';\n",
              "          dataTable['output_type'] = 'display_data';\n",
              "          await google.colab.output.renderOutput(dataTable, element);\n",
              "          const docLink = document.createElement('div');\n",
              "          docLink.innerHTML = docLinkHtml;\n",
              "          element.appendChild(docLink);\n",
              "        }\n",
              "      </script>\n",
              "    </div>\n",
              "  </div>\n",
              "  "
            ],
            "text/plain": [
              "        loss  val_loss\n",
              "0   1.525790  1.315054\n",
              "1   1.178233  1.131966\n",
              "2   1.060670  1.036510\n",
              "3   0.910458  0.911476\n",
              "4   0.785776  0.823241\n",
              "5   0.691849  0.775495\n",
              "6   0.623951  0.739202\n",
              "7   0.572282  0.683870\n",
              "8   0.534230  0.663610\n",
              "9   0.497227  0.664129\n",
              "10  0.475511  0.635372\n",
              "11  0.443461  0.629271\n",
              "12  0.427491  0.703526\n",
              "13  0.397576  0.639628\n",
              "14  0.387297  0.682965\n",
              "15  0.350417  0.635171\n",
              "16  0.335800  0.612705\n",
              "17  0.313313  0.626987\n",
              "18  0.300597  0.602806\n",
              "19  0.272781  0.614289\n",
              "20  0.256408  0.602663\n",
              "21  0.238404  0.602339\n",
              "22  0.220765  0.607558\n",
              "23  0.211261  0.568293\n",
              "24  0.179270  0.591298\n",
              "25  0.184025  0.593509\n",
              "26  0.168489  0.659244\n",
              "27  0.151565  0.634900\n",
              "28  0.142321  0.616480\n",
              "29  0.122685  0.664608"
            ]
          },
          "metadata": {},
          "execution_count": 16
        }
      ]
    },
    {
      "cell_type": "code",
      "source": [
        "pd.DataFrame(loss.history)[['loss', 'val_loss']].plot()"
      ],
      "metadata": {
        "colab": {
          "base_uri": "https://localhost:8080/",
          "height": 282
        },
        "id": "bnezJEY0htP4",
        "outputId": "dbaec12a-5a9b-4cef-cab4-e453082d613b"
      },
      "execution_count": 17,
      "outputs": [
        {
          "output_type": "execute_result",
          "data": {
            "text/plain": [
              "<matplotlib.axes._subplots.AxesSubplot at 0x7f7150177ad0>"
            ]
          },
          "metadata": {},
          "execution_count": 17
        },
        {
          "output_type": "display_data",
          "data": {
            "image/png": "[encoded data removed]",
            "text/plain": [
              "<Figure size 432x288 with 1 Axes>"
            ]
          },
          "metadata": {
            "needs_background": "light"
          }
        }
      ]
    },
    {
      "cell_type": "markdown",
      "source": [
        "# **Overfit**"
      ],
      "metadata": {
        "id": "CM7-GfEnrgrJ"
      }
    },
    {
      "cell_type": "markdown",
      "source": [
        "Nors praeitas modelis ir yra panašus į overfit'ą, tačiau norėjau padaryti aiškesnį. Kaip matome, pridėjau daugiau sluoksnių ir padidinau density. Didinau sluoksnių skaičių tol, kol gavau, jog va_loss pradeda kilti (nuo apytiksliai 15 epochos)"
      ],
      "metadata": {
        "id": "iHJylBSTXmjv"
      }
    },
    {
      "cell_type": "code",
      "source": [
        "model = keras.models.Sequential()\n",
        "model.add(keras.layers.Flatten(input_shape=(50,50)))\n",
        "model.add(keras.layers.Dense(1000, activation='relu'))\n",
        "model.add(keras.layers.Dense(500, activation='relu'))\n",
        "model.add(keras.layers.Dense(250, activation='relu'))\n",
        "model.add(keras.layers.Dense(125, activation='relu'))\n",
        "model.add(keras.layers.Dense(60, activation='relu'))\n",
        "model.add(keras.layers.Dense(30, activation='relu'))\n",
        "model.add(keras.layers.Dense(10, activation='softmax'))\n",
        "model.compile(loss='sparse_categorical_crossentropy', \n",
        "              optimizer=keras.optimizers.Adam(learning_rate=3e-4), \n",
        "              metrics=['accuracy'])\n",
        "model.summary()"
      ],
      "metadata": {
        "colab": {
          "base_uri": "https://localhost:8080/"
        },
        "id": "sn7jlfKhsE2n",
        "outputId": "b2a5b41c-73ae-4331-d10f-49fb0dfa13e3"
      },
      "execution_count": 18,
      "outputs": [
        {
          "output_type": "stream",
          "name": "stdout",
          "text": [
            "Model: \"sequential_1\"\n",
            "_________________________________________________________________\n",
            " Layer (type)                Output Shape              Param #   \n",
            "=================================================================\n",
            " flatten_1 (Flatten)         (None, 2500)              0         \n",
            "                                                                 \n",
            " dense_5 (Dense)             (None, 1000)              2501000   \n",
            "                                                                 \n",
            " dense_6 (Dense)             (None, 500)               500500    \n",
            "                                                                 \n",
            " dense_7 (Dense)             (None, 250)               125250    \n",
            "                                                                 \n",
            " dense_8 (Dense)             (None, 125)               31375     \n",
            "                                                                 \n",
            " dense_9 (Dense)             (None, 60)                7560      \n",
            "                                                                 \n",
            " dense_10 (Dense)            (None, 30)                1830      \n",
            "                                                                 \n",
            " dense_11 (Dense)            (None, 10)                310       \n",
            "                                                                 \n",
            "=================================================================\n",
            "Total params: 3,167,825\n",
            "Trainable params: 3,167,825\n",
            "Non-trainable params: 0\n",
            "_________________________________________________________________\n"
          ]
        }
      ]
    },
    {
      "cell_type": "code",
      "source": [
        "loss = model.fit(X_train, y_train, validation_data=(X_test, y_test), epochs=20)"
      ],
      "metadata": {
        "colab": {
          "base_uri": "https://localhost:8080/"
        },
        "id": "5jF464aqsqUd",
        "outputId": "81769d3d-2937-4327-b423-76915f74ab48"
      },
      "execution_count": 19,
      "outputs": [
        {
          "output_type": "stream",
          "name": "stdout",
          "text": [
            "Epoch 1/20\n",
            "219/219 [==============================] - 2s 8ms/step - loss: 1.3604 - accuracy: 0.4330 - val_loss: 1.2096 - val_accuracy: 0.5000\n",
            "Epoch 2/20\n",
            "219/219 [==============================] - 2s 8ms/step - loss: 1.0742 - accuracy: 0.5519 - val_loss: 1.0607 - val_accuracy: 0.5403\n",
            "Epoch 3/20\n",
            "219/219 [==============================] - 2s 7ms/step - loss: 0.8271 - accuracy: 0.6540 - val_loss: 0.8311 - val_accuracy: 0.6527\n",
            "Epoch 4/20\n",
            "219/219 [==============================] - 2s 8ms/step - loss: 0.6753 - accuracy: 0.7154 - val_loss: 0.7109 - val_accuracy: 0.6920\n",
            "Epoch 5/20\n",
            "219/219 [==============================] - 2s 8ms/step - loss: 0.6009 - accuracy: 0.7527 - val_loss: 0.6613 - val_accuracy: 0.7137\n",
            "Epoch 6/20\n",
            "219/219 [==============================] - 2s 7ms/step - loss: 0.5306 - accuracy: 0.7786 - val_loss: 0.6658 - val_accuracy: 0.7157\n",
            "Epoch 7/20\n",
            "219/219 [==============================] - 2s 7ms/step - loss: 0.4870 - accuracy: 0.7976 - val_loss: 0.6070 - val_accuracy: 0.7467\n",
            "Epoch 8/20\n",
            "219/219 [==============================] - 2s 8ms/step - loss: 0.4435 - accuracy: 0.8141 - val_loss: 0.5822 - val_accuracy: 0.7583\n",
            "Epoch 9/20\n",
            "219/219 [==============================] - 2s 7ms/step - loss: 0.4355 - accuracy: 0.8213 - val_loss: 0.6222 - val_accuracy: 0.7080\n",
            "Epoch 10/20\n",
            "219/219 [==============================] - 2s 7ms/step - loss: 0.3875 - accuracy: 0.8440 - val_loss: 0.6433 - val_accuracy: 0.7617\n",
            "Epoch 11/20\n",
            "219/219 [==============================] - 2s 8ms/step - loss: 0.3486 - accuracy: 0.8579 - val_loss: 0.5658 - val_accuracy: 0.7933\n",
            "Epoch 12/20\n",
            "219/219 [==============================] - 2s 8ms/step - loss: 0.3386 - accuracy: 0.8681 - val_loss: 0.5433 - val_accuracy: 0.8017\n",
            "Epoch 13/20\n",
            "219/219 [==============================] - 2s 7ms/step - loss: 0.3004 - accuracy: 0.8793 - val_loss: 0.5193 - val_accuracy: 0.8160\n",
            "Epoch 14/20\n",
            "219/219 [==============================] - 2s 8ms/step - loss: 0.2756 - accuracy: 0.8950 - val_loss: 0.6339 - val_accuracy: 0.7917\n",
            "Epoch 15/20\n",
            "219/219 [==============================] - 2s 8ms/step - loss: 0.2790 - accuracy: 0.8911 - val_loss: 0.4626 - val_accuracy: 0.8387\n",
            "Epoch 16/20\n",
            "219/219 [==============================] - 2s 8ms/step - loss: 0.2458 - accuracy: 0.9067 - val_loss: 0.4705 - val_accuracy: 0.8400\n",
            "Epoch 17/20\n",
            "219/219 [==============================] - 2s 8ms/step - loss: 0.2053 - accuracy: 0.9269 - val_loss: 0.4678 - val_accuracy: 0.8537\n",
            "Epoch 18/20\n",
            "219/219 [==============================] - 2s 7ms/step - loss: 0.2143 - accuracy: 0.9216 - val_loss: 0.4877 - val_accuracy: 0.8477\n",
            "Epoch 19/20\n",
            "219/219 [==============================] - 2s 8ms/step - loss: 0.1978 - accuracy: 0.9307 - val_loss: 0.4486 - val_accuracy: 0.8653\n",
            "Epoch 20/20\n",
            "219/219 [==============================] - 2s 8ms/step - loss: 0.1848 - accuracy: 0.9317 - val_loss: 0.4669 - val_accuracy: 0.8590\n"
          ]
        }
      ]
    },
    {
      "cell_type": "code",
      "source": [
        "pd.DataFrame(loss.history)[['loss', 'val_loss']].plot()"
      ],
      "metadata": {
        "colab": {
          "base_uri": "https://localhost:8080/",
          "height": 283
        },
        "id": "WEUXUZURubFR",
        "outputId": "53937f09-30d4-4986-e07d-930993ad3efe"
      },
      "execution_count": 20,
      "outputs": [
        {
          "output_type": "execute_result",
          "data": {
            "text/plain": [
              "<matplotlib.axes._subplots.AxesSubplot at 0x7f70db9e35d0>"
            ]
          },
          "metadata": {},
          "execution_count": 20
        },
        {
          "output_type": "display_data",
          "data": {
            "image/png": "[encoded data removed]",
            "text/plain": [
              "<Figure size 432x288 with 1 Axes>"
            ]
          },
          "metadata": {
            "needs_background": "light"
          }
        }
      ]
    },
    {
      "cell_type": "markdown",
      "source": [
        "# **Pridedam dropout**"
      ],
      "metadata": {
        "id": "xvBApnMB-LX2"
      }
    },
    {
      "cell_type": "markdown",
      "source": [
        "Pridedam \"dropout\" komandą, kuri neleidžia modeliui overfit'int, išmetant neuronų sluoksnius. Čia vėl gi bandžiau keisti sluoksnių skaičių, density dydį, taip pat dropout dydį, nes su 0.2 gavau labai šokinėjančias loss ir val_loss kreives, jos taip pat neartėjo viena prie kitos. Vis dėlto, su šiuo modeliu nepavyko gauti labai tikslaus modelio."
      ],
      "metadata": {
        "id": "5ew5yMEnZH5g"
      }
    },
    {
      "cell_type": "code",
      "source": [
        "model = keras.models.Sequential()\n",
        "model.add(keras.layers.Flatten(input_shape=(50,50)))\n",
        "model.add(keras.layers.Dense(256, activation='relu'))\n",
        "model.add(keras.layers.Dropout(0.4))\n",
        "model.add(keras.layers.Dense(128, activation='relu'))\n",
        "model.add(keras.layers.Dropout(0.4))\n",
        "model.add(keras.layers.Dense(64, activation='relu'))\n",
        "model.add(keras.layers.Dropout(0.4))\n",
        "model.add(keras.layers.Dense(32, activation='relu'))\n",
        "model.add(keras.layers.Dropout(0.4))\n",
        "model.add(keras.layers.Dense(10, activation='softmax'))\n",
        "model.compile(loss='sparse_categorical_crossentropy', \n",
        "              optimizer=keras.optimizers.Adam(learning_rate=3e-4), \n",
        "              metrics=['accuracy'])\n",
        "model.summary()"
      ],
      "metadata": {
        "colab": {
          "base_uri": "https://localhost:8080/"
        },
        "id": "D7MctBTG-Zaf",
        "outputId": "c9f82f81-44ac-474d-91e9-a0a07b295f55"
      },
      "execution_count": 21,
      "outputs": [
        {
          "output_type": "stream",
          "name": "stdout",
          "text": [
            "Model: \"sequential_2\"\n",
            "_________________________________________________________________\n",
            " Layer (type)                Output Shape              Param #   \n",
            "=================================================================\n",
            " flatten_2 (Flatten)         (None, 2500)              0         \n",
            "                                                                 \n",
            " dense_12 (Dense)            (None, 256)               640256    \n",
            "                                                                 \n",
            " dropout (Dropout)           (None, 256)               0         \n",
            "                                                                 \n",
            " dense_13 (Dense)            (None, 128)               32896     \n",
            "                                                                 \n",
            " dropout_1 (Dropout)         (None, 128)               0         \n",
            "                                                                 \n",
            " dense_14 (Dense)            (None, 64)                8256      \n",
            "                                                                 \n",
            " dropout_2 (Dropout)         (None, 64)                0         \n",
            "                                                                 \n",
            " dense_15 (Dense)            (None, 32)                2080      \n",
            "                                                                 \n",
            " dropout_3 (Dropout)         (None, 32)                0         \n",
            "                                                                 \n",
            " dense_16 (Dense)            (None, 10)                330       \n",
            "                                                                 \n",
            "=================================================================\n",
            "Total params: 683,818\n",
            "Trainable params: 683,818\n",
            "Non-trainable params: 0\n",
            "_________________________________________________________________\n"
          ]
        }
      ]
    },
    {
      "cell_type": "markdown",
      "source": [
        "Taip pat čia pridedame batch_size funkciją, kuri pagreitina skaičiavimus, nes daro didesnius žingsnius."
      ],
      "metadata": {
        "id": "7aelpG7oaUOn"
      }
    },
    {
      "cell_type": "code",
      "source": [
        "loss = model.fit(X_train, y_train, validation_data=(X_test, y_test), epochs=50, batch_size=256)"
      ],
      "metadata": {
        "colab": {
          "base_uri": "https://localhost:8080/"
        },
        "id": "FYREvXe7-vox",
        "outputId": "5e21d5e0-7d61-4533-cc1d-d0cb82601171"
      },
      "execution_count": 22,
      "outputs": [
        {
          "output_type": "stream",
          "name": "stdout",
          "text": [
            "Epoch 1/50\n",
            "28/28 [==============================] - 1s 16ms/step - loss: 2.3016 - accuracy: 0.1413 - val_loss: 2.0905 - val_accuracy: 0.2563\n",
            "Epoch 2/50\n",
            "28/28 [==============================] - 0s 8ms/step - loss: 2.1217 - accuracy: 0.1880 - val_loss: 1.9644 - val_accuracy: 0.2880\n",
            "Epoch 3/50\n",
            "28/28 [==============================] - 0s 9ms/step - loss: 2.0418 - accuracy: 0.1997 - val_loss: 1.8695 - val_accuracy: 0.3093\n",
            "Epoch 4/50\n",
            "28/28 [==============================] - 0s 9ms/step - loss: 1.9402 - accuracy: 0.2311 - val_loss: 1.7615 - val_accuracy: 0.3327\n",
            "Epoch 5/50\n",
            "28/28 [==============================] - 0s 9ms/step - loss: 1.8619 - accuracy: 0.2647 - val_loss: 1.6559 - val_accuracy: 0.4427\n",
            "Epoch 6/50\n",
            "28/28 [==============================] - 0s 9ms/step - loss: 1.7814 - accuracy: 0.2900 - val_loss: 1.5750 - val_accuracy: 0.4740\n",
            "Epoch 7/50\n",
            "28/28 [==============================] - 0s 9ms/step - loss: 1.7165 - accuracy: 0.3243 - val_loss: 1.4885 - val_accuracy: 0.4797\n",
            "Epoch 8/50\n",
            "28/28 [==============================] - 0s 9ms/step - loss: 1.6602 - accuracy: 0.3453 - val_loss: 1.4310 - val_accuracy: 0.4840\n",
            "Epoch 9/50\n",
            "28/28 [==============================] - 0s 9ms/step - loss: 1.6107 - accuracy: 0.3623 - val_loss: 1.3869 - val_accuracy: 0.4877\n",
            "Epoch 10/50\n",
            "28/28 [==============================] - 0s 8ms/step - loss: 1.5662 - accuracy: 0.3774 - val_loss: 1.3471 - val_accuracy: 0.4900\n",
            "Epoch 11/50\n",
            "28/28 [==============================] - 0s 8ms/step - loss: 1.5372 - accuracy: 0.3886 - val_loss: 1.3226 - val_accuracy: 0.4963\n",
            "Epoch 12/50\n",
            "28/28 [==============================] - 0s 8ms/step - loss: 1.5097 - accuracy: 0.4020 - val_loss: 1.2934 - val_accuracy: 0.5100\n",
            "Epoch 13/50\n",
            "28/28 [==============================] - 0s 9ms/step - loss: 1.4789 - accuracy: 0.4093 - val_loss: 1.2671 - val_accuracy: 0.5090\n",
            "Epoch 14/50\n",
            "28/28 [==============================] - 0s 9ms/step - loss: 1.4317 - accuracy: 0.4239 - val_loss: 1.2249 - val_accuracy: 0.5137\n",
            "Epoch 15/50\n",
            "28/28 [==============================] - 0s 8ms/step - loss: 1.3864 - accuracy: 0.4367 - val_loss: 1.2023 - val_accuracy: 0.5243\n",
            "Epoch 16/50\n",
            "28/28 [==============================] - 0s 8ms/step - loss: 1.3605 - accuracy: 0.4561 - val_loss: 1.1644 - val_accuracy: 0.5363\n",
            "Epoch 17/50\n",
            "28/28 [==============================] - 0s 9ms/step - loss: 1.3288 - accuracy: 0.4596 - val_loss: 1.1422 - val_accuracy: 0.5393\n",
            "Epoch 18/50\n",
            "28/28 [==============================] - 0s 9ms/step - loss: 1.2936 - accuracy: 0.4710 - val_loss: 1.1086 - val_accuracy: 0.5403\n",
            "Epoch 19/50\n",
            "28/28 [==============================] - 0s 8ms/step - loss: 1.2670 - accuracy: 0.4806 - val_loss: 1.0616 - val_accuracy: 0.5597\n",
            "Epoch 20/50\n",
            "28/28 [==============================] - 0s 9ms/step - loss: 1.2207 - accuracy: 0.4933 - val_loss: 1.0329 - val_accuracy: 0.5693\n",
            "Epoch 21/50\n",
            "28/28 [==============================] - 0s 8ms/step - loss: 1.2000 - accuracy: 0.5064 - val_loss: 1.0092 - val_accuracy: 0.5793\n",
            "Epoch 22/50\n",
            "28/28 [==============================] - 0s 8ms/step - loss: 1.1734 - accuracy: 0.5151 - val_loss: 0.9902 - val_accuracy: 0.5913\n",
            "Epoch 23/50\n",
            "28/28 [==============================] - 0s 9ms/step - loss: 1.1254 - accuracy: 0.5391 - val_loss: 0.9508 - val_accuracy: 0.6030\n",
            "Epoch 24/50\n",
            "28/28 [==============================] - 0s 8ms/step - loss: 1.1096 - accuracy: 0.5359 - val_loss: 0.9303 - val_accuracy: 0.6070\n",
            "Epoch 25/50\n",
            "28/28 [==============================] - 0s 8ms/step - loss: 1.0787 - accuracy: 0.5510 - val_loss: 0.9091 - val_accuracy: 0.6257\n",
            "Epoch 26/50\n",
            "28/28 [==============================] - 0s 9ms/step - loss: 1.0376 - accuracy: 0.5613 - val_loss: 0.8796 - val_accuracy: 0.6247\n",
            "Epoch 27/50\n",
            "28/28 [==============================] - 0s 9ms/step - loss: 1.0102 - accuracy: 0.5776 - val_loss: 0.8586 - val_accuracy: 0.6450\n",
            "Epoch 28/50\n",
            "28/28 [==============================] - 0s 9ms/step - loss: 1.0078 - accuracy: 0.5749 - val_loss: 0.8488 - val_accuracy: 0.6480\n",
            "Epoch 29/50\n",
            "28/28 [==============================] - 0s 9ms/step - loss: 0.9818 - accuracy: 0.5849 - val_loss: 0.8569 - val_accuracy: 0.6470\n",
            "Epoch 30/50\n",
            "28/28 [==============================] - 0s 9ms/step - loss: 0.9716 - accuracy: 0.5897 - val_loss: 0.8303 - val_accuracy: 0.6510\n",
            "Epoch 31/50\n",
            "28/28 [==============================] - 0s 10ms/step - loss: 0.9536 - accuracy: 0.6000 - val_loss: 0.8144 - val_accuracy: 0.6580\n",
            "Epoch 32/50\n",
            "28/28 [==============================] - 0s 9ms/step - loss: 0.9386 - accuracy: 0.6104 - val_loss: 0.7976 - val_accuracy: 0.6617\n",
            "Epoch 33/50\n",
            "28/28 [==============================] - 0s 9ms/step - loss: 0.9095 - accuracy: 0.6243 - val_loss: 0.7954 - val_accuracy: 0.6707\n",
            "Epoch 34/50\n",
            "28/28 [==============================] - 0s 9ms/step - loss: 0.8997 - accuracy: 0.6263 - val_loss: 0.7811 - val_accuracy: 0.6767\n",
            "Epoch 35/50\n",
            "28/28 [==============================] - 0s 9ms/step - loss: 0.8957 - accuracy: 0.6289 - val_loss: 0.7826 - val_accuracy: 0.6747\n",
            "Epoch 36/50\n",
            "28/28 [==============================] - 0s 8ms/step - loss: 0.8798 - accuracy: 0.6359 - val_loss: 0.7686 - val_accuracy: 0.6817\n",
            "Epoch 37/50\n",
            "28/28 [==============================] - 0s 9ms/step - loss: 0.8582 - accuracy: 0.6490 - val_loss: 0.7573 - val_accuracy: 0.6880\n",
            "Epoch 38/50\n",
            "28/28 [==============================] - 0s 9ms/step - loss: 0.8626 - accuracy: 0.6440 - val_loss: 0.7683 - val_accuracy: 0.6900\n",
            "Epoch 39/50\n",
            "28/28 [==============================] - 0s 9ms/step - loss: 0.8466 - accuracy: 0.6550 - val_loss: 0.7416 - val_accuracy: 0.6953\n",
            "Epoch 40/50\n",
            "28/28 [==============================] - 0s 8ms/step - loss: 0.8351 - accuracy: 0.6499 - val_loss: 0.7667 - val_accuracy: 0.6820\n",
            "Epoch 41/50\n",
            "28/28 [==============================] - 0s 8ms/step - loss: 0.8321 - accuracy: 0.6610 - val_loss: 0.7400 - val_accuracy: 0.7113\n",
            "Epoch 42/50\n",
            "28/28 [==============================] - 0s 9ms/step - loss: 0.8079 - accuracy: 0.6681 - val_loss: 0.7250 - val_accuracy: 0.7127\n",
            "Epoch 43/50\n",
            "28/28 [==============================] - 0s 8ms/step - loss: 0.8082 - accuracy: 0.6769 - val_loss: 0.7240 - val_accuracy: 0.7133\n",
            "Epoch 44/50\n",
            "28/28 [==============================] - 0s 9ms/step - loss: 0.7910 - accuracy: 0.6769 - val_loss: 0.7087 - val_accuracy: 0.7163\n",
            "Epoch 45/50\n",
            "28/28 [==============================] - 0s 9ms/step - loss: 0.7899 - accuracy: 0.6799 - val_loss: 0.7098 - val_accuracy: 0.7200\n",
            "Epoch 46/50\n",
            "28/28 [==============================] - 0s 9ms/step - loss: 0.7738 - accuracy: 0.6944 - val_loss: 0.7053 - val_accuracy: 0.7220\n",
            "Epoch 47/50\n",
            "28/28 [==============================] - 0s 9ms/step - loss: 0.7515 - accuracy: 0.6993 - val_loss: 0.6972 - val_accuracy: 0.7243\n",
            "Epoch 48/50\n",
            "28/28 [==============================] - 0s 9ms/step - loss: 0.7549 - accuracy: 0.6943 - val_loss: 0.6849 - val_accuracy: 0.7317\n",
            "Epoch 49/50\n",
            "28/28 [==============================] - 0s 9ms/step - loss: 0.7322 - accuracy: 0.7009 - val_loss: 0.6793 - val_accuracy: 0.7310\n",
            "Epoch 50/50\n",
            "28/28 [==============================] - 0s 9ms/step - loss: 0.7402 - accuracy: 0.7036 - val_loss: 0.6870 - val_accuracy: 0.7253\n"
          ]
        }
      ]
    },
    {
      "cell_type": "code",
      "source": [
        "pd.DataFrame(loss.history)[['loss', 'val_loss']].plot()"
      ],
      "metadata": {
        "colab": {
          "base_uri": "https://localhost:8080/",
          "height": 282
        },
        "id": "FnuEcW24_We_",
        "outputId": "aeae26c4-1ea5-4457-a0dc-4eefca54d4ff"
      },
      "execution_count": 23,
      "outputs": [
        {
          "output_type": "execute_result",
          "data": {
            "text/plain": [
              "<matplotlib.axes._subplots.AxesSubplot at 0x7f71503706d0>"
            ]
          },
          "metadata": {},
          "execution_count": 23
        },
        {
          "output_type": "display_data",
          "data": {
            "image/png": "[encoded data removed]",
            "text/plain": [
              "<Figure size 432x288 with 1 Axes>"
            ]
          },
          "metadata": {
            "needs_background": "light"
          }
        }
      ]
    },
    {
      "cell_type": "markdown",
      "source": [
        "# **CNN** (konvoliuciniai neuroniniai tinklai)\n",
        "\n"
      ],
      "metadata": {
        "id": "M8OEe3uuG2v_"
      }
    },
    {
      "cell_type": "markdown",
      "source": [
        "Šis modelis gaunasi pats tiksliausias, todėl jį ir naudosime."
      ],
      "metadata": {
        "id": "hysQW0owe2bI"
      }
    },
    {
      "cell_type": "code",
      "source": [
        "model = keras.models.Sequential()\n",
        "model.add(keras.layers.Conv2D(32, kernel_size=(3, 3), activation = 'relu', input_shape=[50,50,1])) #conv2 naudojamas gauti aukštą tikslumą paveiksliuko atpažinime\n",
        "model.add(keras.layers.BatchNormalization(axis=-1)) #leidžia kiekvienam sluoksniui mokytis nepriklausant nuo kitų sluoksnių, normalizuoja buvusių sluoksnių rezultatus\n",
        "model.add(keras.layers.MaxPooling2D(pool_size=(2,2))) #sumažina input dydį\n",
        "model.add(keras.layers.Conv2D(32, kernel_size=(3, 3), activation = 'relu'))\n",
        "model.add(keras.layers.BatchNormalization(axis=-1))\n",
        "model.add(keras.layers.MaxPooling2D(pool_size=(2,2)))\n",
        "model.add(keras.layers.Flatten())\n",
        "model.add(keras.layers.Dense(64, activation='relu'))\n",
        "model.add(keras.layers.Dense(32, activation='relu'))\n",
        "model.add(keras.layers.Dense(16, activation='relu'))\n",
        "model.add(keras.layers.Dense(10, activation='softmax'))\n",
        "model.compile(loss='sparse_categorical_crossentropy', \n",
        "              optimizer='adam', \n",
        "              metrics=['accuracy'])\n",
        "model.summary()"
      ],
      "metadata": {
        "colab": {
          "base_uri": "https://localhost:8080/"
        },
        "id": "Om-6x-gVG-qN",
        "outputId": "157346ad-9c23-4c11-b700-04e8cb41e41e"
      },
      "execution_count": 24,
      "outputs": [
        {
          "output_type": "stream",
          "name": "stdout",
          "text": [
            "Model: \"sequential_3\"\n",
            "_________________________________________________________________\n",
            " Layer (type)                Output Shape              Param #   \n",
            "=================================================================\n",
            " conv2d (Conv2D)             (None, 48, 48, 32)        320       \n",
            "                                                                 \n",
            " batch_normalization (BatchN  (None, 48, 48, 32)       128       \n",
            " ormalization)                                                   \n",
            "                                                                 \n",
            " max_pooling2d (MaxPooling2D  (None, 24, 24, 32)       0         \n",
            " )                                                               \n",
            "                                                                 \n",
            " conv2d_1 (Conv2D)           (None, 22, 22, 32)        9248      \n",
            "                                                                 \n",
            " batch_normalization_1 (Batc  (None, 22, 22, 32)       128       \n",
            " hNormalization)                                                 \n",
            "                                                                 \n",
            " max_pooling2d_1 (MaxPooling  (None, 11, 11, 32)       0         \n",
            " 2D)                                                             \n",
            "                                                                 \n",
            " flatten_3 (Flatten)         (None, 3872)              0         \n",
            "                                                                 \n",
            " dense_17 (Dense)            (None, 64)                247872    \n",
            "                                                                 \n",
            " dense_18 (Dense)            (None, 32)                2080      \n",
            "                                                                 \n",
            " dense_19 (Dense)            (None, 16)                528       \n",
            "                                                                 \n",
            " dense_20 (Dense)            (None, 10)                170       \n",
            "                                                                 \n",
            "=================================================================\n",
            "Total params: 260,474\n",
            "Trainable params: 260,346\n",
            "Non-trainable params: 128\n",
            "_________________________________________________________________\n"
          ]
        }
      ]
    },
    {
      "cell_type": "code",
      "source": [
        "loss = model.fit(X_train, y_train, validation_data=(X_test, y_test), epochs=20)"
      ],
      "metadata": {
        "colab": {
          "base_uri": "https://localhost:8080/"
        },
        "id": "khQnAmuEHsF1",
        "outputId": "d4400405-0a3b-4780-b66a-5fbb4dce8da8"
      },
      "execution_count": 25,
      "outputs": [
        {
          "output_type": "stream",
          "name": "stdout",
          "text": [
            "Epoch 1/20\n",
            "219/219 [==============================] - 11s 14ms/step - loss: 1.2011 - accuracy: 0.5153 - val_loss: 2.1725 - val_accuracy: 0.1970\n",
            "Epoch 2/20\n",
            "219/219 [==============================] - 2s 11ms/step - loss: 0.5197 - accuracy: 0.8081 - val_loss: 2.6142 - val_accuracy: 0.1717\n",
            "Epoch 3/20\n",
            "219/219 [==============================] - 3s 11ms/step - loss: 0.2482 - accuracy: 0.9336 - val_loss: 1.3524 - val_accuracy: 0.5137\n",
            "Epoch 4/20\n",
            "219/219 [==============================] - 3s 11ms/step - loss: 0.1543 - accuracy: 0.9629 - val_loss: 0.3348 - val_accuracy: 0.9053\n",
            "Epoch 5/20\n",
            "219/219 [==============================] - 3s 12ms/step - loss: 0.1127 - accuracy: 0.9716 - val_loss: 0.2667 - val_accuracy: 0.9363\n",
            "Epoch 6/20\n",
            "219/219 [==============================] - 3s 12ms/step - loss: 0.0869 - accuracy: 0.9770 - val_loss: 0.2783 - val_accuracy: 0.9397\n",
            "Epoch 7/20\n",
            "219/219 [==============================] - 2s 11ms/step - loss: 0.0613 - accuracy: 0.9821 - val_loss: 0.2626 - val_accuracy: 0.9570\n",
            "Epoch 8/20\n",
            "219/219 [==============================] - 2s 11ms/step - loss: 0.0595 - accuracy: 0.9810 - val_loss: 0.3203 - val_accuracy: 0.9373\n",
            "Epoch 9/20\n",
            "219/219 [==============================] - 2s 11ms/step - loss: 0.0595 - accuracy: 0.9846 - val_loss: 0.3043 - val_accuracy: 0.9497\n",
            "Epoch 10/20\n",
            "219/219 [==============================] - 2s 11ms/step - loss: 0.0528 - accuracy: 0.9839 - val_loss: 0.3195 - val_accuracy: 0.9320\n",
            "Epoch 11/20\n",
            "219/219 [==============================] - 3s 12ms/step - loss: 0.0458 - accuracy: 0.9859 - val_loss: 0.3294 - val_accuracy: 0.9420\n",
            "Epoch 12/20\n",
            "219/219 [==============================] - 3s 12ms/step - loss: 0.0346 - accuracy: 0.9906 - val_loss: 0.2977 - val_accuracy: 0.9537\n",
            "Epoch 13/20\n",
            "219/219 [==============================] - 3s 12ms/step - loss: 0.0315 - accuracy: 0.9899 - val_loss: 0.3157 - val_accuracy: 0.9497\n",
            "Epoch 14/20\n",
            "219/219 [==============================] - 3s 12ms/step - loss: 0.0281 - accuracy: 0.9910 - val_loss: 0.3183 - val_accuracy: 0.9637\n",
            "Epoch 15/20\n",
            "219/219 [==============================] - 3s 12ms/step - loss: 0.0155 - accuracy: 0.9951 - val_loss: 0.3081 - val_accuracy: 0.9547\n",
            "Epoch 16/20\n",
            "219/219 [==============================] - 2s 11ms/step - loss: 0.0418 - accuracy: 0.9871 - val_loss: 0.6811 - val_accuracy: 0.8837\n",
            "Epoch 17/20\n",
            "219/219 [==============================] - 2s 11ms/step - loss: 0.0622 - accuracy: 0.9817 - val_loss: 0.3324 - val_accuracy: 0.9387\n",
            "Epoch 18/20\n",
            "219/219 [==============================] - 3s 12ms/step - loss: 0.0299 - accuracy: 0.9914 - val_loss: 0.3159 - val_accuracy: 0.9590\n",
            "Epoch 19/20\n",
            "219/219 [==============================] - 2s 11ms/step - loss: 0.0233 - accuracy: 0.9934 - val_loss: 0.2985 - val_accuracy: 0.9610\n",
            "Epoch 20/20\n",
            "219/219 [==============================] - 3s 12ms/step - loss: 0.0135 - accuracy: 0.9966 - val_loss: 0.3037 - val_accuracy: 0.9577\n"
          ]
        }
      ]
    },
    {
      "cell_type": "code",
      "source": [
        "pred=model.predict(X_test).argmax(axis=1)\n",
        "print('Test set accuracy - {0:.02%}'.format((pred==y_test).mean()))"
      ],
      "metadata": {
        "colab": {
          "base_uri": "https://localhost:8080/"
        },
        "id": "ov2FUCAYvSBG",
        "outputId": "708d834e-be3c-466b-bc70-cb776e41c93f"
      },
      "execution_count": 26,
      "outputs": [
        {
          "output_type": "stream",
          "name": "stdout",
          "text": [
            "Test set accuracy - 95.77%\n"
          ]
        }
      ]
    },
    {
      "cell_type": "code",
      "source": [
        "model.save('model.h5')"
      ],
      "metadata": {
        "id": "TR7UrFt4v9fe"
      },
      "execution_count": 27,
      "outputs": []
    },
    {
      "cell_type": "code",
      "source": [
        "model = keras.models.load_model('model.h5')\n",
        "evaluate('flatland_train.data', model)"
      ],
      "metadata": {
        "colab": {
          "base_uri": "https://localhost:8080/"
        },
        "id": "cfadobPzwC0z",
        "outputId": "e69ef1d6-7f52-473e-9645-1b40625c5941"
      },
      "execution_count": 28,
      "outputs": [
        {
          "output_type": "execute_result",
          "data": {
            "text/plain": [
              "0.9836"
            ]
          },
          "metadata": {},
          "execution_count": 28
        }
      ]
    },
    {
      "cell_type": "code",
      "source": [
        "pd.DataFrame(loss.history)[['loss', 'val_loss']].plot()"
      ],
      "metadata": {
        "colab": {
          "base_uri": "https://localhost:8080/",
          "height": 282
        },
        "id": "WjGo1-45Nn1t",
        "outputId": "5b3c93ca-187e-4fb2-ca82-c6fd25b5efe3"
      },
      "execution_count": 29,
      "outputs": [
        {
          "output_type": "execute_result",
          "data": {
            "text/plain": [
              "<matplotlib.axes._subplots.AxesSubplot at 0x7f70db7a4910>"
            ]
          },
          "metadata": {},
          "execution_count": 29
        },
        {
          "output_type": "display_data",
          "data": {
            "image/png": "[encoded data removed]",
            "text/plain": [
              "<Figure size 432x288 with 1 Axes>"
            ]
          },
          "metadata": {
            "needs_background": "light"
          }
        }
      ]
    },
    {
      "cell_type": "code",
      "source": [
        "model = keras.models.Sequential()\n",
        "model.add(keras.layers.Conv2D(32, kernel_size=(3, 3), activation = 'relu', input_shape=[50,50,1])) #conv2 naudojamas gauti aukštą tikslumą paveiksliuko atpažinime\n",
        "model.add(keras.layers.BatchNormalization(axis=-1)) #leidžia kiekvienam sluoksniui mokytis nepriklausant nuo kitų sluoksnių, normalizuoja buvusių sluoksnių rezultatus\n",
        "model.add(keras.layers.MaxPooling2D(pool_size=(2,2))) #sumažina input dydį\n",
        "model.add(keras.layers.Flatten())\n",
        "model.add(keras.layers.Dense(64, activation='relu'))\n",
        "model.add(keras.layers.Dense(32, activation='relu'))\n",
        "model.add(keras.layers.Dense(16, activation='relu'))\n",
        "model.add(keras.layers.Dense(10, activation='softmax'))\n",
        "model.compile(loss='sparse_categorical_crossentropy', \n",
        "              optimizer='adam', \n",
        "              metrics=['accuracy'])\n",
        "model.summary()"
      ],
      "metadata": {
        "colab": {
          "base_uri": "https://localhost:8080/"
        },
        "id": "lygjT4eYjhG8",
        "outputId": "a9d47a11-0895-4bd4-c1d8-2921b79a0d89"
      },
      "execution_count": 30,
      "outputs": [
        {
          "output_type": "stream",
          "name": "stdout",
          "text": [
            "Model: \"sequential_4\"\n",
            "_________________________________________________________________\n",
            " Layer (type)                Output Shape              Param #   \n",
            "=================================================================\n",
            " conv2d_2 (Conv2D)           (None, 48, 48, 32)        320       \n",
            "                                                                 \n",
            " batch_normalization_2 (Batc  (None, 48, 48, 32)       128       \n",
            " hNormalization)                                                 \n",
            "                                                                 \n",
            " max_pooling2d_2 (MaxPooling  (None, 24, 24, 32)       0         \n",
            " 2D)                                                             \n",
            "                                                                 \n",
            " flatten_4 (Flatten)         (None, 18432)             0         \n",
            "                                                                 \n",
            " dense_21 (Dense)            (None, 64)                1179712   \n",
            "                                                                 \n",
            " dense_22 (Dense)            (None, 32)                2080      \n",
            "                                                                 \n",
            " dense_23 (Dense)            (None, 16)                528       \n",
            "                                                                 \n",
            " dense_24 (Dense)            (None, 10)                170       \n",
            "                                                                 \n",
            "=================================================================\n",
            "Total params: 1,182,938\n",
            "Trainable params: 1,182,874\n",
            "Non-trainable params: 64\n",
            "_________________________________________________________________\n"
          ]
        }
      ]
    },
    {
      "cell_type": "code",
      "source": [
        "loss = model.fit(X_train, y_train, validation_data=(X_test, y_test), epochs=20)"
      ],
      "metadata": {
        "colab": {
          "base_uri": "https://localhost:8080/"
        },
        "id": "WR34H7LzjeLL",
        "outputId": "dcd622a7-ec51-4ec3-bb15-70f9cfd72f56"
      },
      "execution_count": 32,
      "outputs": [
        {
          "output_type": "stream",
          "name": "stdout",
          "text": [
            "Epoch 1/20\n",
            "219/219 [==============================] - 3s 10ms/step - loss: 1.5735 - accuracy: 0.4206 - val_loss: 1.6318 - val_accuracy: 0.3167\n",
            "Epoch 2/20\n",
            "219/219 [==============================] - 2s 11ms/step - loss: 0.8180 - accuracy: 0.6823 - val_loss: 1.1240 - val_accuracy: 0.5137\n",
            "Epoch 3/20\n",
            "219/219 [==============================] - 2s 11ms/step - loss: 0.5147 - accuracy: 0.8121 - val_loss: 0.6335 - val_accuracy: 0.7517\n",
            "Epoch 4/20\n",
            "219/219 [==============================] - 2s 9ms/step - loss: 0.3613 - accuracy: 0.8657 - val_loss: 0.5537 - val_accuracy: 0.8013\n",
            "Epoch 5/20\n",
            "219/219 [==============================] - 2s 9ms/step - loss: 0.2596 - accuracy: 0.9057 - val_loss: 0.6220 - val_accuracy: 0.8040\n",
            "Epoch 6/20\n",
            "219/219 [==============================] - 2s 11ms/step - loss: 0.1925 - accuracy: 0.9347 - val_loss: 0.5409 - val_accuracy: 0.8350\n",
            "Epoch 7/20\n",
            "219/219 [==============================] - 2s 11ms/step - loss: 0.1243 - accuracy: 0.9627 - val_loss: 0.6800 - val_accuracy: 0.8070\n",
            "Epoch 8/20\n",
            "219/219 [==============================] - 2s 11ms/step - loss: 0.0934 - accuracy: 0.9710 - val_loss: 0.5486 - val_accuracy: 0.8660\n",
            "Epoch 9/20\n",
            "219/219 [==============================] - 2s 11ms/step - loss: 0.0627 - accuracy: 0.9816 - val_loss: 0.7175 - val_accuracy: 0.8410\n",
            "Epoch 10/20\n",
            "219/219 [==============================] - 2s 10ms/step - loss: 0.0507 - accuracy: 0.9869 - val_loss: 0.5748 - val_accuracy: 0.8730\n",
            "Epoch 11/20\n",
            "219/219 [==============================] - 2s 9ms/step - loss: 0.0363 - accuracy: 0.9917 - val_loss: 0.6128 - val_accuracy: 0.8757\n",
            "Epoch 12/20\n",
            "219/219 [==============================] - 2s 10ms/step - loss: 0.0449 - accuracy: 0.9857 - val_loss: 0.6985 - val_accuracy: 0.8597\n",
            "Epoch 13/20\n",
            "219/219 [==============================] - 2s 11ms/step - loss: 0.0310 - accuracy: 0.9906 - val_loss: 0.6419 - val_accuracy: 0.8793\n",
            "Epoch 14/20\n",
            "219/219 [==============================] - 2s 11ms/step - loss: 0.0507 - accuracy: 0.9836 - val_loss: 0.6955 - val_accuracy: 0.8633\n",
            "Epoch 15/20\n",
            "219/219 [==============================] - 2s 10ms/step - loss: 0.0429 - accuracy: 0.9870 - val_loss: 0.7728 - val_accuracy: 0.8473\n",
            "Epoch 16/20\n",
            "219/219 [==============================] - 2s 11ms/step - loss: 0.0339 - accuracy: 0.9907 - val_loss: 0.6914 - val_accuracy: 0.8633\n",
            "Epoch 17/20\n",
            "219/219 [==============================] - 2s 11ms/step - loss: 0.0282 - accuracy: 0.9923 - val_loss: 0.7086 - val_accuracy: 0.8657\n",
            "Epoch 18/20\n",
            "219/219 [==============================] - 2s 9ms/step - loss: 0.0288 - accuracy: 0.9903 - val_loss: 0.7601 - val_accuracy: 0.8710\n",
            "Epoch 19/20\n",
            "219/219 [==============================] - 2s 11ms/step - loss: 0.0359 - accuracy: 0.9890 - val_loss: 0.7606 - val_accuracy: 0.8560\n",
            "Epoch 20/20\n",
            "219/219 [==============================] - 2s 10ms/step - loss: 0.0241 - accuracy: 0.9924 - val_loss: 0.8602 - val_accuracy: 0.8560\n"
          ]
        }
      ]
    },
    {
      "cell_type": "code",
      "source": [
        "pred=model.predict(X_test).argmax(axis=1)\n",
        "print('Test set accuracy - {0:.02%}'.format((pred==y_test).mean()))"
      ],
      "metadata": {
        "colab": {
          "base_uri": "https://localhost:8080/"
        },
        "id": "gEs2UAXEjqmW",
        "outputId": "3e08e8d0-c6f8-4aba-e02c-105d5af6a029"
      },
      "execution_count": 33,
      "outputs": [
        {
          "output_type": "stream",
          "name": "stdout",
          "text": [
            "Test set accuracy - 85.60%\n"
          ]
        }
      ]
    },
    {
      "cell_type": "code",
      "source": [
        "pd.DataFrame(loss.history)[['loss', 'val_loss']].plot()"
      ],
      "metadata": {
        "colab": {
          "base_uri": "https://localhost:8080/",
          "height": 282
        },
        "id": "58fyofVdj5bV",
        "outputId": "99d0d3e3-0778-4474-ad0f-1094be0e2254"
      },
      "execution_count": 34,
      "outputs": [
        {
          "output_type": "execute_result",
          "data": {
            "text/plain": [
              "<matplotlib.axes._subplots.AxesSubplot at 0x7f70db546d90>"
            ]
          },
          "metadata": {},
          "execution_count": 34
        },
        {
          "output_type": "display_data",
          "data": {
            "image/png": "[encoded data removed]",
            "text/plain": [
              "<Figure size 432x288 with 1 Axes>"
            ]
          },
          "metadata": {
            "needs_background": "light"
          }
        }
      ]
    },
    {
      "cell_type": "code",
      "source": [
        "model = keras.models.Sequential()\n",
        "model.add(keras.layers.Conv2D(32, kernel_size=(3, 3), activation = 'relu', input_shape=[50,50,1])) #conv2 naudojamas gauti aukštą tikslumą paveiksliuko atpažinime\n",
        "model.add(keras.layers.BatchNormalization(axis=-1)) #leidžia kiekvienam sluoksniui mokytis nepriklausant nuo kitų sluoksnių, normalizuoja buvusių sluoksnių rezultatus\n",
        "model.add(keras.layers.MaxPooling2D(pool_size=(2,2))) #sumažina input dydį\n",
        "model.add(keras.layers.Conv2D(32, kernel_size=(3, 3), activation = 'relu', input_shape=[50,50,1])) #conv2 naudojamas gauti aukštą tikslumą paveiksliuko atpažinime\n",
        "model.add(keras.layers.BatchNormalization(axis=-1)) #leidžia kiekvienam sluoksniui mokytis nepriklausant nuo kitų sluoksnių, normalizuoja buvusių sluoksnių rezultatus\n",
        "model.add(keras.layers.MaxPooling2D(pool_size=(2,2))) #sumažina input dydį\n",
        "model.add(keras.layers.Conv2D(32, kernel_size=(3, 3), activation = 'relu', input_shape=[50,50,1])) #conv2 naudojamas gauti aukštą tikslumą paveiksliuko atpažinime\n",
        "model.add(keras.layers.BatchNormalization(axis=-1)) #leidžia kiekvienam sluoksniui mokytis nepriklausant nuo kitų sluoksnių, normalizuoja buvusių sluoksnių rezultatus\n",
        "model.add(keras.layers.MaxPooling2D(pool_size=(2,2))) #sumažina input dydį\n",
        "model.add(keras.layers.Flatten())\n",
        "model.add(keras.layers.Dense(64, activation='relu'))\n",
        "model.add(keras.layers.Dense(32, activation='relu'))\n",
        "model.add(keras.layers.Dense(16, activation='relu'))\n",
        "model.add(keras.layers.Dense(10, activation='softmax'))\n",
        "model.compile(loss='sparse_categorical_crossentropy', \n",
        "              optimizer='adam', \n",
        "              metrics=['accuracy'])\n",
        "model.summary()"
      ],
      "metadata": {
        "colab": {
          "base_uri": "https://localhost:8080/"
        },
        "id": "L1bOGf62j8jt",
        "outputId": "8cdc0fad-9079-47ae-8013-46ead047eb01"
      },
      "execution_count": 35,
      "outputs": [
        {
          "output_type": "stream",
          "name": "stdout",
          "text": [
            "Model: \"sequential_5\"\n",
            "_________________________________________________________________\n",
            " Layer (type)                Output Shape              Param #   \n",
            "=================================================================\n",
            " conv2d_3 (Conv2D)           (None, 48, 48, 32)        320       \n",
            "                                                                 \n",
            " batch_normalization_3 (Batc  (None, 48, 48, 32)       128       \n",
            " hNormalization)                                                 \n",
            "                                                                 \n",
            " max_pooling2d_3 (MaxPooling  (None, 24, 24, 32)       0         \n",
            " 2D)                                                             \n",
            "                                                                 \n",
            " conv2d_4 (Conv2D)           (None, 22, 22, 32)        9248      \n",
            "                                                                 \n",
            " batch_normalization_4 (Batc  (None, 22, 22, 32)       128       \n",
            " hNormalization)                                                 \n",
            "                                                                 \n",
            " max_pooling2d_4 (MaxPooling  (None, 11, 11, 32)       0         \n",
            " 2D)                                                             \n",
            "                                                                 \n",
            " conv2d_5 (Conv2D)           (None, 9, 9, 32)          9248      \n",
            "                                                                 \n",
            " batch_normalization_5 (Batc  (None, 9, 9, 32)         128       \n",
            " hNormalization)                                                 \n",
            "                                                                 \n",
            " max_pooling2d_5 (MaxPooling  (None, 4, 4, 32)         0         \n",
            " 2D)                                                             \n",
            "                                                                 \n",
            " flatten_5 (Flatten)         (None, 512)               0         \n",
            "                                                                 \n",
            " dense_25 (Dense)            (None, 64)                32832     \n",
            "                                                                 \n",
            " dense_26 (Dense)            (None, 32)                2080      \n",
            "                                                                 \n",
            " dense_27 (Dense)            (None, 16)                528       \n",
            "                                                                 \n",
            " dense_28 (Dense)            (None, 10)                170       \n",
            "                                                                 \n",
            "=================================================================\n",
            "Total params: 54,810\n",
            "Trainable params: 54,618\n",
            "Non-trainable params: 192\n",
            "_________________________________________________________________\n"
          ]
        }
      ]
    },
    {
      "cell_type": "code",
      "source": [
        "loss = model.fit(X_train, y_train, validation_data=(X_test, y_test), epochs=20)"
      ],
      "metadata": {
        "colab": {
          "base_uri": "https://localhost:8080/"
        },
        "id": "5aR_qcG3kB3M",
        "outputId": "6473a6a0-58a0-420d-b4ee-4116e1c645e1"
      },
      "execution_count": 37,
      "outputs": [
        {
          "output_type": "stream",
          "name": "stdout",
          "text": [
            "Epoch 1/20\n",
            "219/219 [==============================] - 4s 14ms/step - loss: 1.2833 - accuracy: 0.5044 - val_loss: 2.1365 - val_accuracy: 0.1997\n",
            "Epoch 2/20\n",
            "219/219 [==============================] - 3s 12ms/step - loss: 0.3887 - accuracy: 0.8757 - val_loss: 3.8578 - val_accuracy: 0.1547\n",
            "Epoch 3/20\n",
            "219/219 [==============================] - 3s 12ms/step - loss: 0.2238 - accuracy: 0.9444 - val_loss: 0.8224 - val_accuracy: 0.6640\n",
            "Epoch 4/20\n",
            "219/219 [==============================] - 3s 12ms/step - loss: 0.1839 - accuracy: 0.9551 - val_loss: 0.2141 - val_accuracy: 0.9550\n",
            "Epoch 5/20\n",
            "219/219 [==============================] - 3s 13ms/step - loss: 0.1340 - accuracy: 0.9710 - val_loss: 0.1803 - val_accuracy: 0.9697\n",
            "Epoch 6/20\n",
            "219/219 [==============================] - 3s 12ms/step - loss: 0.1327 - accuracy: 0.9659 - val_loss: 0.2976 - val_accuracy: 0.9237\n",
            "Epoch 7/20\n",
            "219/219 [==============================] - 3s 13ms/step - loss: 0.1072 - accuracy: 0.9741 - val_loss: 0.2407 - val_accuracy: 0.9410\n",
            "Epoch 8/20\n",
            "219/219 [==============================] - 3s 12ms/step - loss: 0.0917 - accuracy: 0.9773 - val_loss: 0.2299 - val_accuracy: 0.9583\n",
            "Epoch 9/20\n",
            "219/219 [==============================] - 3s 13ms/step - loss: 0.0857 - accuracy: 0.9791 - val_loss: 0.2834 - val_accuracy: 0.9333\n",
            "Epoch 10/20\n",
            "219/219 [==============================] - 3s 12ms/step - loss: 0.0834 - accuracy: 0.9791 - val_loss: 0.2473 - val_accuracy: 0.9523\n",
            "Epoch 11/20\n",
            "219/219 [==============================] - 3s 13ms/step - loss: 0.0734 - accuracy: 0.9803 - val_loss: 0.2388 - val_accuracy: 0.9513\n",
            "Epoch 12/20\n",
            "219/219 [==============================] - 3s 13ms/step - loss: 0.0811 - accuracy: 0.9781 - val_loss: 0.2015 - val_accuracy: 0.9743\n",
            "Epoch 13/20\n",
            "219/219 [==============================] - 3s 12ms/step - loss: 0.0595 - accuracy: 0.9824 - val_loss: 0.2130 - val_accuracy: 0.9697\n",
            "Epoch 14/20\n",
            "219/219 [==============================] - 3s 13ms/step - loss: 0.0540 - accuracy: 0.9841 - val_loss: 0.1760 - val_accuracy: 0.9770\n",
            "Epoch 15/20\n",
            "219/219 [==============================] - 3s 12ms/step - loss: 0.0499 - accuracy: 0.9849 - val_loss: 0.2468 - val_accuracy: 0.9580\n",
            "Epoch 16/20\n",
            "219/219 [==============================] - 3s 12ms/step - loss: 0.0585 - accuracy: 0.9811 - val_loss: 0.2477 - val_accuracy: 0.9560\n",
            "Epoch 17/20\n",
            "219/219 [==============================] - 3s 13ms/step - loss: 0.0534 - accuracy: 0.9827 - val_loss: 0.2312 - val_accuracy: 0.9663\n",
            "Epoch 18/20\n",
            "219/219 [==============================] - 3s 13ms/step - loss: 0.0546 - accuracy: 0.9829 - val_loss: 0.2298 - val_accuracy: 0.9640\n",
            "Epoch 19/20\n",
            "219/219 [==============================] - 3s 14ms/step - loss: 0.0307 - accuracy: 0.9900 - val_loss: 0.2285 - val_accuracy: 0.9737\n",
            "Epoch 20/20\n",
            "219/219 [==============================] - 3s 13ms/step - loss: 0.0351 - accuracy: 0.9901 - val_loss: 0.2986 - val_accuracy: 0.9477\n"
          ]
        }
      ]
    },
    {
      "cell_type": "code",
      "source": [
        "pd.DataFrame(loss.history)[['loss', 'val_loss']].plot()"
      ],
      "metadata": {
        "colab": {
          "base_uri": "https://localhost:8080/",
          "height": 284
        },
        "id": "a8ixf1QDkDw1",
        "outputId": "89eb20c1-f1ef-4195-9aec-841d4e54b23f"
      },
      "execution_count": 38,
      "outputs": [
        {
          "output_type": "execute_result",
          "data": {
            "text/plain": [
              "<matplotlib.axes._subplots.AxesSubplot at 0x7f7063460c50>"
            ]
          },
          "metadata": {},
          "execution_count": 38
        },
        {
          "output_type": "display_data",
          "data": {
            "image/png": "[encoded data removed]",
            "text/plain": [
              "<Figure size 432x288 with 1 Axes>"
            ]
          },
          "metadata": {
            "needs_background": "light"
          }
        }
      ]
    },
    {
      "cell_type": "code",
      "source": [
        "model = keras.models.Sequential()\n",
        "model.add(keras.layers.Conv2D(32, kernel_size=(3, 3), activation = 'relu', input_shape=[50,50,1])) #conv2 naudojamas gauti aukštą tikslumą paveiksliuko atpažinime\n",
        "model.add(keras.layers.BatchNormalization(axis=-1)) #leidžia kiekvienam sluoksniui mokytis nepriklausant nuo kitų sluoksnių, normalizuoja buvusių sluoksnių rezultatus\n",
        "model.add(keras.layers.MaxPooling2D(pool_size=(2,2))) #sumažina input dydį\n",
        "model.add(keras.layers.Conv2D(32, kernel_size=(3, 3), activation = 'relu', input_shape=[50,50,1])) #conv2 naudojamas gauti aukštą tikslumą paveiksliuko atpažinime\n",
        "model.add(keras.layers.BatchNormalization(axis=-1)) #leidžia kiekvienam sluoksniui mokytis nepriklausant nuo kitų sluoksnių, normalizuoja buvusių sluoksnių rezultatus\n",
        "model.add(keras.layers.MaxPooling2D(pool_size=(2,2))) #sumažina input dydį\n",
        "model.add(keras.layers.Flatten())\n",
        "model.add(keras.layers.Dense(128, activation='relu'))\n",
        "model.add(keras.layers.Dense(64, activation='relu'))\n",
        "model.add(keras.layers.Dense(32, activation='relu'))\n",
        "model.add(keras.layers.Dense(16, activation='relu'))\n",
        "model.add(keras.layers.Dense(10, activation='softmax'))\n",
        "model.compile(loss='sparse_categorical_crossentropy', \n",
        "              optimizer='adam', \n",
        "              metrics=['accuracy'])\n",
        "model.summary()"
      ],
      "metadata": {
        "colab": {
          "base_uri": "https://localhost:8080/"
        },
        "id": "PCVn2kKVlCxR",
        "outputId": "5eb9ddf4-0b35-4407-9adc-16e9e006390d"
      },
      "execution_count": 39,
      "outputs": [
        {
          "output_type": "stream",
          "name": "stdout",
          "text": [
            "Model: \"sequential_6\"\n",
            "_________________________________________________________________\n",
            " Layer (type)                Output Shape              Param #   \n",
            "=================================================================\n",
            " conv2d_6 (Conv2D)           (None, 48, 48, 32)        320       \n",
            "                                                                 \n",
            " batch_normalization_6 (Batc  (None, 48, 48, 32)       128       \n",
            " hNormalization)                                                 \n",
            "                                                                 \n",
            " max_pooling2d_6 (MaxPooling  (None, 24, 24, 32)       0         \n",
            " 2D)                                                             \n",
            "                                                                 \n",
            " conv2d_7 (Conv2D)           (None, 22, 22, 32)        9248      \n",
            "                                                                 \n",
            " batch_normalization_7 (Batc  (None, 22, 22, 32)       128       \n",
            " hNormalization)                                                 \n",
            "                                                                 \n",
            " max_pooling2d_7 (MaxPooling  (None, 11, 11, 32)       0         \n",
            " 2D)                                                             \n",
            "                                                                 \n",
            " flatten_6 (Flatten)         (None, 3872)              0         \n",
            "                                                                 \n",
            " dense_29 (Dense)            (None, 128)               495744    \n",
            "                                                                 \n",
            " dense_30 (Dense)            (None, 64)                8256      \n",
            "                                                                 \n",
            " dense_31 (Dense)            (None, 32)                2080      \n",
            "                                                                 \n",
            " dense_32 (Dense)            (None, 16)                528       \n",
            "                                                                 \n",
            " dense_33 (Dense)            (None, 10)                170       \n",
            "                                                                 \n",
            "=================================================================\n",
            "Total params: 516,602\n",
            "Trainable params: 516,474\n",
            "Non-trainable params: 128\n",
            "_________________________________________________________________\n"
          ]
        }
      ]
    },
    {
      "cell_type": "code",
      "source": [
        "loss = model.fit(X_train, y_train, validation_data=(X_test, y_test), epochs=20)"
      ],
      "metadata": {
        "colab": {
          "base_uri": "https://localhost:8080/"
        },
        "id": "j4Av-RsulQRg",
        "outputId": "f8db226b-2ee0-4e0c-c106-21fa0804388d"
      },
      "execution_count": 40,
      "outputs": [
        {
          "output_type": "stream",
          "name": "stdout",
          "text": [
            "Epoch 1/20\n",
            "219/219 [==============================] - 4s 14ms/step - loss: 1.1610 - accuracy: 0.5431 - val_loss: 3.5144 - val_accuracy: 0.1830\n",
            "Epoch 2/20\n",
            "219/219 [==============================] - 3s 13ms/step - loss: 0.4810 - accuracy: 0.8304 - val_loss: 7.6736 - val_accuracy: 0.1847\n",
            "Epoch 3/20\n",
            "219/219 [==============================] - 3s 12ms/step - loss: 0.2447 - accuracy: 0.9279 - val_loss: 2.8451 - val_accuracy: 0.3617\n",
            "Epoch 4/20\n",
            "219/219 [==============================] - 3s 12ms/step - loss: 0.1370 - accuracy: 0.9673 - val_loss: 0.4177 - val_accuracy: 0.8763\n",
            "Epoch 5/20\n",
            "219/219 [==============================] - 3s 13ms/step - loss: 0.0923 - accuracy: 0.9764 - val_loss: 0.3179 - val_accuracy: 0.9033\n",
            "Epoch 6/20\n",
            "219/219 [==============================] - 3s 13ms/step - loss: 0.0691 - accuracy: 0.9813 - val_loss: 0.2172 - val_accuracy: 0.9633\n",
            "Epoch 7/20\n",
            "219/219 [==============================] - 3s 12ms/step - loss: 0.0620 - accuracy: 0.9833 - val_loss: 0.3280 - val_accuracy: 0.9290\n",
            "Epoch 8/20\n",
            "219/219 [==============================] - 3s 12ms/step - loss: 0.0438 - accuracy: 0.9871 - val_loss: 0.2535 - val_accuracy: 0.9580\n",
            "Epoch 9/20\n",
            "219/219 [==============================] - 3s 13ms/step - loss: 0.0513 - accuracy: 0.9844 - val_loss: 0.2769 - val_accuracy: 0.9507\n",
            "Epoch 10/20\n",
            "219/219 [==============================] - 3s 13ms/step - loss: 0.0448 - accuracy: 0.9879 - val_loss: 0.2252 - val_accuracy: 0.9690\n",
            "Epoch 11/20\n",
            "219/219 [==============================] - 3s 13ms/step - loss: 0.0476 - accuracy: 0.9857 - val_loss: 0.3125 - val_accuracy: 0.9427\n",
            "Epoch 12/20\n",
            "219/219 [==============================] - 3s 12ms/step - loss: 0.0513 - accuracy: 0.9844 - val_loss: 0.4072 - val_accuracy: 0.9167\n",
            "Epoch 13/20\n",
            "219/219 [==============================] - 3s 13ms/step - loss: 0.0399 - accuracy: 0.9884 - val_loss: 0.3097 - val_accuracy: 0.9390\n",
            "Epoch 14/20\n",
            "219/219 [==============================] - 3s 12ms/step - loss: 0.0379 - accuracy: 0.9890 - val_loss: 0.3105 - val_accuracy: 0.9397\n",
            "Epoch 15/20\n",
            "219/219 [==============================] - 3s 13ms/step - loss: 0.0359 - accuracy: 0.9891 - val_loss: 0.2830 - val_accuracy: 0.9600\n",
            "Epoch 16/20\n",
            "219/219 [==============================] - 3s 13ms/step - loss: 0.0242 - accuracy: 0.9930 - val_loss: 0.3131 - val_accuracy: 0.9627\n",
            "Epoch 17/20\n",
            "219/219 [==============================] - 3s 12ms/step - loss: 0.0128 - accuracy: 0.9956 - val_loss: 0.2914 - val_accuracy: 0.9680\n",
            "Epoch 18/20\n",
            "219/219 [==============================] - 3s 12ms/step - loss: 0.0254 - accuracy: 0.9926 - val_loss: 0.4152 - val_accuracy: 0.9057\n",
            "Epoch 19/20\n",
            "219/219 [==============================] - 3s 12ms/step - loss: 0.0245 - accuracy: 0.9919 - val_loss: 0.2623 - val_accuracy: 0.9713\n",
            "Epoch 20/20\n",
            "219/219 [==============================] - 3s 13ms/step - loss: 0.0261 - accuracy: 0.9920 - val_loss: 0.3019 - val_accuracy: 0.9603\n"
          ]
        }
      ]
    },
    {
      "cell_type": "code",
      "source": [
        "pd.DataFrame(loss.history)[['loss', 'val_loss']].plot()"
      ],
      "metadata": {
        "colab": {
          "base_uri": "https://localhost:8080/",
          "height": 286
        },
        "id": "KFWd9XGUlSkV",
        "outputId": "f2261da5-41ab-4208-9f58-16c9d8e400b2"
      },
      "execution_count": 41,
      "outputs": [
        {
          "output_type": "execute_result",
          "data": {
            "text/plain": [
              "<matplotlib.axes._subplots.AxesSubplot at 0x7f706313fc90>"
            ]
          },
          "metadata": {},
          "execution_count": 41
        },
        {
          "output_type": "display_data",
          "data": {
            "image/png": "[encoded data removed]",
            "text/plain": [
              "<Figure size 432x288 with 1 Axes>"
            ]
          },
          "metadata": {
            "needs_background": "light"
          }
        }
      ]
    },
    {
      "cell_type": "code",
      "source": [
        "model = keras.models.Sequential()\n",
        "model.add(keras.layers.Conv2D(32, kernel_size=(3, 3), activation = 'relu', input_shape=[50,50,1])) #conv2 naudojamas gauti aukštą tikslumą paveiksliuko atpažinime\n",
        "model.add(keras.layers.BatchNormalization(axis=-1)) #leidžia kiekvienam sluoksniui mokytis nepriklausant nuo kitų sluoksnių, normalizuoja buvusių sluoksnių rezultatus\n",
        "model.add(keras.layers.MaxPooling2D(pool_size=(2,2))) #sumažina input dydį\n",
        "model.add(keras.layers.Conv2D(32, kernel_size=(3, 3), activation = 'relu', input_shape=[50,50,1])) #conv2 naudojamas gauti aukštą tikslumą paveiksliuko atpažinime\n",
        "model.add(keras.layers.BatchNormalization(axis=-1)) #leidžia kiekvienam sluoksniui mokytis nepriklausant nuo kitų sluoksnių, normalizuoja buvusių sluoksnių rezultatus\n",
        "model.add(keras.layers.MaxPooling2D(pool_size=(2,2))) #sumažina input dydį\n",
        "model.add(keras.layers.Conv2D(32, kernel_size=(3, 3), activation = 'relu', input_shape=[50,50,1])) #conv2 naudojamas gauti aukštą tikslumą paveiksliuko atpažinime\n",
        "model.add(keras.layers.BatchNormalization(axis=-1)) #leidžia kiekvienam sluoksniui mokytis nepriklausant nuo kitų sluoksnių, normalizuoja buvusių sluoksnių rezultatus\n",
        "model.add(keras.layers.MaxPooling2D(pool_size=(2,2))) #sumažina input dydį\n",
        "model.add(keras.layers.Flatten())\n",
        "model.add(keras.layers.Dense(128, activation='relu'))\n",
        "model.add(keras.layers.Dense(64, activation='relu'))\n",
        "model.add(keras.layers.Dense(32, activation='relu'))\n",
        "model.add(keras.layers.Dense(16, activation='relu'))\n",
        "model.add(keras.layers.Dense(10, activation='softmax'))\n",
        "model.compile(loss='sparse_categorical_crossentropy', \n",
        "              optimizer='adam', \n",
        "              metrics=['accuracy'])\n",
        "model.summary()"
      ],
      "metadata": {
        "colab": {
          "base_uri": "https://localhost:8080/"
        },
        "id": "hwODIgQklyci",
        "outputId": "031800f1-0e81-4a27-d336-be2c1cdbee38"
      },
      "execution_count": 42,
      "outputs": [
        {
          "output_type": "stream",
          "name": "stdout",
          "text": [
            "Model: \"sequential_7\"\n",
            "_________________________________________________________________\n",
            " Layer (type)                Output Shape              Param #   \n",
            "=================================================================\n",
            " conv2d_8 (Conv2D)           (None, 48, 48, 32)        320       \n",
            "                                                                 \n",
            " batch_normalization_8 (Batc  (None, 48, 48, 32)       128       \n",
            " hNormalization)                                                 \n",
            "                                                                 \n",
            " max_pooling2d_8 (MaxPooling  (None, 24, 24, 32)       0         \n",
            " 2D)                                                             \n",
            "                                                                 \n",
            " conv2d_9 (Conv2D)           (None, 22, 22, 32)        9248      \n",
            "                                                                 \n",
            " batch_normalization_9 (Batc  (None, 22, 22, 32)       128       \n",
            " hNormalization)                                                 \n",
            "                                                                 \n",
            " max_pooling2d_9 (MaxPooling  (None, 11, 11, 32)       0         \n",
            " 2D)                                                             \n",
            "                                                                 \n",
            " conv2d_10 (Conv2D)          (None, 9, 9, 32)          9248      \n",
            "                                                                 \n",
            " batch_normalization_10 (Bat  (None, 9, 9, 32)         128       \n",
            " chNormalization)                                                \n",
            "                                                                 \n",
            " max_pooling2d_10 (MaxPoolin  (None, 4, 4, 32)         0         \n",
            " g2D)                                                            \n",
            "                                                                 \n",
            " flatten_7 (Flatten)         (None, 512)               0         \n",
            "                                                                 \n",
            " dense_34 (Dense)            (None, 128)               65664     \n",
            "                                                                 \n",
            " dense_35 (Dense)            (None, 64)                8256      \n",
            "                                                                 \n",
            " dense_36 (Dense)            (None, 32)                2080      \n",
            "                                                                 \n",
            " dense_37 (Dense)            (None, 16)                528       \n",
            "                                                                 \n",
            " dense_38 (Dense)            (None, 10)                170       \n",
            "                                                                 \n",
            "=================================================================\n",
            "Total params: 95,898\n",
            "Trainable params: 95,706\n",
            "Non-trainable params: 192\n",
            "_________________________________________________________________\n"
          ]
        }
      ]
    },
    {
      "cell_type": "code",
      "source": [
        "loss = model.fit(X_train, y_train, validation_data=(X_test, y_test), epochs=20)"
      ],
      "metadata": {
        "colab": {
          "base_uri": "https://localhost:8080/"
        },
        "id": "Rc7DeeyumAug",
        "outputId": "46392b11-a5d5-4931-d583-d5ac59fd6639"
      },
      "execution_count": 44,
      "outputs": [
        {
          "output_type": "stream",
          "name": "stdout",
          "text": [
            "Epoch 1/20\n",
            "219/219 [==============================] - 5s 13ms/step - loss: 0.9928 - accuracy: 0.6186 - val_loss: 3.0252 - val_accuracy: 0.2237\n",
            "Epoch 2/20\n",
            "219/219 [==============================] - 3s 13ms/step - loss: 0.3020 - accuracy: 0.9179 - val_loss: 4.0992 - val_accuracy: 0.1953\n",
            "Epoch 3/20\n",
            "219/219 [==============================] - 3s 12ms/step - loss: 0.1794 - accuracy: 0.9596 - val_loss: 1.0695 - val_accuracy: 0.6347\n",
            "Epoch 4/20\n",
            "219/219 [==============================] - 3s 13ms/step - loss: 0.1370 - accuracy: 0.9714 - val_loss: 0.1761 - val_accuracy: 0.9693\n",
            "Epoch 5/20\n",
            "219/219 [==============================] - 3s 13ms/step - loss: 0.1056 - accuracy: 0.9783 - val_loss: 0.1912 - val_accuracy: 0.9630\n",
            "Epoch 6/20\n",
            "219/219 [==============================] - 3s 12ms/step - loss: 0.0993 - accuracy: 0.9746 - val_loss: 0.3013 - val_accuracy: 0.9210\n",
            "Epoch 7/20\n",
            "219/219 [==============================] - 3s 13ms/step - loss: 0.0926 - accuracy: 0.9751 - val_loss: 0.1816 - val_accuracy: 0.9713\n",
            "Epoch 8/20\n",
            "219/219 [==============================] - 3s 13ms/step - loss: 0.0803 - accuracy: 0.9774 - val_loss: 0.2547 - val_accuracy: 0.9477\n",
            "Epoch 9/20\n",
            "219/219 [==============================] - 3s 13ms/step - loss: 0.0664 - accuracy: 0.9814 - val_loss: 0.2890 - val_accuracy: 0.9400\n",
            "Epoch 10/20\n",
            "219/219 [==============================] - 3s 12ms/step - loss: 0.0567 - accuracy: 0.9849 - val_loss: 0.1928 - val_accuracy: 0.9723\n",
            "Epoch 11/20\n",
            "219/219 [==============================] - 3s 13ms/step - loss: 0.0566 - accuracy: 0.9831 - val_loss: 0.2358 - val_accuracy: 0.9610\n",
            "Epoch 12/20\n",
            "219/219 [==============================] - 3s 12ms/step - loss: 0.0452 - accuracy: 0.9874 - val_loss: 0.2113 - val_accuracy: 0.9707\n",
            "Epoch 13/20\n",
            "219/219 [==============================] - 3s 13ms/step - loss: 0.0587 - accuracy: 0.9816 - val_loss: 0.2035 - val_accuracy: 0.9633\n",
            "Epoch 14/20\n",
            "219/219 [==============================] - 3s 12ms/step - loss: 0.0444 - accuracy: 0.9860 - val_loss: 0.2380 - val_accuracy: 0.9740\n",
            "Epoch 15/20\n",
            "219/219 [==============================] - 3s 13ms/step - loss: 0.0354 - accuracy: 0.9881 - val_loss: 0.4228 - val_accuracy: 0.9287\n",
            "Epoch 16/20\n",
            "219/219 [==============================] - 3s 12ms/step - loss: 0.0387 - accuracy: 0.9864 - val_loss: 0.2564 - val_accuracy: 0.9537\n",
            "Epoch 17/20\n",
            "219/219 [==============================] - 3s 13ms/step - loss: 0.0469 - accuracy: 0.9861 - val_loss: 0.2431 - val_accuracy: 0.9643\n",
            "Epoch 18/20\n",
            "219/219 [==============================] - 3s 13ms/step - loss: 0.0443 - accuracy: 0.9860 - val_loss: 0.2104 - val_accuracy: 0.9723\n",
            "Epoch 19/20\n",
            "219/219 [==============================] - 3s 12ms/step - loss: 0.0260 - accuracy: 0.9914 - val_loss: 0.1895 - val_accuracy: 0.9753\n",
            "Epoch 20/20\n",
            "219/219 [==============================] - 3s 13ms/step - loss: 0.0289 - accuracy: 0.9920 - val_loss: 0.2142 - val_accuracy: 0.9737\n"
          ]
        }
      ]
    },
    {
      "cell_type": "code",
      "source": [
        "pd.DataFrame(loss.history)[['loss', 'val_loss']].plot()"
      ],
      "metadata": {
        "colab": {
          "base_uri": "https://localhost:8080/",
          "height": 282
        },
        "id": "0CGwRabdmFQj",
        "outputId": "21a5b6ea-7384-413f-d62d-5a361a64016c"
      },
      "execution_count": 45,
      "outputs": [
        {
          "output_type": "execute_result",
          "data": {
            "text/plain": [
              "<matplotlib.axes._subplots.AxesSubplot at 0x7f7062667bd0>"
            ]
          },
          "metadata": {},
          "execution_count": 45
        },
        {
          "output_type": "display_data",
          "data": {
            "image/png": "[encoded data removed]",
            "text/plain": [
              "<Figure size 432x288 with 1 Axes>"
            ]
          },
          "metadata": {
            "needs_background": "light"
          }
        }
      ]
    },
    {
      "cell_type": "code",
      "source": [
        "model.save('model1.h5')"
      ],
      "metadata": {
        "id": "Kmtp5CxXmZq7"
      },
      "execution_count": 46,
      "outputs": []
    },
    {
      "cell_type": "code",
      "source": [
        ""
      ],
      "metadata": {
        "id": "97-eNVQ5m7tc"
      },
      "execution_count": null,
      "outputs": []
    }
  ]
}